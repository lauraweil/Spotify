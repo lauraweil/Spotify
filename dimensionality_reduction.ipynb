{
 "cells": [
  {
   "cell_type": "code",
   "execution_count": 2,
   "metadata": {},
   "outputs": [],
   "source": [
    "import pandas as pd\n",
    "audio_features = pd.read_csv('../../S2_Machine_Learning/SpotGenTrack/Features Extracted/low_level_audio_features.csv', index_col = 0)"
   ]
  },
  {
   "cell_type": "code",
   "execution_count": 3,
   "metadata": {},
   "outputs": [
    {
     "name": "stdout",
     "output_type": "stream",
     "text": [
      "        Chroma_1  Chroma_10  Chroma_11  Chroma_12  Chroma_2  Chroma_3  \\\n",
      "0       0.438296   0.472769   0.427441   0.436688  0.467697  0.493862   \n",
      "1       0.596605   0.368288   0.285263   0.302211  0.905805  0.510909   \n",
      "2       0.505224   0.500420   0.506773   0.488258  0.498356  0.573582   \n",
      "3       0.525690   0.666469   0.579492   0.498920  0.598528  0.631578   \n",
      "4       0.632214   0.503698   0.496942   0.611532  0.634613  0.697265   \n",
      "...          ...        ...        ...        ...       ...       ...   \n",
      "101904  0.490023   0.515784   0.486486   0.423909  0.560561  0.611700   \n",
      "101905  0.363989   0.549431   0.540238   0.379981  0.365865  0.295325   \n",
      "101906  0.563928   0.537108   0.501177   0.484612  0.527684  0.526852   \n",
      "101907  0.557407   0.628247   0.609026   0.545492  0.446852  0.397354   \n",
      "101908  0.508732   0.503045   0.535364   0.488872  0.500202  0.606657   \n",
      "\n",
      "        Chroma_4  Chroma_5  Chroma_6  Chroma_7  ...  Tonnetz_4  Tonnetz_5  \\\n",
      "0       0.512244  0.568658  0.560524  0.513068  ...   0.018434  -0.001759   \n",
      "1       0.221708  0.311248  0.491277  0.416469  ...   0.046941   0.005665   \n",
      "2       0.690761  0.742858  0.686282  0.657118  ...  -0.006929   0.004968   \n",
      "3       0.501693  0.500468  0.587101  0.546499  ...  -0.027382  -0.009689   \n",
      "4       0.557012  0.530836  0.444279  0.466659  ...   0.003728  -0.002780   \n",
      "...          ...       ...       ...       ...  ...        ...        ...   \n",
      "101904  0.686977  0.542182  0.421389  0.447631  ...   0.028683   0.004543   \n",
      "101905  0.289080  0.309034  0.510618  0.662446  ...  -0.022260   0.003677   \n",
      "101906  0.412029  0.456356  0.583086  0.493071  ...  -0.009143  -0.009882   \n",
      "101907  0.382835  0.427094  0.441668  0.425033  ...   0.010118   0.005859   \n",
      "101908  0.577474  0.518349  0.547779  0.467463  ...  -0.028385  -0.005192   \n",
      "\n",
      "        Tonnetz_6       ZCR  entropy_energy  spectral_bandwith  \\\n",
      "0       -0.006392  0.067966      -89.113389        2564.247669   \n",
      "1       -0.026928  0.047308     -127.945239        2370.181495   \n",
      "2        0.008947  0.058463     -238.285176        2973.294736   \n",
      "3        0.001402  0.080547     -148.785733        2716.749483   \n",
      "4       -0.010120  0.084945     -176.618314        3096.692876   \n",
      "...           ...       ...             ...                ...   \n",
      "101904  -0.000942  0.117307      -95.391313        3598.339297   \n",
      "101905  -0.003719  0.037386     -217.259820        2700.338523   \n",
      "101906   0.001435  0.098640     -114.591634        3665.432275   \n",
      "101907   0.006781  0.108953     -119.920602        3384.431479   \n",
      "101908   0.004513  0.063172     -119.976031        3564.752422   \n",
      "\n",
      "        spectral_centroid  spectral_rollOff_max  spectral_rollOff_min  \\\n",
      "0             3558.400706           4508.506071            367.831109   \n",
      "1             1499.689590           3647.394611            230.165275   \n",
      "2             1543.550034           5623.349330            187.290534   \n",
      "3             3017.248824           5799.931595            160.940693   \n",
      "4             2118.686992           6560.018666            229.131948   \n",
      "...                   ...                   ...                   ...   \n",
      "101904        3990.529412           8276.341621            219.340340   \n",
      "101905        2720.040911           3919.184635             99.099401   \n",
      "101906        3187.100070           8196.575436            201.765447   \n",
      "101907        2560.859407           7309.889131            234.381916   \n",
      "101908        6388.064667           6681.409598            129.040886   \n",
      "\n",
      "                      track_id  \n",
      "0       19YEk4OVQZn3GfoxbpNrU6  \n",
      "1       6zJms3MX11Qu1IKF44LoRW  \n",
      "2       1WugzepXsLjnsM0K4UaWYc  \n",
      "3       1pSlTbCrUJ9rmwj5CNNrX4  \n",
      "4       5yruvWJs3mL00w4slpCVzN  \n",
      "...                        ...  \n",
      "101904  64iZLIYuqRR8rNedN0Yvnh  \n",
      "101905  0qo0ibv3YoVwJ3jKjpB8lQ  \n",
      "101906  1B7tV3WzEnDUS7wXSKDXk3  \n",
      "101907  7DVr6Az7HukAZeK7v3cGZx  \n",
      "101908  6Tgjsd4bD8eb74HOTCr6LC  \n",
      "\n",
      "[101909 rows x 208 columns]\n"
     ]
    }
   ],
   "source": [
    "print(audio_features)"
   ]
  },
  {
   "cell_type": "code",
   "execution_count": 4,
   "metadata": {},
   "outputs": [],
   "source": [
    "# Python ≥3.5 is required\n",
    "import sys\n",
    "assert sys.version_info >= (3, 5)\n",
    "\n",
    "# Scikit-Learn ≥0.20 is required\n",
    "import sklearn\n",
    "assert sklearn.__version__ >= \"0.20\"\n",
    "\n",
    "# Common imports\n",
    "import numpy as np\n",
    "import os\n",
    "\n",
    "# to make this notebook's output stable across runs\n",
    "np.random.seed(42)\n",
    "\n",
    "# To plot pretty figures\n",
    "%matplotlib inline\n",
    "import matplotlib as mpl\n",
    "import matplotlib.pyplot as plt\n",
    "mpl.rc('axes', labelsize=14)\n",
    "mpl.rc('xtick', labelsize=12)\n",
    "mpl.rc('ytick', labelsize=12)\n",
    "\n",
    "def save_fig(fig_id, tight_layout=True, fig_extension=\"png\", resolution=300):\n",
    "    path = os.path.join(IMAGES_PATH, fig_id + \".\" + fig_extension)\n",
    "    print(\"Saving figure\", fig_id)\n",
    "    if tight_layout:\n",
    "        plt.tight_layout()\n",
    "    plt.savefig(path, format=fig_extension, dpi=resolution)\n",
    "\n",
    "import warnings\n",
    "warnings.filterwarnings(action=\"ignore\", message=\"^internal gelsd\")"
   ]
  },
  {
   "cell_type": "code",
   "execution_count": 5,
   "metadata": {},
   "outputs": [],
   "source": [
    "from sklearn.decomposition import PCA\n",
    "from sklearn.preprocessing import StandardScaler"
   ]
  },
  {
   "cell_type": "code",
   "execution_count": 7,
   "metadata": {},
   "outputs": [],
   "source": [
    "#Separate numeric and string columns (track_id) as PCA can only be performed on numeric columns\n",
    "numeric_columns = audio_features.select_dtypes(include=['number']).columns\n",
    "non_numeric_columns = audio_features.select_dtypes(exclude=['number']).columns\n",
    "\n",
    "numeric_data = audio_features[numeric_columns]\n",
    "non_numeric_data = audio_features[non_numeric_columns]"
   ]
  },
  {
   "cell_type": "code",
   "execution_count": 8,
   "metadata": {},
   "outputs": [],
   "source": [
    "#Standardize numeric data\n",
    "scaler = StandardScaler()\n",
    "scaled_numeric_data = scaler.fit_transform(numeric_data)"
   ]
  },
  {
   "cell_type": "code",
   "execution_count": 9,
   "metadata": {},
   "outputs": [],
   "source": [
    "#Here choose number of columns to which data should be reduced and perform PCA\n",
    "n_components = 10\n",
    "pca = PCA(n_components=n_components)\n",
    "principal_components = pca.fit_transform(scaled_numeric_data)"
   ]
  },
  {
   "cell_type": "code",
   "execution_count": 10,
   "metadata": {},
   "outputs": [],
   "source": [
    "#Create new dataframe with principal components\n",
    "principal_df = pd.DataFrame(data=principal_components, columns=[f'PC{i}' for i in range(1, n_components+1)])"
   ]
  },
  {
   "cell_type": "code",
   "execution_count": 11,
   "metadata": {},
   "outputs": [],
   "source": [
    "#Concatenate non-numeric data again with the new dataframe\n",
    "processed_data = pd.concat([non_numeric_data.reset_index(drop=True), principal_df], axis=1)"
   ]
  },
  {
   "cell_type": "code",
   "execution_count": 12,
   "metadata": {},
   "outputs": [
    {
     "name": "stdout",
     "output_type": "stream",
     "text": [
      "                      track_id        PC1       PC2       PC3       PC4  \\\n",
      "0       19YEk4OVQZn3GfoxbpNrU6  -9.373173  1.207779  2.579305  5.509296   \n",
      "1       6zJms3MX11Qu1IKF44LoRW  -4.340399 -4.404526  6.123831 -0.176494   \n",
      "2       1WugzepXsLjnsM0K4UaWYc   2.786318  0.128274 -0.785933 -2.562182   \n",
      "3       1pSlTbCrUJ9rmwj5CNNrX4  14.035909 -8.195006 -0.928506  6.569275   \n",
      "4       5yruvWJs3mL00w4slpCVzN   5.757036 -3.013227  1.666218  2.456897   \n",
      "...                        ...        ...       ...       ...       ...   \n",
      "101904  64iZLIYuqRR8rNedN0Yvnh   7.218389  0.844754 -5.011435  1.988886   \n",
      "101905  0qo0ibv3YoVwJ3jKjpB8lQ  -3.587573  0.517763 -1.047109 -1.839261   \n",
      "101906  1B7tV3WzEnDUS7wXSKDXk3  12.685639 -2.726685 -0.759648  0.255591   \n",
      "101907  7DVr6Az7HukAZeK7v3cGZx  12.616335 -4.502690 -3.434059  6.583819   \n",
      "101908  6Tgjsd4bD8eb74HOTCr6LC  -3.007530  2.915291 -2.026887 -0.163065   \n",
      "\n",
      "             PC5       PC6       PC7       PC8       PC9      PC10  \n",
      "0      -3.643718  0.024255 -0.124427  0.495155 -1.164361  0.131222  \n",
      "1      -2.760533  0.781439 -1.143828  3.256039 -2.268848  1.057796  \n",
      "2       1.076132 -2.660654  2.718090 -1.519063 -2.732262 -1.554593  \n",
      "3       3.406150 -1.104796 -0.465820  1.208018 -2.252315  1.024422  \n",
      "4      -1.832164 -0.731869 -1.077906  1.489354  0.797979 -1.173253  \n",
      "...          ...       ...       ...       ...       ...       ...  \n",
      "101904 -1.894303  2.742907 -1.606704 -2.982443  3.185864 -0.438308  \n",
      "101905  2.758782  0.122256  1.038054 -1.309799 -0.855136  0.940706  \n",
      "101906 -3.738063  2.306615 -2.237258  3.686070  0.486936  2.603666  \n",
      "101907  0.080306  1.334139 -3.585854  3.169641  3.204144  1.816934  \n",
      "101908 -3.428582  1.248228  0.811609  0.428708 -0.329964  2.445068  \n",
      "\n",
      "[101909 rows x 11 columns]\n"
     ]
    }
   ],
   "source": [
    "print(processed_data)"
   ]
  },
  {
   "cell_type": "code",
   "execution_count": 13,
   "metadata": {},
   "outputs": [],
   "source": [
    "pca_full = PCA()\n",
    "principal_components_full = pca_full.fit_transform(scaled_numeric_data)\n",
    "explained_variance_ratio = pca_full.explained_variance_ratio_\n",
    "cumulative_explained_variance = explained_variance_ratio.cumsum()"
   ]
  },
  {
   "cell_type": "code",
   "execution_count": 14,
   "metadata": {},
   "outputs": [
    {
     "data": {
      "image/png": "[encoded data removed]",
      "text/plain": [
       "<Figure size 1200x600 with 1 Axes>"
      ]
     },
     "metadata": {},
     "output_type": "display_data"
    }
   ],
   "source": [
    "#Check for ideal dimensionality reduction, preferable to choose the number of dimensions that add up to a sufficiently \n",
    "#large portion of the variance (e.g., 95%)\n",
    "\n",
    "import matplotlib.pyplot as plt\n",
    "import numpy as np\n",
    "\n",
    "x = np.arange(1, len(explained_variance_ratio) + 1)\n",
    "\n",
    "plt.figure(figsize=(12, 6))\n",
    "plt.bar(x, explained_variance_ratio, alpha=0.5, align='center', label='Explained variance ratio')\n",
    "plt.step(x, cumulative_explained_variance, where='mid', label='Cumulative explained variance')\n",
    "plt.ylabel('Explained variance ratio')\n",
    "plt.xlabel('Principal components')\n",
    "plt.legend(loc='best')\n",
    "plt.grid()\n",
    "plt.show()"
   ]
  },
  {
   "cell_type": "code",
   "execution_count": 16,
   "metadata": {},
   "outputs": [
    {
     "name": "stdout",
     "output_type": "stream",
     "text": [
      "                      track_id        PC1       PC2       PC3       PC4  \\\n",
      "0       19YEk4OVQZn3GfoxbpNrU6  -9.373173  1.207779  2.579315  5.509278   \n",
      "1       6zJms3MX11Qu1IKF44LoRW  -4.340399 -4.404526  6.123797 -0.176404   \n",
      "2       1WugzepXsLjnsM0K4UaWYc   2.786318  0.128274 -0.785948 -2.562150   \n",
      "3       1pSlTbCrUJ9rmwj5CNNrX4  14.035909 -8.195006 -0.928468  6.569178   \n",
      "4       5yruvWJs3mL00w4slpCVzN   5.757036 -3.013227  1.666180  2.457010   \n",
      "...                        ...        ...       ...       ...       ...   \n",
      "101904  64iZLIYuqRR8rNedN0Yvnh   7.218389  0.844754 -5.011449  1.988921   \n",
      "101905  0qo0ibv3YoVwJ3jKjpB8lQ  -3.587573  0.517763 -1.047101 -1.839291   \n",
      "101906  1B7tV3WzEnDUS7wXSKDXk3  12.685639 -2.726685 -0.759665  0.255639   \n",
      "101907  7DVr6Az7HukAZeK7v3cGZx  12.616335 -4.502690 -3.434090  6.583917   \n",
      "101908  6Tgjsd4bD8eb74HOTCr6LC  -3.007530  2.915291 -2.026890 -0.163060   \n",
      "\n",
      "             PC5       PC6       PC7       PC8       PC9  ...      PC79  \\\n",
      "0      -3.643796  0.024327 -0.124346  0.494057 -1.159323  ... -0.646636   \n",
      "1      -2.760384  0.780120 -1.145672  3.259061 -2.286285  ... -0.209083   \n",
      "2       1.076181 -2.661136  2.717428 -1.517618 -2.737294  ...  1.238994   \n",
      "3       3.405959 -1.103239 -0.464894  1.204150 -2.233487  ...  0.797855   \n",
      "4      -1.831961 -0.734062 -1.079056  1.493567  0.776521  ...  0.227564   \n",
      "...          ...       ...       ...       ...       ...  ...       ...   \n",
      "101904 -1.894269  2.742174 -1.607690 -2.980781  3.175706  ... -0.663800   \n",
      "101905  2.758876  0.123393  1.039431 -1.310304 -0.843364  ...  0.542585   \n",
      "101906 -3.737880  2.306402 -2.238862  3.688054  0.482657  ...  0.102134   \n",
      "101907  0.080543  1.332761 -3.586888  3.173122  3.188285  ...  0.934699   \n",
      "101908 -3.428598  1.248226  0.810729  0.429435 -0.334058  ... -0.702632   \n",
      "\n",
      "            PC80      PC81      PC82      PC83      PC84      PC85      PC86  \\\n",
      "0      -0.020364  0.317558  0.106963  0.099288  0.372109  0.253148 -0.042244   \n",
      "1      -0.338872 -0.314767 -0.072111 -0.002087  0.866394  0.064408 -0.309439   \n",
      "2      -0.223503  0.853910 -0.026040  1.512267 -0.396584  1.152735 -0.357941   \n",
      "3       0.280554 -0.531856  0.285870 -0.678484  0.273835  0.957807  0.309524   \n",
      "4      -1.569665  0.317801  1.491005 -0.955201  0.654530  0.257634 -0.260955   \n",
      "...          ...       ...       ...       ...       ...       ...       ...   \n",
      "101904  0.191752 -0.539345  0.945966 -0.133697 -0.759957 -0.261204 -1.170833   \n",
      "101905 -0.635972  0.465652 -0.805006 -0.297394 -0.330025 -0.229570  0.049388   \n",
      "101906  1.498023  0.951603  0.268149 -0.385250  0.472319  0.521170 -1.103396   \n",
      "101907 -1.273132 -0.891622  2.001840 -0.966519  1.712238  2.712558  0.030464   \n",
      "101908 -0.098545  0.620337  0.026756 -0.323420 -0.587839  0.099743 -0.364661   \n",
      "\n",
      "            PC87      PC88  \n",
      "0       0.248974  0.116853  \n",
      "1       0.470892  0.074492  \n",
      "2      -0.247228  0.437625  \n",
      "3       0.167825 -0.223587  \n",
      "4      -0.490305 -0.632405  \n",
      "...          ...       ...  \n",
      "101904  0.501105 -0.433215  \n",
      "101905 -0.696586  0.736603  \n",
      "101906  0.344211  0.661390  \n",
      "101907 -0.022177  1.413011  \n",
      "101908 -0.166801 -0.153772  \n",
      "\n",
      "[101909 rows x 89 columns]\n"
     ]
    }
   ],
   "source": [
    "pca = PCA(n_components=0.95)\n",
    "principal_components = pca.fit_transform(scaled_numeric_data)\n",
    "n_components = principal_components.shape[1]\n",
    "principal_df = pd.DataFrame(data=principal_components, columns=[f'PC{i}' for i in range(1, n_components+1)])\n",
    "processed_data = pd.concat([non_numeric_data.reset_index(drop=True), principal_df], axis=1)\n",
    "print(processed_data)"
   ]
  },
  {
   "cell_type": "code",
   "execution_count": null,
   "metadata": {},
   "outputs": [],
   "source": []
  }
 ],
 "metadata": {
  "kernelspec": {
   "display_name": "Python 3",
   "language": "python",
   "name": "python3"
  },
  "language_info": {
   "codemirror_mode": {
    "name": "ipython",
    "version": 3
   },
   "file_extension": ".py",
   "mimetype": "text/x-python",
   "name": "python",
   "nbconvert_exporter": "python",
   "pygments_lexer": "ipython3",
   "version": "3.11.2"
  },
  "orig_nbformat": 4
 },
 "nbformat": 4,
 "nbformat_minor": 2
}
