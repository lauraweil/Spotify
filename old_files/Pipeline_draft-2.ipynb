{
 "cells": [
  {
   "cell_type": "code",
   "execution_count": 1,
   "id": "c8251084-ab33-4e38-ade7-9215512238a5",
   "metadata": {},
   "outputs": [],
   "source": [
    "import pandas as pd "
   ]
  },
  {
   "cell_type": "code",
   "execution_count": 12,
   "id": "04b40240-0b6f-452d-a772-5458d58aade0",
   "metadata": {},
   "outputs": [],
   "source": [
    "tracks = pd.read_csv('SpotGenTrack/Data Sources/spotify_tracks.csv', index_col = 0)\n",
    "albums = pd.read_csv('SpotGenTrack/Data Sources/spotify_albums.csv', index_col = 0)\n",
    "artists = pd.read_csv('SpotGenTrack/Data Sources/spotify_artists.csv', index_col = 0)"
   ]
  },
  {
   "cell_type": "markdown",
   "id": "27f73414-4930-4fa2-9cca-a41b5f93fd7c",
   "metadata": {},
   "source": [
    "## Filter Tracks DF"
   ]
  },
  {
   "cell_type": "code",
   "execution_count": 13,
   "id": "e31f6499-cacf-4673-8dfa-1c334bc1a29c",
   "metadata": {},
   "outputs": [],
   "source": [
    "#clean available markets column\n",
    "#additional column: length lyrics?"
   ]
  },
  {
   "cell_type": "code",
   "execution_count": 14,
   "id": "163378ba-8708-4d2d-8bde-9facb01f3d28",
   "metadata": {},
   "outputs": [
    {
     "data": {
      "text/plain": [
       "Index(['acousticness', 'album_id', 'analysis_url', 'artists_id',\n",
       "       'available_markets', 'country', 'danceability', 'disc_number',\n",
       "       'duration_ms', 'energy', 'href', 'id', 'instrumentalness', 'key',\n",
       "       'liveness', 'loudness', 'lyrics', 'mode', 'name', 'playlist',\n",
       "       'popularity', 'preview_url', 'speechiness', 'tempo', 'time_signature',\n",
       "       'track_href', 'track_name_prev', 'track_number', 'uri', 'valence',\n",
       "       'type'],\n",
       "      dtype='object')"
      ]
     },
     "execution_count": 14,
     "metadata": {},
     "output_type": "execute_result"
    }
   ],
   "source": [
    "tracks.columns"
   ]
  },
  {
   "cell_type": "code",
   "execution_count": 15,
   "id": "485e69df-9f98-4c0b-9571-0cf1636df64e",
   "metadata": {},
   "outputs": [],
   "source": [
    "#rename id to track_id\n",
    "tracks.rename(columns={'id': 'track_id_track'},inplace=True)\n",
    "tracks.rename(columns={'artists_id': 'artists_id_track'},inplace=True)"
   ]
  },
  {
   "cell_type": "code",
   "execution_count": 16,
   "id": "e12f2513-d363-4d1d-956b-12816004fe7f",
   "metadata": {},
   "outputs": [
    {
     "name": "stdout",
     "output_type": "stream",
     "text": [
      "popularity          1.000000\n",
      "speechiness         0.304212\n",
      "loudness            0.239679\n",
      "duration_ms         0.169125\n",
      "acousticness        0.154408\n",
      "energy              0.153979\n",
      "track_number        0.139460\n",
      "time_signature      0.121505\n",
      "danceability        0.092382\n",
      "tempo               0.061869\n",
      "liveness            0.059116\n",
      "disc_number         0.047331\n",
      "instrumentalness    0.041537\n",
      "valence             0.034412\n",
      "mode                0.010003\n",
      "key                 0.000641\n",
      "Name: popularity, dtype: float64\n"
     ]
    }
   ],
   "source": [
    "#check for correlations of numerical features\n",
    "num_attribs = tracks.select_dtypes(include=['float64', 'int64']).columns\n",
    "numerical_corr_matrix = tracks[num_attribs].corr().abs()\n",
    "\n",
    "# Display the correlations between the label (e.g., 'popularity') and other numerical columns\n",
    "label_correlations = numerical_corr_matrix['popularity'].sort_values(ascending=False)\n",
    "print(label_correlations)"
   ]
  },
  {
   "cell_type": "code",
   "execution_count": 17,
   "id": "8e9a0d34-c862-459e-8e90-bf7bc80c25fc",
   "metadata": {},
   "outputs": [
    {
     "data": {
      "text/plain": [
       "Index(['album_id', 'analysis_url', 'artists_id_track', 'available_markets',\n",
       "       'country', 'href', 'track_id_track', 'lyrics', 'name', 'playlist',\n",
       "       'preview_url', 'track_href', 'track_name_prev', 'uri', 'type'],\n",
       "      dtype='object')"
      ]
     },
     "execution_count": 17,
     "metadata": {},
     "output_type": "execute_result"
    }
   ],
   "source": [
    "#check for categorical features\n",
    "cat_attribs = tracks.select_dtypes(include=['object']).columns\n",
    "cat_attribs"
   ]
  },
  {
   "cell_type": "code",
   "execution_count": 18,
   "id": "99555637-e708-4e88-86b3-f65ee9f499e9",
   "metadata": {},
   "outputs": [
    {
     "data": {
      "text/plain": [
       "Index(['acousticness', 'album_id', 'analysis_url', 'artists_id_track',\n",
       "       'available_markets', 'country', 'danceability', 'disc_number',\n",
       "       'duration_ms', 'energy', 'href', 'track_id_track', 'instrumentalness',\n",
       "       'key', 'liveness', 'loudness', 'lyrics', 'mode', 'name', 'playlist',\n",
       "       'popularity', 'preview_url', 'speechiness', 'tempo', 'time_signature',\n",
       "       'track_href', 'track_name_prev', 'track_number', 'uri', 'valence',\n",
       "       'type'],\n",
       "      dtype='object')"
      ]
     },
     "execution_count": 18,
     "metadata": {},
     "output_type": "execute_result"
    }
   ],
   "source": [
    "tracks.columns"
   ]
  },
  {
   "cell_type": "code",
   "execution_count": 19,
   "id": "bf3b8364-3337-4644-a3f6-1955d178fc5c",
   "metadata": {},
   "outputs": [],
   "source": [
    "#include numerical columns with correlation greater than 0.1\n",
    "include_col_tracks = [\"playlist\",\"available_markets\",\"country\",\"album_id\",\"artists_id_track\",\"track_id_track\",\"time_signature\",\"track_number\",\"energy\",\"acousticness\",\"duration_ms\",\"loudness\",\"speechiness\",\"popularity\"]      "
   ]
  },
  {
   "cell_type": "code",
   "execution_count": 20,
   "id": "91c9a7aa-f50c-4868-a25c-c15c9dd27fd4",
   "metadata": {},
   "outputs": [
    {
     "data": {
      "text/plain": [
       "Index(['playlist', 'available_markets', 'country', 'album_id',\n",
       "       'artists_id_track', 'track_id_track', 'time_signature', 'track_number',\n",
       "       'energy', 'acousticness', 'duration_ms', 'loudness', 'speechiness',\n",
       "       'popularity'],\n",
       "      dtype='object')"
      ]
     },
     "execution_count": 20,
     "metadata": {},
     "output_type": "execute_result"
    }
   ],
   "source": [
    "tracks_filtered = tracks[include_col_tracks]\n",
    "tracks_filtered.columns"
   ]
  },
  {
   "cell_type": "markdown",
   "id": "1b01660f-3d18-49bb-915e-197d62ef9d19",
   "metadata": {},
   "source": [
    "## Filter albums DF"
   ]
  },
  {
   "cell_type": "code",
   "execution_count": 21,
   "id": "6c99e7ab-f872-40b2-8a9f-38903fb2fb04",
   "metadata": {},
   "outputs": [
    {
     "data": {
      "text/plain": [
       "Index(['album_type', 'artist_id', 'available_markets', 'external_urls', 'href',\n",
       "       'id', 'images', 'name', 'release_date', 'release_date_precision',\n",
       "       'total_tracks', 'track_id', 'track_name_prev', 'uri', 'type'],\n",
       "      dtype='object')"
      ]
     },
     "execution_count": 21,
     "metadata": {},
     "output_type": "execute_result"
    }
   ],
   "source": [
    "albums.columns"
   ]
  },
  {
   "cell_type": "code",
   "execution_count": 22,
   "id": "42ef3c8d-0108-4344-9768-da9fda9096d0",
   "metadata": {},
   "outputs": [],
   "source": [
    "albums.rename(columns={'id': 'album_id'},inplace=True)\n",
    "albums.rename(columns={'track_id': 'track_id_album'},inplace=True)\n",
    "albums.rename(columns={'artist_id': 'artist_id_albums'},inplace=True)"
   ]
  },
  {
   "cell_type": "code",
   "execution_count": 23,
   "id": "890bf390-7411-44ca-ac44-2b13539a6708",
   "metadata": {},
   "outputs": [],
   "source": [
    "albums_include = ['type','album_type', 'artist_id_albums', 'available_markets','total_tracks', 'track_id_album', 'track_name_prev','release_date',\"album_id\"]"
   ]
  },
  {
   "cell_type": "code",
   "execution_count": 24,
   "id": "a670ab17-5bb2-4a7e-8636-14b89d876acf",
   "metadata": {},
   "outputs": [
    {
     "data": {
      "text/plain": [
       "9"
      ]
     },
     "execution_count": 24,
     "metadata": {},
     "output_type": "execute_result"
    }
   ],
   "source": [
    "len(albums_include)"
   ]
  },
  {
   "cell_type": "code",
   "execution_count": 25,
   "id": "78c501c1-aff3-45cb-ac3c-9f2c3adfad9f",
   "metadata": {},
   "outputs": [
    {
     "data": {
      "text/plain": [
       "Index(['type', 'album_type', 'artist_id_albums', 'available_markets',\n",
       "       'total_tracks', 'track_id_album', 'track_name_prev', 'release_date',\n",
       "       'album_id'],\n",
       "      dtype='object')"
      ]
     },
     "execution_count": 25,
     "metadata": {},
     "output_type": "execute_result"
    }
   ],
   "source": [
    "albums_filtered = albums[albums_include]\n",
    "albums_filtered.columns"
   ]
  },
  {
   "cell_type": "markdown",
   "id": "a47b3713-b30d-4973-ba76-362b1297ca5f",
   "metadata": {
    "tags": []
   },
   "source": [
    "## merge tracks and albums df "
   ]
  },
  {
   "cell_type": "code",
   "execution_count": 26,
   "id": "d13580b4-67bc-4ebb-b9fc-d4d04ddbaa85",
   "metadata": {},
   "outputs": [
    {
     "name": "stderr",
     "output_type": "stream",
     "text": [
      "C:\\Users\\mundt\\AppData\\Local\\Temp\\ipykernel_24152\\3710334868.py:2: FutureWarning: The default value of numeric_only in DataFrame.corrwith is deprecated. In a future version, it will default to False. Select only valid columns or specify the value of numeric_only to silence this warning.\n",
      "  albums_tracks.corrwith(albums_tracks[\"popularity\"]).abs().sort_values()\n"
     ]
    },
    {
     "data": {
      "text/plain": [
       "time_signature    0.121505\n",
       "total_tracks      0.132356\n",
       "track_number      0.139460\n",
       "energy            0.153979\n",
       "acousticness      0.154408\n",
       "duration_ms       0.169125\n",
       "loudness          0.239679\n",
       "speechiness       0.304212\n",
       "popularity        1.000000\n",
       "dtype: float64"
      ]
     },
     "execution_count": 26,
     "metadata": {},
     "output_type": "execute_result"
    }
   ],
   "source": [
    "albums_tracks = tracks_filtered.merge(albums_filtered,left_on=\"album_id\",right_on=\"album_id\",how=\"left\")\n",
    "albums_tracks.corrwith(albums_tracks[\"popularity\"]).abs().sort_values()"
   ]
  },
  {
   "cell_type": "code",
   "execution_count": 27,
   "id": "f6acaec7-b396-4e02-8861-bae3bd170649",
   "metadata": {},
   "outputs": [
    {
     "data": {
      "text/plain": [
       "playlist               0\n",
       "available_markets_x    0\n",
       "country                0\n",
       "album_id               0\n",
       "artists_id_track       0\n",
       "track_id_track         0\n",
       "time_signature         0\n",
       "track_number           0\n",
       "energy                 0\n",
       "acousticness           0\n",
       "duration_ms            0\n",
       "loudness               0\n",
       "speechiness            0\n",
       "popularity             0\n",
       "type                   0\n",
       "album_type             0\n",
       "artist_id_albums       0\n",
       "available_markets_y    0\n",
       "total_tracks           0\n",
       "track_id_album         0\n",
       "track_name_prev        0\n",
       "release_date           0\n",
       "dtype: int64"
      ]
     },
     "execution_count": 27,
     "metadata": {},
     "output_type": "execute_result"
    }
   ],
   "source": [
    "albums_tracks.isna().sum()"
   ]
  },
  {
   "cell_type": "code",
   "execution_count": 28,
   "id": "bae2c454-d726-493c-95dc-27ecc29295b6",
   "metadata": {},
   "outputs": [
    {
     "data": {
      "text/plain": [
       "101939"
      ]
     },
     "execution_count": 28,
     "metadata": {},
     "output_type": "execute_result"
    }
   ],
   "source": [
    "len(albums_tracks)"
   ]
  },
  {
   "cell_type": "markdown",
   "id": "0f978037-e73f-4b7c-9dbd-9dd75eba9662",
   "metadata": {},
   "source": [
    "## Filter Artists DF"
   ]
  },
  {
   "cell_type": "code",
   "execution_count": 29,
   "id": "6152c2d7-c3b2-48e4-bee9-c993a491e948",
   "metadata": {},
   "outputs": [],
   "source": [
    "artists = pd.read_csv('SpotGenTrack/Data Sources/spotify_artists.csv', index_col = 0)"
   ]
  },
  {
   "cell_type": "code",
   "execution_count": 30,
   "id": "4f94f9d2-06d1-4528-9210-2c71b257b523",
   "metadata": {},
   "outputs": [
    {
     "data": {
      "text/plain": [
       "Index(['artist_popularity', 'followers', 'genres', 'id', 'name', 'track_id',\n",
       "       'track_name_prev', 'type'],\n",
       "      dtype='object')"
      ]
     },
     "execution_count": 30,
     "metadata": {},
     "output_type": "execute_result"
    }
   ],
   "source": [
    "artists.columns"
   ]
  },
  {
   "cell_type": "code",
   "execution_count": 31,
   "id": "bb52f68b-0918-4997-b8e5-1405f27bff2b",
   "metadata": {},
   "outputs": [],
   "source": [
    "artists.rename(columns={\"id\": \"artist_id_artists\"},inplace=True)\n",
    "artists.rename(columns={\"track_id\": \"track_id_artists\"},inplace=True)"
   ]
  },
  {
   "cell_type": "code",
   "execution_count": 32,
   "id": "1436fbdb-a76e-4be0-8bba-8fb301a525e8",
   "metadata": {},
   "outputs": [
    {
     "data": {
      "text/plain": [
       "Index(['artist_popularity', 'followers', 'genres', 'artist_id_artists', 'name',\n",
       "       'track_id_artists', 'track_name_prev', 'type'],\n",
       "      dtype='object')"
      ]
     },
     "execution_count": 32,
     "metadata": {},
     "output_type": "execute_result"
    }
   ],
   "source": [
    "artists.columns"
   ]
  },
  {
   "cell_type": "code",
   "execution_count": 33,
   "id": "319788f8-5a8c-4fb5-973a-bb6883945e58",
   "metadata": {},
   "outputs": [
    {
     "data": {
      "text/plain": [
       "Index(['playlist', 'available_markets_x', 'country', 'album_id',\n",
       "       'artists_id_track', 'track_id_track', 'time_signature', 'track_number',\n",
       "       'energy', 'acousticness', 'duration_ms', 'loudness', 'speechiness',\n",
       "       'popularity', 'type', 'album_type', 'artist_id_albums',\n",
       "       'available_markets_y', 'total_tracks', 'track_id_album',\n",
       "       'track_name_prev', 'release_date'],\n",
       "      dtype='object')"
      ]
     },
     "execution_count": 33,
     "metadata": {},
     "output_type": "execute_result"
    }
   ],
   "source": [
    "albums_tracks.columns"
   ]
  },
  {
   "cell_type": "markdown",
   "id": "c6965e06-180e-46ef-be7f-95b7e4ebb66c",
   "metadata": {},
   "source": [
    "## Merge albums, tracks, artists"
   ]
  },
  {
   "cell_type": "code",
   "execution_count": 34,
   "id": "fbc5694b-cc9d-4483-a5ad-6ab170be6ac7",
   "metadata": {},
   "outputs": [],
   "source": [
    "#ARTIST_ID (album df) "
   ]
  },
  {
   "cell_type": "code",
   "execution_count": 35,
   "id": "3392dc4b-9cb2-4438-b199-9f6ce1f9a30e",
   "metadata": {},
   "outputs": [],
   "source": [
    "albums_tracks_artistis = albums_tracks.merge(artists, left_on=\"artist_id_albums\",right_on=\"artist_id_artists\",how=\"left\")"
   ]
  },
  {
   "cell_type": "code",
   "execution_count": 36,
   "id": "324fdcb2-f794-415f-9c5f-97a2b0024fb7",
   "metadata": {},
   "outputs": [
    {
     "data": {
      "text/plain": [
       "playlist                 0\n",
       "available_markets_x      0\n",
       "country                  0\n",
       "album_id                 0\n",
       "artists_id_track         0\n",
       "track_id_track           0\n",
       "time_signature           0\n",
       "track_number             0\n",
       "energy                   0\n",
       "acousticness             0\n",
       "duration_ms              0\n",
       "loudness                 0\n",
       "speechiness              0\n",
       "popularity               0\n",
       "type_x                   0\n",
       "album_type               0\n",
       "artist_id_albums         0\n",
       "available_markets_y      0\n",
       "total_tracks             0\n",
       "track_id_album           0\n",
       "track_name_prev_x        0\n",
       "release_date             0\n",
       "artist_popularity      795\n",
       "followers              795\n",
       "genres                 795\n",
       "artist_id_artists      795\n",
       "name                   795\n",
       "track_id_artists       795\n",
       "track_name_prev_y      795\n",
       "type_y                 795\n",
       "dtype: int64"
      ]
     },
     "execution_count": 36,
     "metadata": {},
     "output_type": "execute_result"
    }
   ],
   "source": [
    "albums_tracks_artistis.isna().sum()"
   ]
  },
  {
   "cell_type": "code",
   "execution_count": 37,
   "id": "beca6f08-328c-4442-8387-0c1d62e3ac53",
   "metadata": {},
   "outputs": [
    {
     "data": {
      "text/plain": [
       "Index(['playlist', 'available_markets_x', 'country', 'album_id',\n",
       "       'artists_id_track', 'track_id_track', 'time_signature', 'track_number',\n",
       "       'energy', 'acousticness', 'duration_ms', 'loudness', 'speechiness',\n",
       "       'popularity', 'type_x', 'album_type', 'artist_id_albums',\n",
       "       'available_markets_y', 'total_tracks', 'track_id_album',\n",
       "       'track_name_prev_x', 'release_date', 'artist_popularity', 'followers',\n",
       "       'genres', 'artist_id_artists', 'name', 'track_id_artists',\n",
       "       'track_name_prev_y', 'type_y'],\n",
       "      dtype='object')"
      ]
     },
     "execution_count": 37,
     "metadata": {},
     "output_type": "execute_result"
    }
   ],
   "source": [
    "albums_tracks_artistis.columns"
   ]
  },
  {
   "cell_type": "code",
   "execution_count": 38,
   "id": "4a82f28c-c92b-499d-a108-53deba5ea063",
   "metadata": {},
   "outputs": [
    {
     "name": "stdout",
     "output_type": "stream",
     "text": [
      "number of columns in merged:  30\n"
     ]
    }
   ],
   "source": [
    "print(\"number of columns in merged: \",(len(albums_tracks_artistis.columns)))"
   ]
  },
  {
   "cell_type": "code",
   "execution_count": 39,
   "id": "1a756322-0060-4135-99d1-0a60e663e469",
   "metadata": {},
   "outputs": [
    {
     "name": "stdout",
     "output_type": "stream",
     "text": [
      "number of rows in merged:  101939\n"
     ]
    }
   ],
   "source": [
    "print(\"number of rows in merged: \",(len(albums_tracks_artistis)))"
   ]
  },
  {
   "cell_type": "markdown",
   "id": "dc721095-25f8-4e48-832d-aec8c2d1d72b",
   "metadata": {},
   "source": [
    "## Lyrics"
   ]
  },
  {
   "cell_type": "code",
   "execution_count": 40,
   "id": "827baf3c-640a-407d-961a-72afcfb0861d",
   "metadata": {},
   "outputs": [],
   "source": [
    "lyrics_features = pd.read_csv('SpotGenTrack/Features Extracted/lyrics_features.csv', index_col = 0)"
   ]
  },
  {
   "cell_type": "code",
   "execution_count": 41,
   "id": "9d9b229c-a61a-4479-afc7-c2fae8d8ff14",
   "metadata": {},
   "outputs": [
    {
     "data": {
      "text/plain": [
       "Index(['mean_syllables_word', 'mean_words_sentence', 'n_sentences', 'n_words',\n",
       "       'sentence_similarity', 'track_id', 'vocabulary_wealth'],\n",
       "      dtype='object')"
      ]
     },
     "execution_count": 41,
     "metadata": {},
     "output_type": "execute_result"
    }
   ],
   "source": [
    "lyrics_features.columns"
   ]
  },
  {
   "cell_type": "code",
   "execution_count": 42,
   "id": "37c05620-902a-4674-b264-9aac715b1665",
   "metadata": {},
   "outputs": [
    {
     "data": {
      "text/plain": [
       "Index(['playlist', 'available_markets_x', 'country', 'album_id',\n",
       "       'artists_id_track', 'track_id_track', 'time_signature', 'track_number',\n",
       "       'energy', 'acousticness', 'duration_ms', 'loudness', 'speechiness',\n",
       "       'popularity', 'type_x', 'album_type', 'artist_id_albums',\n",
       "       'available_markets_y', 'total_tracks', 'track_id_album',\n",
       "       'track_name_prev_x', 'release_date', 'artist_popularity', 'followers',\n",
       "       'genres', 'artist_id_artists', 'name', 'track_id_artists',\n",
       "       'track_name_prev_y', 'type_y'],\n",
       "      dtype='object')"
      ]
     },
     "execution_count": 42,
     "metadata": {},
     "output_type": "execute_result"
    }
   ],
   "source": [
    "albums_tracks_artistis.columns"
   ]
  },
  {
   "cell_type": "code",
   "execution_count": 43,
   "id": "892a2dec-e3ce-4fb7-b9cb-88abadb33e7a",
   "metadata": {},
   "outputs": [],
   "source": [
    "albums_tracks_artistis_lyr = albums_tracks_artistis.merge(lyrics_features,left_on=\"track_id_track\",right_on=\"track_id\",how=\"left\")"
   ]
  },
  {
   "cell_type": "code",
   "execution_count": 44,
   "id": "a2741e5c-3a54-4a34-b86a-466b38b3f062",
   "metadata": {},
   "outputs": [
    {
     "data": {
      "text/plain": [
       "playlist                  0\n",
       "available_markets_x       0\n",
       "country                   0\n",
       "album_id                  0\n",
       "artists_id_track          0\n",
       "track_id_track            0\n",
       "time_signature            0\n",
       "track_number              0\n",
       "energy                    0\n",
       "acousticness              0\n",
       "duration_ms               0\n",
       "loudness                  0\n",
       "speechiness               0\n",
       "popularity                0\n",
       "type_x                    0\n",
       "album_type                0\n",
       "artist_id_albums          0\n",
       "available_markets_y       0\n",
       "total_tracks              0\n",
       "track_id_album            0\n",
       "track_name_prev_x         0\n",
       "release_date              0\n",
       "artist_popularity       795\n",
       "followers               795\n",
       "genres                  795\n",
       "artist_id_artists       795\n",
       "name                    795\n",
       "track_id_artists        795\n",
       "track_name_prev_y       795\n",
       "type_y                  795\n",
       "mean_syllables_word    6985\n",
       "mean_words_sentence    6985\n",
       "n_sentences            6985\n",
       "n_words                6985\n",
       "sentence_similarity    6985\n",
       "track_id               6985\n",
       "vocabulary_wealth      6985\n",
       "dtype: int64"
      ]
     },
     "execution_count": 44,
     "metadata": {},
     "output_type": "execute_result"
    }
   ],
   "source": [
    "albums_tracks_artistis_lyr.isnull().sum()"
   ]
  },
  {
   "cell_type": "markdown",
   "id": "83bcac7c-1e37-4422-8678-9e54fa55c7a6",
   "metadata": {},
   "source": [
    "## AUDIO"
   ]
  },
  {
   "cell_type": "code",
   "execution_count": 57,
   "id": "5e5131f3-9ecd-4a67-83a4-767a5f199ea4",
   "metadata": {},
   "outputs": [
    {
     "name": "stdout",
     "output_type": "stream",
     "text": [
      "no stored variable or alias processed_data\n"
     ]
    }
   ],
   "source": [
    "%store -r processed_data"
   ]
  },
  {
   "cell_type": "code",
   "execution_count": 46,
   "id": "7ae27429-ccef-4602-8f83-06a73386b908",
   "metadata": {},
   "outputs": [
    {
     "ename": "NameError",
     "evalue": "name 'processed_data' is not defined",
     "output_type": "error",
     "traceback": [
      "\u001b[1;31m---------------------------------------------------------------------------\u001b[0m",
      "\u001b[1;31mNameError\u001b[0m                                 Traceback (most recent call last)",
      "Cell \u001b[1;32mIn[46], line 1\u001b[0m\n\u001b[1;32m----> 1\u001b[0m audio \u001b[38;5;241m=\u001b[39m \u001b[43mprocessed_data\u001b[49m\n",
      "\u001b[1;31mNameError\u001b[0m: name 'processed_data' is not defined"
     ]
    }
   ],
   "source": [
    "audio = processed_data"
   ]
  },
  {
   "cell_type": "code",
   "execution_count": 47,
   "id": "4d7b418c-58b8-4a5c-a97a-d51a95c9ef2e",
   "metadata": {},
   "outputs": [
    {
     "ename": "NameError",
     "evalue": "name 'audio' is not defined",
     "output_type": "error",
     "traceback": [
      "\u001b[1;31m---------------------------------------------------------------------------\u001b[0m",
      "\u001b[1;31mNameError\u001b[0m                                 Traceback (most recent call last)",
      "Cell \u001b[1;32mIn[47], line 1\u001b[0m\n\u001b[1;32m----> 1\u001b[0m \u001b[43maudio\u001b[49m\u001b[38;5;241m.\u001b[39mhead()\n",
      "\u001b[1;31mNameError\u001b[0m: name 'audio' is not defined"
     ]
    }
   ],
   "source": [
    "audio.head()"
   ]
  },
  {
   "cell_type": "code",
   "execution_count": 48,
   "id": "b5db8c58-1eb5-4e21-b2cb-2c5d3e5d5854",
   "metadata": {},
   "outputs": [
    {
     "ename": "NameError",
     "evalue": "name 'audio' is not defined",
     "output_type": "error",
     "traceback": [
      "\u001b[1;31m---------------------------------------------------------------------------\u001b[0m",
      "\u001b[1;31mNameError\u001b[0m                                 Traceback (most recent call last)",
      "Cell \u001b[1;32mIn[48], line 1\u001b[0m\n\u001b[1;32m----> 1\u001b[0m albums_tracks_artistis_lyr_audio \u001b[38;5;241m=\u001b[39m albums_tracks_artistis_lyr\u001b[38;5;241m.\u001b[39mmerge(\u001b[43maudio\u001b[49m,left_on\u001b[38;5;241m=\u001b[39m\u001b[38;5;124m\"\u001b[39m\u001b[38;5;124mtrack_id_track\u001b[39m\u001b[38;5;124m\"\u001b[39m,right_on\u001b[38;5;241m=\u001b[39m\u001b[38;5;124m\"\u001b[39m\u001b[38;5;124mtrack_id\u001b[39m\u001b[38;5;124m\"\u001b[39m,how\u001b[38;5;241m=\u001b[39m\u001b[38;5;124m\"\u001b[39m\u001b[38;5;124mleft\u001b[39m\u001b[38;5;124m\"\u001b[39m)\n",
      "\u001b[1;31mNameError\u001b[0m: name 'audio' is not defined"
     ]
    }
   ],
   "source": [
    "albums_tracks_artistis_lyr_audio = albums_tracks_artistis_lyr.merge(audio,left_on=\"track_id_track\",right_on=\"track_id\",how=\"left\")"
   ]
  },
  {
   "cell_type": "code",
   "execution_count": 49,
   "id": "f0e5d7f8-071e-4421-b9f0-5119678086f1",
   "metadata": {},
   "outputs": [
    {
     "ename": "NameError",
     "evalue": "name 'albums_tracks_artistis_lyr_audio' is not defined",
     "output_type": "error",
     "traceback": [
      "\u001b[1;31m---------------------------------------------------------------------------\u001b[0m",
      "\u001b[1;31mNameError\u001b[0m                                 Traceback (most recent call last)",
      "Cell \u001b[1;32mIn[49], line 1\u001b[0m\n\u001b[1;32m----> 1\u001b[0m \u001b[43malbums_tracks_artistis_lyr_audio\u001b[49m\u001b[38;5;241m.\u001b[39misna()\u001b[38;5;241m.\u001b[39msum()\n",
      "\u001b[1;31mNameError\u001b[0m: name 'albums_tracks_artistis_lyr_audio' is not defined"
     ]
    }
   ],
   "source": [
    "albums_tracks_artistis_lyr_audio.isna().sum()"
   ]
  },
  {
   "cell_type": "markdown",
   "id": "16057c7b-b580-4de2-8e4a-3638c39ec8f7",
   "metadata": {},
   "source": [
    "## ALL data DF"
   ]
  },
  {
   "cell_type": "code",
   "execution_count": 50,
   "id": "4ac66024-210c-4934-a28c-dbc4689fa49e",
   "metadata": {},
   "outputs": [
    {
     "ename": "NameError",
     "evalue": "name 'albums_tracks_artistis_lyr_audio' is not defined",
     "output_type": "error",
     "traceback": [
      "\u001b[1;31m---------------------------------------------------------------------------\u001b[0m",
      "\u001b[1;31mNameError\u001b[0m                                 Traceback (most recent call last)",
      "Cell \u001b[1;32mIn[50], line 1\u001b[0m\n\u001b[1;32m----> 1\u001b[0m \u001b[43malbums_tracks_artistis_lyr_audio\u001b[49m\u001b[38;5;241m.\u001b[39misna()\u001b[38;5;241m.\u001b[39msum()\u001b[38;5;241m.\u001b[39msort_values(ascending\u001b[38;5;241m=\u001b[39m\u001b[38;5;28;01mFalse\u001b[39;00m)[:\u001b[38;5;241m20\u001b[39m]\n",
      "\u001b[1;31mNameError\u001b[0m: name 'albums_tracks_artistis_lyr_audio' is not defined"
     ]
    }
   ],
   "source": [
    "albums_tracks_artistis_lyr_audio.isna().sum().sort_values(ascending=False)[:20]"
   ]
  },
  {
   "cell_type": "code",
   "execution_count": 51,
   "id": "4c73e5a8-9146-45ad-96fd-1c2e91569284",
   "metadata": {},
   "outputs": [
    {
     "ename": "NameError",
     "evalue": "name 'albums_tracks_artistis_lyr_audio' is not defined",
     "output_type": "error",
     "traceback": [
      "\u001b[1;31m---------------------------------------------------------------------------\u001b[0m",
      "\u001b[1;31mNameError\u001b[0m                                 Traceback (most recent call last)",
      "Cell \u001b[1;32mIn[51], line 1\u001b[0m\n\u001b[1;32m----> 1\u001b[0m all_data \u001b[38;5;241m=\u001b[39m \u001b[43malbums_tracks_artistis_lyr_audio\u001b[49m\n\u001b[0;32m      2\u001b[0m all_data\u001b[38;5;241m.\u001b[39mshape\n",
      "\u001b[1;31mNameError\u001b[0m: name 'albums_tracks_artistis_lyr_audio' is not defined"
     ]
    }
   ],
   "source": [
    "all_data = albums_tracks_artistis_lyr_audio\n",
    "all_data.shape"
   ]
  },
  {
   "cell_type": "code",
   "execution_count": 52,
   "id": "c59277c3-68dc-471e-9138-6b4d8fc00fe4",
   "metadata": {},
   "outputs": [
    {
     "ename": "NameError",
     "evalue": "name 'all_data' is not defined",
     "output_type": "error",
     "traceback": [
      "\u001b[1;31m---------------------------------------------------------------------------\u001b[0m",
      "\u001b[1;31mNameError\u001b[0m                                 Traceback (most recent call last)",
      "Cell \u001b[1;32mIn[52], line 1\u001b[0m\n\u001b[1;32m----> 1\u001b[0m corr_num \u001b[38;5;241m=\u001b[39m \u001b[43mall_data\u001b[49m\u001b[38;5;241m.\u001b[39mcorrwith(all_data[\u001b[38;5;124m'\u001b[39m\u001b[38;5;124mpopularity\u001b[39m\u001b[38;5;124m'\u001b[39m])\u001b[38;5;241m.\u001b[39mabs()\u001b[38;5;241m.\u001b[39msort_values(ascending\u001b[38;5;241m=\u001b[39m\u001b[38;5;28;01mFalse\u001b[39;00m)\n",
      "\u001b[1;31mNameError\u001b[0m: name 'all_data' is not defined"
     ]
    }
   ],
   "source": [
    "corr_num = all_data.corrwith(all_data['popularity']).abs().sort_values(ascending=False)"
   ]
  },
  {
   "cell_type": "code",
   "execution_count": 53,
   "id": "4ab29344-4da0-49a1-9f84-1cc9146df6aa",
   "metadata": {},
   "outputs": [
    {
     "ename": "NameError",
     "evalue": "name 'corr_num' is not defined",
     "output_type": "error",
     "traceback": [
      "\u001b[1;31m---------------------------------------------------------------------------\u001b[0m",
      "\u001b[1;31mNameError\u001b[0m                                 Traceback (most recent call last)",
      "Cell \u001b[1;32mIn[53], line 1\u001b[0m\n\u001b[1;32m----> 1\u001b[0m \u001b[43mcorr_num\u001b[49m[:\u001b[38;5;241m10\u001b[39m]\n",
      "\u001b[1;31mNameError\u001b[0m: name 'corr_num' is not defined"
     ]
    }
   ],
   "source": [
    "corr_num[:10]"
   ]
  },
  {
   "cell_type": "markdown",
   "id": "7077a284-48c0-4da1-a220-93168f0680d1",
   "metadata": {},
   "source": [
    "## Analysis of popularity"
   ]
  },
  {
   "cell_type": "code",
   "execution_count": 54,
   "id": "8eadf4cd-f388-4ae0-9705-672b22746a66",
   "metadata": {},
   "outputs": [
    {
     "data": {
      "image/png": "[encoded data removed]",
      "text/plain": [
       "<Figure size 2000x1500 with 1 Axes>"
      ]
     },
     "metadata": {},
     "output_type": "display_data"
    }
   ],
   "source": [
    "import matplotlib.pyplot as plt\n",
    "\n",
    "\n",
    "tracks[\"popularity\"].hist(bins=50, figsize=(20,15))\n",
    "\n",
    "plt.show()"
   ]
  },
  {
   "cell_type": "code",
   "execution_count": 55,
   "id": "69c404fe-3207-4265-8f27-39071e59ddc1",
   "metadata": {},
   "outputs": [
    {
     "data": {
      "text/plain": [
       "90024                                       Calma - Remix\n",
       "101706                                   Sweet but Psycho\n",
       "100168                            Going Bad (feat. Drake)\n",
       "100625                                               Talk\n",
       "94579                                     i'm so tired...\n",
       "101732                                  MIA (feat. Drake)\n",
       "94452                                          High Hopes\n",
       "89186                         Giant (with Rag'n'Bone Man)\n",
       "100383                                         Adan y Eva\n",
       "89648                                   Baila Baila Baila\n",
       "86219                                   Murder On My Mind\n",
       "91256                                          SICKO MODE\n",
       "92713                                  Let Me Down Slowly\n",
       "92734                                           Please Me\n",
       "93924                  ZEZE (feat. Travis Scott & Offset)\n",
       "93012                                               a lot\n",
       "74129                                            Thotiana\n",
       "90029                                        Desconocidos\n",
       "88504                             Swervin (feat. 6ix9ine)\n",
       "100940    Nothing Breaks Like a Heart (feat. Miley Cyrus)\n",
       "Name: name, dtype: object"
      ]
     },
     "execution_count": 55,
     "metadata": {},
     "output_type": "execute_result"
    }
   ],
   "source": [
    "tracks.sort_values(by=\"popularity\",ascending=False)[\"name\"][:20]"
   ]
  },
  {
   "cell_type": "code",
   "execution_count": 56,
   "id": "173425d9-8ddd-451f-bb5e-22bc07f51d70",
   "metadata": {},
   "outputs": [
    {
     "ename": "NameError",
     "evalue": "name 'all_data_sources' is not defined",
     "output_type": "error",
     "traceback": [
      "\u001b[1;31m---------------------------------------------------------------------------\u001b[0m",
      "\u001b[1;31mNameError\u001b[0m                                 Traceback (most recent call last)",
      "Cell \u001b[1;32mIn[56], line 3\u001b[0m\n\u001b[0;32m      1\u001b[0m \u001b[38;5;66;03m#outliers in label\u001b[39;00m\n\u001b[0;32m      2\u001b[0m \u001b[38;5;28;01mfrom\u001b[39;00m \u001b[38;5;21;01mscipy\u001b[39;00m\u001b[38;5;21;01m.\u001b[39;00m\u001b[38;5;21;01mstats\u001b[39;00m \u001b[38;5;28;01mimport\u001b[39;00m zscore\n\u001b[1;32m----> 3\u001b[0m z_scores \u001b[38;5;241m=\u001b[39m zscore(\u001b[43mall_data_sources\u001b[49m[\u001b[38;5;124m'\u001b[39m\u001b[38;5;124mpopularity\u001b[39m\u001b[38;5;124m'\u001b[39m])\n\u001b[0;32m      4\u001b[0m potential_outliers \u001b[38;5;241m=\u001b[39m all_data_sources[(z_scores \u001b[38;5;241m>\u001b[39m \u001b[38;5;241m3\u001b[39m) \u001b[38;5;241m|\u001b[39m (z_scores \u001b[38;5;241m<\u001b[39m \u001b[38;5;241m-\u001b[39m\u001b[38;5;241m3\u001b[39m)]\n\u001b[0;32m      5\u001b[0m potential_outliers[[\u001b[38;5;124m\"\u001b[39m\u001b[38;5;124mname_track\u001b[39m\u001b[38;5;124m\"\u001b[39m,\u001b[38;5;124m\"\u001b[39m\u001b[38;5;124mpopularity\u001b[39m\u001b[38;5;124m\"\u001b[39m]]\n",
      "\u001b[1;31mNameError\u001b[0m: name 'all_data_sources' is not defined"
     ]
    }
   ],
   "source": [
    "#outliers in label\n",
    "from scipy.stats import zscore\n",
    "z_scores = zscore(all_data_sources['popularity'])\n",
    "potential_outliers = all_data_sources[(z_scores > 3) | (z_scores < -3)]\n",
    "potential_outliers[[\"name_track\",\"popularity\"]]"
   ]
  },
  {
   "cell_type": "markdown",
   "id": "9386f1f6-55e9-477f-a816-22c6bb05535b",
   "metadata": {},
   "source": [
    "## prepro pipeline"
   ]
  },
  {
   "cell_type": "markdown",
   "id": "70845917-3684-4db7-80a7-925d29a5060a",
   "metadata": {},
   "source": [
    "#notes for pipeline:\n",
    "- train model with train data \n",
    "- Include categorical columns of track df\n",
    "- Include hanna’s version of audio features df \n",
    "- Drop track id before transforming\n",
    "- After scaling correlations super low- Imputer strategy for artist_popularity \n"
   ]
  },
  {
   "cell_type": "code",
   "execution_count": null,
   "id": "583cffed-1489-46f9-aeb0-149f6c3411c3",
   "metadata": {},
   "outputs": [],
   "source": [
    "all_data.shape"
   ]
  },
  {
   "cell_type": "code",
   "execution_count": null,
   "id": "14b62d07-382d-4181-aae2-b13d1f6d1f11",
   "metadata": {},
   "outputs": [],
   "source": [
    "all_data.columns"
   ]
  },
  {
   "cell_type": "code",
   "execution_count": null,
   "id": "c1a682bd-9a95-46f1-975c-51a19fa58f22",
   "metadata": {},
   "outputs": [],
   "source": [
    "duplicate_columns = all_data.columns[all_data.columns.duplicated()]"
   ]
  },
  {
   "cell_type": "code",
   "execution_count": null,
   "id": "0186abf0-c66e-447e-93b0-43fbaf16fb03",
   "metadata": {},
   "outputs": [],
   "source": [
    "duplicate_columns"
   ]
  },
  {
   "cell_type": "markdown",
   "id": "a3fd896a-284f-4ffb-a5a2-08b70f05de42",
   "metadata": {},
   "source": [
    "## Dropping columns"
   ]
  },
  {
   "cell_type": "code",
   "execution_count": null,
   "id": "5d193bd4-3ab0-41bd-99d5-f59d6cacc08f",
   "metadata": {},
   "outputs": [],
   "source": [
    "drop_all = [\"name\",\"track_id_track\",\"track_id_y\",\"artist_id\", \"track_id_x\", \"release_date\", \"id\", \"album_id\", \"artists_id\",\"track_id\"]  "
   ]
  },
  {
   "cell_type": "code",
   "execution_count": null,
   "id": "7849fcb5-bc45-4258-be02-5e707b4fec1a",
   "metadata": {},
   "outputs": [],
   "source": [
    "all_data = all_data.drop(columns=drop_all)"
   ]
  },
  {
   "cell_type": "code",
   "execution_count": null,
   "id": "91921c7f-071c-409b-88be-129772c6af42",
   "metadata": {},
   "outputs": [],
   "source": [
    "all_data.shape"
   ]
  },
  {
   "cell_type": "code",
   "execution_count": null,
   "id": "28f8ea96-0a2c-4793-86f5-009341ec431d",
   "metadata": {},
   "outputs": [],
   "source": [
    "all_data.columns"
   ]
  },
  {
   "cell_type": "code",
   "execution_count": null,
   "id": "a25b062a-f738-4133-8985-0c4c8b28af61",
   "metadata": {},
   "outputs": [],
   "source": [
    "import matplotlib.pyplot as plt\n",
    "from sklearn.pipeline import Pipeline\n",
    "from sklearn.impute import SimpleImputer\n",
    "from sklearn.preprocessing import StandardScaler\n",
    "from sklearn.preprocessing import OneHotEncoder\n",
    "from sklearn.compose import ColumnTransformer\n",
    "from sklearn.base import BaseEstimator, TransformerMixin\n",
    "from sklearn.pipeline import FeatureUnion\n",
    "from sklearn.model_selection import train_test_split, cross_val_predict, cross_val_score, KFold\n",
    "from sklearn.metrics import accuracy_score, precision_score, recall_score, confusion_matrix\n",
    "from sklearn.linear_model import LogisticRegressionCV\n",
    "from sklearn.preprocessing import LabelEncoder\n",
    "from sklearn.pipeline import Pipeline\n",
    "from sklearn.preprocessing import StandardScaler\n",
    "from sklearn.pipeline import FeatureUnion\n",
    "from sklearn.base import BaseEstimator, TransformerMixin\n",
    "from sklearn.impute import SimpleImputer"
   ]
  },
  {
   "cell_type": "code",
   "execution_count": null,
   "id": "7fab99cb-7e08-4c9b-8792-fe67d65ccfee",
   "metadata": {},
   "outputs": [],
   "source": [
    "#define features and labels \n",
    "X = all_data.drop(columns=[\"popularity\"])\n",
    "y = all_data[\"popularity\"]"
   ]
  },
  {
   "cell_type": "code",
   "execution_count": null,
   "id": "e5e6ae00-8fe6-4108-8fa4-d2c5df560289",
   "metadata": {},
   "outputs": [],
   "source": [
    "#train test split \n",
    "train_data, test_data = train_test_split(all_data, test_size=0.2, random_state=42)"
   ]
  },
  {
   "cell_type": "code",
   "execution_count": null,
   "id": "ac7f4ff5-a46e-4447-9c92-9efa4f33117d",
   "metadata": {},
   "outputs": [],
   "source": [
    "train_data.shape"
   ]
  },
  {
   "cell_type": "code",
   "execution_count": null,
   "id": "8e8bf4b4-af19-4053-8a0b-a5f918b498e3",
   "metadata": {},
   "outputs": [],
   "source": [
    "train_data.corr().sort_values(by=\"popularity\",ascending=False)[\"popularity\"]"
   ]
  },
  {
   "cell_type": "code",
   "execution_count": null,
   "id": "971d9002-e99f-4b42-9435-f1d6fddb34ec",
   "metadata": {},
   "outputs": [],
   "source": [
    "train_data.dtypes"
   ]
  },
  {
   "cell_type": "code",
   "execution_count": null,
   "id": "8266c096-bd46-400e-93e9-de51f3c58c74",
   "metadata": {},
   "outputs": [],
   "source": [
    "train_data.columns"
   ]
  },
  {
   "cell_type": "code",
   "execution_count": 59,
   "id": "9f7de779-a160-4e6d-bad6-008ec6b94601",
   "metadata": {},
   "outputs": [
    {
     "ename": "NameError",
     "evalue": "name 'BaseEstimator' is not defined",
     "output_type": "error",
     "traceback": [
      "\u001b[1;31m---------------------------------------------------------------------------\u001b[0m",
      "\u001b[1;31mNameError\u001b[0m                                 Traceback (most recent call last)",
      "Cell \u001b[1;32mIn[59], line 1\u001b[0m\n\u001b[1;32m----> 1\u001b[0m \u001b[38;5;28;01mclass\u001b[39;00m \u001b[38;5;21;01mDataFrameSelector\u001b[39;00m(\u001b[43mBaseEstimator\u001b[49m, TransformerMixin):\n\u001b[0;32m      2\u001b[0m     \u001b[38;5;28;01mdef\u001b[39;00m \u001b[38;5;21m__init__\u001b[39m(\u001b[38;5;28mself\u001b[39m, attribute_names):\n\u001b[0;32m      3\u001b[0m         \u001b[38;5;28mself\u001b[39m\u001b[38;5;241m.\u001b[39mattribute_names \u001b[38;5;241m=\u001b[39m attribute_names\n",
      "\u001b[1;31mNameError\u001b[0m: name 'BaseEstimator' is not defined"
     ]
    }
   ],
   "source": [
    "class DataFrameSelector(BaseEstimator, TransformerMixin):\n",
    "    def __init__(self, attribute_names):\n",
    "        self.attribute_names = attribute_names\n",
    "    \n",
    "    def fit(self, X, y=None):\n",
    "        return self\n",
    "    \n",
    "    def transform(self, X):\n",
    "        return X[self.attribute_names]\n",
    "\n",
    "    \n",
    "def get_preprocessor(data):\n",
    "    \n",
    "    num_attribs = data.select_dtypes(include=['float64', 'int64']).columns\n",
    "    cat_attribs = data.select_dtypes(include=['object']).columns\n",
    "    \n",
    "    num_pipeline = Pipeline([\n",
    "            ('selector', DataFrameSelector(num_attribs)),\n",
    "            ('imputer', SimpleImputer(strategy=\"median\")),\n",
    "            ('std_scaler', StandardScaler()),\n",
    "        ])\n",
    "    \n",
    "    cat_pipeline = Pipeline([\n",
    "            ('selector', DataFrameSelector(cat_attribs)),\n",
    "            ('cat_encoder', OneHotEncoder(sparse=False)),\n",
    "        ])\n",
    "    \n",
    "    full_pipeline = ColumnTransformer([\n",
    "        (\"num\", num_pipeline, num_attribs),\n",
    "        (\"cat\", cat_pipeline, cat_attribs),\n",
    "    ])\n",
    "    \n",
    "    return full_pipeline\n",
    "\n",
    "def create_prepared_dataframe(data, preprocessor):\n",
    "    # Get the transformed column names\n",
    "    transformed_num_cols = preprocessor.transformers_[0][2].tolist()\n",
    "    transformed_cat_cols = list(preprocessor.named_transformers_['cat']['cat_encoder'].get_feature_names_out(cat_attribs))\n",
    "\n",
    "    # Combine the transformed column names\n",
    "    transformed_cols = transformed_num_cols + transformed_cat_cols\n",
    "\n",
    "    # Create a DataFrame with the transformed data and column names\n",
    "    data_prepared = pd.DataFrame(data, columns=transformed_cols)\n",
    "\n",
    "    return data_prepared\n",
    "\n",
    "preprocessor = get_preprocessor(train_data)\n",
    "data_prepared_array = preprocessor.fit_transform(train_data[:500])\n",
    "\n",
    "# Create a DataFrame with original column names\n",
    "data_prepared_df = create_prepared_dataframe(data_prepared_array, preprocessor)"
   ]
  },
  {
   "cell_type": "code",
   "execution_count": null,
   "id": "bf6bca4b-208f-4c57-b9da-321f9031fad5",
   "metadata": {},
   "outputs": [],
   "source": [
    "data_prepared_df.corr()[\"popularity\"].sort_values(ascending=False)"
   ]
  },
  {
   "cell_type": "code",
   "execution_count": null,
   "id": "e38502dd-c0a2-4d66-880a-3016e834fe9f",
   "metadata": {},
   "outputs": [],
   "source": [
    "preprocessor = get_preprocessor(train_data)"
   ]
  },
  {
   "cell_type": "code",
   "execution_count": null,
   "id": "b84f75bf-fcf2-48fb-927d-e937ee1bab08",
   "metadata": {},
   "outputs": [],
   "source": [
    "type(preprocessor)"
   ]
  },
  {
   "cell_type": "code",
   "execution_count": null,
   "id": "9e618f20-af0d-40a4-817a-25663ddabf76",
   "metadata": {},
   "outputs": [],
   "source": [
    "preprocessor = get_preprocessor(train_data)\n",
    "\n",
    "data_prepared = preprocessor.fit_transform(train_data[:500])\n",
    "#for x in data_prepared:\n",
    "#    print(len(x))\n",
    "#now 4700 columns"
   ]
  },
  {
   "cell_type": "code",
   "execution_count": null,
   "id": "3d34dadb-5de3-412d-9f26-435f7e56ed0c",
   "metadata": {},
   "outputs": [],
   "source": [
    "data_prepared.shape"
   ]
  },
  {
   "cell_type": "markdown",
   "id": "87917623-87ed-4d40-9429-5e5f28d5bd9d",
   "metadata": {},
   "source": [
    "## Check for correlations with (encoded) features"
   ]
  },
  {
   "cell_type": "code",
   "execution_count": null,
   "id": "3cb5d9ad-ae4f-47ac-a759-85126a2fdf3d",
   "metadata": {},
   "outputs": [],
   "source": [
    "# Get the original column names\n",
    "num_attribs = list(all_data.select_dtypes(include=['float64', 'int64']).columns)\n",
    "cat_attribs = list(all_data.select_dtypes(include=['object']).columns)\n",
    "\n",
    "# Get the transformed column names\n",
    "transformed_num_cols = preprocessor.transformers_[0][2].tolist()\n",
    "transformed_cat_cols = list(preprocessor.named_transformers_['cat']['cat_encoder'].get_feature_names_out(cat_attribs\n",
    "                                                                                                        ))\n",
    "\n",
    "# Create a mapping of transformed column names to original column names\n",
    "transformed_cols = transformed_num_cols + transformed_cat_cols\n",
    "orig_cols_expanded = []\n",
    "\n",
    "for col in all_data.columns:\n",
    "    if col in cat_attribs:\n",
    "        one_hot_cols = [t_col for t_col in transformed_cat_cols if t_col.startswith(col + \"_\")]\n",
    "        orig_cols_expanded.extend([col] * len(one_hot_cols))\n",
    "    else:\n",
    "        orig_cols_expanded.append(col)\n",
    "\n",
    "col_mapping = dict(zip(transformed_cols, orig_cols_expanded))\n",
    "\n",
    "# Create the correlation matrix\n",
    "corr_matrix = pd.DataFrame(data_prepared, columns=transformed_cols).corr()\n",
    "\n",
    "# Rename the columns of the correlation matrix using the original column names\n",
    "corr_matrix.rename(columns=col_mapping, index=col_mapping, inplace=True)\n",
    "\n",
    "# Print the correlation matrix\n",
    "print(corr_matrix)"
   ]
  },
  {
   "cell_type": "code",
   "execution_count": null,
   "id": "648affcf-f426-4ece-b983-7d74038f5e56",
   "metadata": {},
   "outputs": [],
   "source": [
    "corr_matrix[\"popularity\"].abs().sort_values(ascending=False)[:20]"
   ]
  },
  {
   "cell_type": "code",
   "execution_count": null,
   "id": "00a48580-3d39-4fa7-bede-53d266978137",
   "metadata": {},
   "outputs": [],
   "source": [
    "# This correlation is super low?? I think the imputing fucked up the correlations, we need to check\n",
    "corr_matrix.loc['popularity', 'artist_popularity']"
   ]
  },
  {
   "cell_type": "code",
   "execution_count": null,
   "id": "1f7a70eb-0284-4898-9f75-129af2cb41e8",
   "metadata": {},
   "outputs": [],
   "source": [
    "from scipy.stats import pointbiserialr\n",
    "\n",
    "cat_data = train_data.select_dtypes(include=['object'])\n",
    "\n",
    "# Calculate point-biserial correlation coefficients for each categorical feature\n",
    "for col in cat_data.columns:\n",
    "    # One-hot encode the categorical feature\n",
    "    one_hot = pd.get_dummies(train_data[col], prefix=col)\n",
    "    \n",
    "    # Calculate the point-biserial correlation coefficient for each encoded category\n",
    "    for one_hot_col in one_hot.columns: \n",
    "        coef, p_value = pointbiserialr(train_data['popularity'], one_hot[one_hot_col])\n",
    "        print(f\"Point-biserial correlation between {one_hot_col} and popularity: {coef:.4f} (p-value: {p_value:.4f})\")"
   ]
  },
  {
   "cell_type": "code",
   "execution_count": null,
   "id": "7d3c3167-6845-4668-880f-f25b81758dda",
   "metadata": {},
   "outputs": [],
   "source": []
  },
  {
   "cell_type": "code",
   "execution_count": null,
   "id": "d29244df-9b05-4b13-9798-6db17bc7101f",
   "metadata": {},
   "outputs": [],
   "source": []
  },
  {
   "cell_type": "code",
   "execution_count": null,
   "id": "8a79c875-5714-413f-be68-1a8944800ca4",
   "metadata": {},
   "outputs": [],
   "source": []
  },
  {
   "cell_type": "code",
   "execution_count": null,
   "id": "ebb3b8be-6d3b-44e7-8631-a353b1977dc9",
   "metadata": {},
   "outputs": [],
   "source": []
  },
  {
   "cell_type": "code",
   "execution_count": null,
   "id": "1a0d5c0f-c916-4f53-a276-b05c737a8b00",
   "metadata": {},
   "outputs": [],
   "source": []
  },
  {
   "cell_type": "code",
   "execution_count": null,
   "id": "b75ad309-d40c-460a-a97d-bcde137ef5e6",
   "metadata": {},
   "outputs": [],
   "source": []
  },
  {
   "cell_type": "code",
   "execution_count": null,
   "id": "05c2a582-00b6-4651-83f2-150121863448",
   "metadata": {},
   "outputs": [],
   "source": []
  },
  {
   "cell_type": "code",
   "execution_count": null,
   "id": "3a2db004-5a20-498d-b0a0-6112d0d0f83d",
   "metadata": {},
   "outputs": [],
   "source": []
  },
  {
   "cell_type": "code",
   "execution_count": null,
   "id": "d77808bb-d2cd-4381-925c-1acb39724ac7",
   "metadata": {},
   "outputs": [],
   "source": []
  },
  {
   "cell_type": "code",
   "execution_count": null,
   "id": "05f6f944-778d-4142-bc93-321c55dda2dc",
   "metadata": {},
   "outputs": [],
   "source": []
  },
  {
   "cell_type": "code",
   "execution_count": null,
   "id": "9a7a0d7d-9495-4a92-af87-af674f2a994d",
   "metadata": {},
   "outputs": [],
   "source": []
  },
  {
   "cell_type": "code",
   "execution_count": null,
   "id": "05084bcc-0e65-4604-9f7c-28993956066b",
   "metadata": {},
   "outputs": [],
   "source": []
  },
  {
   "cell_type": "code",
   "execution_count": null,
   "id": "8ffc5998-b4b7-4cb9-a53c-04e4530c4060",
   "metadata": {},
   "outputs": [],
   "source": []
  },
  {
   "cell_type": "code",
   "execution_count": null,
   "id": "c497a3cc-5128-493f-8ea9-2bb8456b882c",
   "metadata": {},
   "outputs": [],
   "source": []
  },
  {
   "cell_type": "code",
   "execution_count": null,
   "id": "b5d43d95-2411-4698-8eb4-2652379a7b84",
   "metadata": {},
   "outputs": [],
   "source": []
  },
  {
   "cell_type": "code",
   "execution_count": null,
   "id": "9a53c8ba-4f97-424a-8842-58ae7b3e3d24",
   "metadata": {},
   "outputs": [],
   "source": []
  },
  {
   "cell_type": "code",
   "execution_count": null,
   "id": "1088b52b-c8a6-4713-ae2d-cff6f8ce59aa",
   "metadata": {},
   "outputs": [],
   "source": []
  },
  {
   "cell_type": "code",
   "execution_count": null,
   "id": "df286513-5561-4051-b0ba-34fb837cd6cf",
   "metadata": {},
   "outputs": [],
   "source": []
  },
  {
   "cell_type": "code",
   "execution_count": null,
   "id": "402ccbb9-ad5a-4f36-aa0c-e0048a551e01",
   "metadata": {},
   "outputs": [],
   "source": []
  },
  {
   "cell_type": "code",
   "execution_count": null,
   "id": "3544e811-f44c-4a90-9af6-442e0547fc18",
   "metadata": {},
   "outputs": [],
   "source": []
  },
  {
   "cell_type": "code",
   "execution_count": null,
   "id": "6de5ba74-6393-4eaf-ab8f-ebcc0918e4d8",
   "metadata": {},
   "outputs": [],
   "source": []
  },
  {
   "cell_type": "code",
   "execution_count": null,
   "id": "598975e7-6d5c-4098-8f4e-b2495f5baec8",
   "metadata": {},
   "outputs": [],
   "source": []
  }
 ],
 "metadata": {
  "kernelspec": {
   "display_name": "Python 3 (ipykernel)",
   "language": "python",
   "name": "python3"
  },
  "language_info": {
   "codemirror_mode": {
    "name": "ipython",
    "version": 3
   },
   "file_extension": ".py",
   "mimetype": "text/x-python",
   "name": "python",
   "nbconvert_exporter": "python",
   "pygments_lexer": "ipython3",
   "version": "3.11.0"
  }
 },
 "nbformat": 4,
 "nbformat_minor": 5
}
