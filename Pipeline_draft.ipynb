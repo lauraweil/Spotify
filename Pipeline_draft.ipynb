{
 "cells": [
  {
   "cell_type": "code",
   "execution_count": 2,
   "id": "c8251084-ab33-4e38-ade7-9215512238a5",
   "metadata": {},
   "outputs": [],
   "source": [
    "import pandas as pd "
   ]
  },
  {
   "cell_type": "code",
   "execution_count": 3,
   "id": "04b40240-0b6f-452d-a772-5458d58aade0",
   "metadata": {},
   "outputs": [],
   "source": [
    "tracks = pd.read_csv('SpotGenTrack/Data Sources/spotify_tracks.csv', index_col = 0)\n",
    "albums = pd.read_csv('SpotGenTrack/Data Sources/spotify_albums.csv', index_col = 0)\n",
    "artists = pd.read_csv('SpotGenTrack/Data Sources/spotify_artists.csv', index_col = 0)"
   ]
  },
  {
   "cell_type": "markdown",
   "id": "27f73414-4930-4fa2-9cca-a41b5f93fd7c",
   "metadata": {},
   "source": [
    "## Filter Tracks DF"
   ]
  },
  {
   "cell_type": "code",
   "execution_count": 39,
   "id": "e31f6499-cacf-4673-8dfa-1c334bc1a29c",
   "metadata": {},
   "outputs": [],
   "source": [
    "#clean available markets column\n",
    "#additional column: length lyrics?"
   ]
  },
  {
   "cell_type": "code",
   "execution_count": 4,
   "id": "163378ba-8708-4d2d-8bde-9facb01f3d28",
   "metadata": {},
   "outputs": [
    {
     "data": {
      "text/plain": [
       "Index(['acousticness', 'album_id', 'analysis_url', 'artists_id',\n",
       "       'available_markets', 'country', 'danceability', 'disc_number',\n",
       "       'duration_ms', 'energy', 'href', 'id', 'instrumentalness', 'key',\n",
       "       'liveness', 'loudness', 'lyrics', 'mode', 'name', 'playlist',\n",
       "       'popularity', 'preview_url', 'speechiness', 'tempo', 'time_signature',\n",
       "       'track_href', 'track_name_prev', 'track_number', 'uri', 'valence',\n",
       "       'type'],\n",
       "      dtype='object')"
      ]
     },
     "execution_count": 4,
     "metadata": {},
     "output_type": "execute_result"
    }
   ],
   "source": [
    "tracks.columns"
   ]
  },
  {
   "cell_type": "code",
   "execution_count": 5,
   "id": "485e69df-9f98-4c0b-9571-0cf1636df64e",
   "metadata": {},
   "outputs": [],
   "source": [
    "#rename id to track_id\n",
    "tracks.rename(columns={'id': 'track_id_track'},inplace=True)\n",
    "tracks.rename(columns={'artists_id': 'artists_id_track'},inplace=True)"
   ]
  },
  {
   "cell_type": "code",
   "execution_count": 6,
   "id": "e12f2513-d363-4d1d-956b-12816004fe7f",
   "metadata": {},
   "outputs": [
    {
     "name": "stdout",
     "output_type": "stream",
     "text": [
      "popularity          1.000000\n",
      "speechiness         0.304212\n",
      "loudness            0.239679\n",
      "duration_ms         0.169125\n",
      "acousticness        0.154408\n",
      "energy              0.153979\n",
      "track_number        0.139460\n",
      "time_signature      0.121505\n",
      "danceability        0.092382\n",
      "tempo               0.061869\n",
      "liveness            0.059116\n",
      "disc_number         0.047331\n",
      "instrumentalness    0.041537\n",
      "valence             0.034412\n",
      "mode                0.010003\n",
      "key                 0.000641\n",
      "Name: popularity, dtype: float64\n"
     ]
    }
   ],
   "source": [
    "#check for correlations of numerical features\n",
    "num_attribs = tracks.select_dtypes(include=['float64', 'int64']).columns\n",
    "numerical_corr_matrix = tracks[num_attribs].corr().abs()\n",
    "\n",
    "# Display the correlations between the label (e.g., 'popularity') and other numerical columns\n",
    "label_correlations = numerical_corr_matrix['popularity'].sort_values(ascending=False)\n",
    "print(label_correlations)"
   ]
  },
  {
   "cell_type": "code",
   "execution_count": 7,
   "id": "8e9a0d34-c862-459e-8e90-bf7bc80c25fc",
   "metadata": {},
   "outputs": [
    {
     "data": {
      "text/plain": [
       "Index(['album_id', 'analysis_url', 'artists_id_track', 'available_markets',\n",
       "       'country', 'href', 'track_id_track', 'lyrics', 'name', 'playlist',\n",
       "       'preview_url', 'track_href', 'track_name_prev', 'uri', 'type'],\n",
       "      dtype='object')"
      ]
     },
     "execution_count": 7,
     "metadata": {},
     "output_type": "execute_result"
    }
   ],
   "source": [
    "#check for categorical features\n",
    "cat_attribs = tracks.select_dtypes(include=['object']).columns\n",
    "cat_attribs"
   ]
  },
  {
   "cell_type": "code",
   "execution_count": 8,
   "id": "99555637-e708-4e88-86b3-f65ee9f499e9",
   "metadata": {},
   "outputs": [
    {
     "data": {
      "text/plain": [
       "Index(['acousticness', 'album_id', 'analysis_url', 'artists_id_track',\n",
       "       'available_markets', 'country', 'danceability', 'disc_number',\n",
       "       'duration_ms', 'energy', 'href', 'track_id_track', 'instrumentalness',\n",
       "       'key', 'liveness', 'loudness', 'lyrics', 'mode', 'name', 'playlist',\n",
       "       'popularity', 'preview_url', 'speechiness', 'tempo', 'time_signature',\n",
       "       'track_href', 'track_name_prev', 'track_number', 'uri', 'valence',\n",
       "       'type'],\n",
       "      dtype='object')"
      ]
     },
     "execution_count": 8,
     "metadata": {},
     "output_type": "execute_result"
    }
   ],
   "source": [
    "tracks.columns"
   ]
  },
  {
   "cell_type": "code",
   "execution_count": 11,
   "id": "bf3b8364-3337-4644-a3f6-1955d178fc5c",
   "metadata": {},
   "outputs": [],
   "source": [
    "#include numerical columns with correlation greater than 0.1\n",
    "include_col_tracks = [\"playlist\",\"available_markets\",\"country\",\"album_id\",\"artists_id_track\",\"track_id_track\",\"time_signature\",\"track_number\",\"energy\",\"acousticness\",\"duration_ms\",\"loudness\",\"speechiness\",\"popularity\"]      "
   ]
  },
  {
   "cell_type": "code",
   "execution_count": 12,
   "id": "91c9a7aa-f50c-4868-a25c-c15c9dd27fd4",
   "metadata": {},
   "outputs": [
    {
     "data": {
      "text/plain": [
       "Index(['playlist', 'available_markets', 'country', 'album_id',\n",
       "       'artists_id_track', 'track_id_track', 'time_signature', 'track_number',\n",
       "       'energy', 'acousticness', 'duration_ms', 'loudness', 'speechiness',\n",
       "       'popularity'],\n",
       "      dtype='object')"
      ]
     },
     "execution_count": 12,
     "metadata": {},
     "output_type": "execute_result"
    }
   ],
   "source": [
    "tracks_filtered = tracks[include_col_tracks]\n",
    "tracks_filtered.columns"
   ]
  },
  {
   "cell_type": "markdown",
   "id": "1b01660f-3d18-49bb-915e-197d62ef9d19",
   "metadata": {},
   "source": [
    "## Filter albums DF"
   ]
  },
  {
   "cell_type": "code",
   "execution_count": 13,
   "id": "6c99e7ab-f872-40b2-8a9f-38903fb2fb04",
   "metadata": {},
   "outputs": [
    {
     "data": {
      "text/plain": [
       "Index(['album_type', 'artist_id', 'available_markets', 'external_urls', 'href',\n",
       "       'id', 'images', 'name', 'release_date', 'release_date_precision',\n",
       "       'total_tracks', 'track_id', 'track_name_prev', 'uri', 'type'],\n",
       "      dtype='object')"
      ]
     },
     "execution_count": 13,
     "metadata": {},
     "output_type": "execute_result"
    }
   ],
   "source": [
    "albums.columns"
   ]
  },
  {
   "cell_type": "code",
   "execution_count": 14,
   "id": "42ef3c8d-0108-4344-9768-da9fda9096d0",
   "metadata": {},
   "outputs": [],
   "source": [
    "albums.rename(columns={'id': 'album_id'},inplace=True)\n",
    "albums.rename(columns={'track_id': 'track_id_album'},inplace=True)\n",
    "albums.rename(columns={'artist_id': 'artist_id_albums'},inplace=True)"
   ]
  },
  {
   "cell_type": "code",
   "execution_count": 15,
   "id": "890bf390-7411-44ca-ac44-2b13539a6708",
   "metadata": {},
   "outputs": [],
   "source": [
    "albums_include = ['type','album_type', 'artist_id_albums', 'available_markets','total_tracks', 'track_id_album', 'track_name_prev','release_date',\"album_id\"]"
   ]
  },
  {
   "cell_type": "code",
   "execution_count": 16,
   "id": "a670ab17-5bb2-4a7e-8636-14b89d876acf",
   "metadata": {},
   "outputs": [
    {
     "data": {
      "text/plain": [
       "9"
      ]
     },
     "execution_count": 16,
     "metadata": {},
     "output_type": "execute_result"
    }
   ],
   "source": [
    "len(albums_include)"
   ]
  },
  {
   "cell_type": "code",
   "execution_count": 17,
   "id": "78c501c1-aff3-45cb-ac3c-9f2c3adfad9f",
   "metadata": {},
   "outputs": [
    {
     "data": {
      "text/plain": [
       "Index(['type', 'album_type', 'artist_id_albums', 'available_markets',\n",
       "       'total_tracks', 'track_id_album', 'track_name_prev', 'release_date',\n",
       "       'album_id'],\n",
       "      dtype='object')"
      ]
     },
     "execution_count": 17,
     "metadata": {},
     "output_type": "execute_result"
    }
   ],
   "source": [
    "albums_filtered = albums[albums_include]\n",
    "albums_filtered.columns"
   ]
  },
  {
   "cell_type": "markdown",
   "id": "a47b3713-b30d-4973-ba76-362b1297ca5f",
   "metadata": {},
   "source": [
    "## merge tracks and albums df "
   ]
  },
  {
   "cell_type": "code",
   "execution_count": 18,
   "id": "d13580b4-67bc-4ebb-b9fc-d4d04ddbaa85",
   "metadata": {},
   "outputs": [
    {
     "data": {
      "text/plain": [
       "time_signature    0.121505\n",
       "total_tracks      0.132356\n",
       "track_number      0.139460\n",
       "energy            0.153979\n",
       "acousticness      0.154408\n",
       "duration_ms       0.169125\n",
       "loudness          0.239679\n",
       "speechiness       0.304212\n",
       "popularity        1.000000\n",
       "dtype: float64"
      ]
     },
     "execution_count": 18,
     "metadata": {},
     "output_type": "execute_result"
    }
   ],
   "source": [
    "albums_tracks = tracks_filtered.merge(albums_filtered,left_on=\"album_id\",right_on=\"album_id\",how=\"left\")\n",
    "albums_tracks.corrwith(albums_tracks[\"popularity\"]).abs().sort_values()"
   ]
  },
  {
   "cell_type": "code",
   "execution_count": 19,
   "id": "f6acaec7-b396-4e02-8861-bae3bd170649",
   "metadata": {},
   "outputs": [
    {
     "data": {
      "text/plain": [
       "playlist               0\n",
       "available_markets_x    0\n",
       "country                0\n",
       "album_id               0\n",
       "artists_id_track       0\n",
       "track_id_track         0\n",
       "time_signature         0\n",
       "track_number           0\n",
       "energy                 0\n",
       "acousticness           0\n",
       "duration_ms            0\n",
       "loudness               0\n",
       "speechiness            0\n",
       "popularity             0\n",
       "type                   0\n",
       "album_type             0\n",
       "artist_id_albums       0\n",
       "available_markets_y    0\n",
       "total_tracks           0\n",
       "track_id_album         0\n",
       "track_name_prev        0\n",
       "release_date           0\n",
       "dtype: int64"
      ]
     },
     "execution_count": 19,
     "metadata": {},
     "output_type": "execute_result"
    }
   ],
   "source": [
    "albums_tracks.isna().sum()"
   ]
  },
  {
   "cell_type": "code",
   "execution_count": 20,
   "id": "bae2c454-d726-493c-95dc-27ecc29295b6",
   "metadata": {},
   "outputs": [
    {
     "data": {
      "text/plain": [
       "101939"
      ]
     },
     "execution_count": 20,
     "metadata": {},
     "output_type": "execute_result"
    }
   ],
   "source": [
    "len(albums_tracks)"
   ]
  },
  {
   "cell_type": "markdown",
   "id": "0f978037-e73f-4b7c-9dbd-9dd75eba9662",
   "metadata": {},
   "source": [
    "## Filter Artists DF"
   ]
  },
  {
   "cell_type": "code",
   "execution_count": 21,
   "id": "4f94f9d2-06d1-4528-9210-2c71b257b523",
   "metadata": {},
   "outputs": [
    {
     "data": {
      "text/plain": [
       "Index(['artist_popularity', 'followers', 'genres', 'id', 'name', 'track_id',\n",
       "       'track_name_prev', 'type'],\n",
       "      dtype='object')"
      ]
     },
     "execution_count": 21,
     "metadata": {},
     "output_type": "execute_result"
    }
   ],
   "source": [
    "artists.columns"
   ]
  },
  {
   "cell_type": "code",
   "execution_count": 22,
   "id": "bb52f68b-0918-4997-b8e5-1405f27bff2b",
   "metadata": {},
   "outputs": [],
   "source": [
    "artists.rename(columns={\"id\": \"artist_id_artists\"},inplace=True)\n",
    "artists.rename(columns={\"track_id\": \"track_id_artists\"},inplace=True)"
   ]
  },
  {
   "cell_type": "code",
   "execution_count": 23,
   "id": "1436fbdb-a76e-4be0-8bba-8fb301a525e8",
   "metadata": {},
   "outputs": [
    {
     "data": {
      "text/plain": [
       "Index(['artist_popularity', 'followers', 'genres', 'artist_id_artists', 'name',\n",
       "       'track_id_artists', 'track_name_prev', 'type'],\n",
       "      dtype='object')"
      ]
     },
     "execution_count": 23,
     "metadata": {},
     "output_type": "execute_result"
    }
   ],
   "source": [
    "artists.columns"
   ]
  },
  {
   "cell_type": "code",
   "execution_count": 24,
   "id": "319788f8-5a8c-4fb5-973a-bb6883945e58",
   "metadata": {},
   "outputs": [
    {
     "data": {
      "text/plain": [
       "Index(['playlist', 'available_markets_x', 'country', 'album_id',\n",
       "       'artists_id_track', 'track_id_track', 'time_signature', 'track_number',\n",
       "       'energy', 'acousticness', 'duration_ms', 'loudness', 'speechiness',\n",
       "       'popularity', 'type', 'album_type', 'artist_id_albums',\n",
       "       'available_markets_y', 'total_tracks', 'track_id_album',\n",
       "       'track_name_prev', 'release_date'],\n",
       "      dtype='object')"
      ]
     },
     "execution_count": 24,
     "metadata": {},
     "output_type": "execute_result"
    }
   ],
   "source": [
    "albums_tracks.columns"
   ]
  },
  {
   "cell_type": "markdown",
   "id": "c6965e06-180e-46ef-be7f-95b7e4ebb66c",
   "metadata": {},
   "source": [
    "## Merge albums, tracks, artists"
   ]
  },
  {
   "cell_type": "code",
   "execution_count": null,
   "id": "fbc5694b-cc9d-4483-a5ad-6ab170be6ac7",
   "metadata": {},
   "outputs": [],
   "source": [
    "#ARTIST_ID (album df) "
   ]
  },
  {
   "cell_type": "code",
   "execution_count": 25,
   "id": "4244230f-299a-45f1-9025-e69981803780",
   "metadata": {},
   "outputs": [
    {
     "data": {
      "text/plain": [
       "Index(['playlist', 'available_markets_x', 'country', 'album_id',\n",
       "       'artists_id_track', 'track_id_track', 'time_signature', 'track_number',\n",
       "       'energy', 'acousticness', 'duration_ms', 'loudness', 'speechiness',\n",
       "       'popularity', 'type', 'album_type', 'artist_id_albums',\n",
       "       'available_markets_y', 'total_tracks', 'track_id_album',\n",
       "       'track_name_prev', 'release_date'],\n",
       "      dtype='object')"
      ]
     },
     "execution_count": 25,
     "metadata": {},
     "output_type": "execute_result"
    }
   ],
   "source": [
    "albums_tracks.columns"
   ]
  },
  {
   "cell_type": "code",
   "execution_count": 105,
   "id": "3392dc4b-9cb2-4438-b199-9f6ce1f9a30e",
   "metadata": {},
   "outputs": [],
   "source": [
    "albums_tracks_artistis = albums_tracks.merge(artists, left_on=\"artist_id_albums\",right_on=\"artist_id_artists\",how=\"left\")"
   ]
  },
  {
   "cell_type": "code",
   "execution_count": 106,
   "id": "324fdcb2-f794-415f-9c5f-97a2b0024fb7",
   "metadata": {},
   "outputs": [
    {
     "data": {
      "text/plain": [
       "playlist                 0\n",
       "available_markets_x      0\n",
       "country                  0\n",
       "album_id                 0\n",
       "artists_id_track         0\n",
       "track_id_track           0\n",
       "time_signature           0\n",
       "track_number             0\n",
       "energy                   0\n",
       "acousticness             0\n",
       "duration_ms              0\n",
       "loudness                 0\n",
       "speechiness              0\n",
       "popularity               0\n",
       "type_x                   0\n",
       "album_type               0\n",
       "artist_id_albums         0\n",
       "available_markets_y      0\n",
       "total_tracks             0\n",
       "track_id_album           0\n",
       "track_name_prev_x        0\n",
       "release_date             0\n",
       "artist_popularity      795\n",
       "followers              795\n",
       "genres                 795\n",
       "artist_id_artists      795\n",
       "name                   795\n",
       "track_id_artists       795\n",
       "track_name_prev_y      795\n",
       "type_y                 795\n",
       "dtype: int64"
      ]
     },
     "execution_count": 106,
     "metadata": {},
     "output_type": "execute_result"
    }
   ],
   "source": [
    "albums_tracks_artistis.isna().sum()"
   ]
  },
  {
   "cell_type": "code",
   "execution_count": 107,
   "id": "beca6f08-328c-4442-8387-0c1d62e3ac53",
   "metadata": {},
   "outputs": [
    {
     "data": {
      "text/plain": [
       "Index(['playlist', 'available_markets_x', 'country', 'album_id',\n",
       "       'artists_id_track', 'track_id_track', 'time_signature', 'track_number',\n",
       "       'energy', 'acousticness', 'duration_ms', 'loudness', 'speechiness',\n",
       "       'popularity', 'type_x', 'album_type', 'artist_id_albums',\n",
       "       'available_markets_y', 'total_tracks', 'track_id_album',\n",
       "       'track_name_prev_x', 'release_date', 'artist_popularity', 'followers',\n",
       "       'genres', 'artist_id_artists', 'name', 'track_id_artists',\n",
       "       'track_name_prev_y', 'type_y'],\n",
       "      dtype='object')"
      ]
     },
     "execution_count": 107,
     "metadata": {},
     "output_type": "execute_result"
    }
   ],
   "source": [
    "albums_tracks_artistis.columns"
   ]
  },
  {
   "cell_type": "code",
   "execution_count": 110,
   "id": "4a82f28c-c92b-499d-a108-53deba5ea063",
   "metadata": {},
   "outputs": [
    {
     "name": "stdout",
     "output_type": "stream",
     "text": [
      "number of columns in merged:  30\n"
     ]
    }
   ],
   "source": [
    "print(\"number of columns in merged: \",(len(albums_tracks_artistis.columns)))"
   ]
  },
  {
   "cell_type": "code",
   "execution_count": 109,
   "id": "1a756322-0060-4135-99d1-0a60e663e469",
   "metadata": {},
   "outputs": [
    {
     "name": "stdout",
     "output_type": "stream",
     "text": [
      "number of rows in merged:  101939\n"
     ]
    }
   ],
   "source": [
    "print(\"number of rows in merged: \",(len(albums_tracks_artistis)))"
   ]
  },
  {
   "cell_type": "markdown",
   "id": "dc721095-25f8-4e48-832d-aec8c2d1d72b",
   "metadata": {},
   "source": [
    "## Lyrics"
   ]
  },
  {
   "cell_type": "code",
   "execution_count": 111,
   "id": "827baf3c-640a-407d-961a-72afcfb0861d",
   "metadata": {},
   "outputs": [],
   "source": [
    "lyrics_features = pd.read_csv('SpotGenTrack/Features Extracted/lyrics_features.csv', index_col = 0)"
   ]
  },
  {
   "cell_type": "code",
   "execution_count": 112,
   "id": "9d9b229c-a61a-4479-afc7-c2fae8d8ff14",
   "metadata": {},
   "outputs": [
    {
     "data": {
      "text/plain": [
       "Index(['mean_syllables_word', 'mean_words_sentence', 'n_sentences', 'n_words',\n",
       "       'sentence_similarity', 'track_id', 'vocabulary_wealth'],\n",
       "      dtype='object')"
      ]
     },
     "execution_count": 112,
     "metadata": {},
     "output_type": "execute_result"
    }
   ],
   "source": [
    "lyrics_features.columns"
   ]
  },
  {
   "cell_type": "code",
   "execution_count": 125,
   "id": "37c05620-902a-4674-b264-9aac715b1665",
   "metadata": {},
   "outputs": [
    {
     "data": {
      "text/plain": [
       "Index(['album_id', 'artists_id', 'track_id_track', 'time_signature',\n",
       "       'track_number', 'energy', 'acousticness', 'duration_ms', 'loudness',\n",
       "       'speechiness', 'popularity', 'album_type', 'artist_id',\n",
       "       'available_markets', 'total_tracks', 'track_id_x', 'track_name_prev_x',\n",
       "       'release_date', 'artist_popularity', 'followers', 'genres', 'id',\n",
       "       'name', 'track_id_y', 'track_name_prev_y', 'type'],\n",
       "      dtype='object')"
      ]
     },
     "execution_count": 125,
     "metadata": {},
     "output_type": "execute_result"
    }
   ],
   "source": [
    "albums_tracks_artistis.columns"
   ]
  },
  {
   "cell_type": "code",
   "execution_count": 115,
   "id": "892a2dec-e3ce-4fb7-b9cb-88abadb33e7a",
   "metadata": {},
   "outputs": [],
   "source": [
    "albums_tracks_artistis_lyr = albums_tracks_artistis.merge(lyrics_features,left_on=\"track_id_track\",right_on=\"track_id\",how=\"left\")"
   ]
  },
  {
   "cell_type": "code",
   "execution_count": 116,
   "id": "a2741e5c-3a54-4a34-b86a-466b38b3f062",
   "metadata": {},
   "outputs": [
    {
     "data": {
      "text/plain": [
       "playlist                  0\n",
       "available_markets_x       0\n",
       "country                   0\n",
       "album_id                  0\n",
       "artists_id_track          0\n",
       "track_id_track            0\n",
       "time_signature            0\n",
       "track_number              0\n",
       "energy                    0\n",
       "acousticness              0\n",
       "duration_ms               0\n",
       "loudness                  0\n",
       "speechiness               0\n",
       "popularity                0\n",
       "type_x                    0\n",
       "album_type                0\n",
       "artist_id_albums          0\n",
       "available_markets_y       0\n",
       "total_tracks              0\n",
       "track_id_album            0\n",
       "track_name_prev_x         0\n",
       "release_date              0\n",
       "artist_popularity       795\n",
       "followers               795\n",
       "genres                  795\n",
       "artist_id_artists       795\n",
       "name                    795\n",
       "track_id_artists        795\n",
       "track_name_prev_y       795\n",
       "type_y                  795\n",
       "mean_syllables_word    6985\n",
       "mean_words_sentence    6985\n",
       "n_sentences            6985\n",
       "n_words                6985\n",
       "sentence_similarity    6985\n",
       "track_id               6985\n",
       "vocabulary_wealth      6985\n",
       "dtype: int64"
      ]
     },
     "execution_count": 116,
     "metadata": {},
     "output_type": "execute_result"
    }
   ],
   "source": [
    "albums_tracks_artistis_lyr.isnull().sum()"
   ]
  },
  {
   "cell_type": "markdown",
   "id": "83bcac7c-1e37-4422-8678-9e54fa55c7a6",
   "metadata": {},
   "source": [
    "## AUDIO"
   ]
  },
  {
   "cell_type": "code",
   "execution_count": 117,
   "id": "5e5131f3-9ecd-4a67-83a4-767a5f199ea4",
   "metadata": {},
   "outputs": [],
   "source": [
    "%store -r processed_data"
   ]
  },
  {
   "cell_type": "code",
   "execution_count": 118,
   "id": "7ae27429-ccef-4602-8f83-06a73386b908",
   "metadata": {},
   "outputs": [],
   "source": [
    "audio = processed_data"
   ]
  },
  {
   "cell_type": "code",
   "execution_count": 119,
   "id": "4d7b418c-58b8-4a5c-a97a-d51a95c9ef2e",
   "metadata": {},
   "outputs": [
    {
     "data": {
      "text/html": [
       "<div>\n",
       "<style scoped>\n",
       "    .dataframe tbody tr th:only-of-type {\n",
       "        vertical-align: middle;\n",
       "    }\n",
       "\n",
       "    .dataframe tbody tr th {\n",
       "        vertical-align: top;\n",
       "    }\n",
       "\n",
       "    .dataframe thead th {\n",
       "        text-align: right;\n",
       "    }\n",
       "</style>\n",
       "<table border=\"1\" class=\"dataframe\">\n",
       "  <thead>\n",
       "    <tr style=\"text-align: right;\">\n",
       "      <th></th>\n",
       "      <th>track_id</th>\n",
       "      <th>PC1</th>\n",
       "      <th>PC2</th>\n",
       "      <th>PC3</th>\n",
       "      <th>PC4</th>\n",
       "      <th>PC5</th>\n",
       "      <th>PC6</th>\n",
       "      <th>PC7</th>\n",
       "      <th>PC8</th>\n",
       "      <th>PC9</th>\n",
       "      <th>...</th>\n",
       "      <th>PC79</th>\n",
       "      <th>PC80</th>\n",
       "      <th>PC81</th>\n",
       "      <th>PC82</th>\n",
       "      <th>PC83</th>\n",
       "      <th>PC84</th>\n",
       "      <th>PC85</th>\n",
       "      <th>PC86</th>\n",
       "      <th>PC87</th>\n",
       "      <th>PC88</th>\n",
       "    </tr>\n",
       "  </thead>\n",
       "  <tbody>\n",
       "    <tr>\n",
       "      <th>0</th>\n",
       "      <td>19YEk4OVQZn3GfoxbpNrU6</td>\n",
       "      <td>-9.373173</td>\n",
       "      <td>1.207779</td>\n",
       "      <td>2.579315</td>\n",
       "      <td>5.509278</td>\n",
       "      <td>-3.643796</td>\n",
       "      <td>0.024327</td>\n",
       "      <td>-0.124346</td>\n",
       "      <td>0.494057</td>\n",
       "      <td>-1.159323</td>\n",
       "      <td>...</td>\n",
       "      <td>-0.646636</td>\n",
       "      <td>-0.020364</td>\n",
       "      <td>0.317558</td>\n",
       "      <td>0.106963</td>\n",
       "      <td>0.099288</td>\n",
       "      <td>0.372109</td>\n",
       "      <td>0.253148</td>\n",
       "      <td>-0.042244</td>\n",
       "      <td>0.248974</td>\n",
       "      <td>0.116853</td>\n",
       "    </tr>\n",
       "    <tr>\n",
       "      <th>1</th>\n",
       "      <td>6zJms3MX11Qu1IKF44LoRW</td>\n",
       "      <td>-4.340399</td>\n",
       "      <td>-4.404526</td>\n",
       "      <td>6.123797</td>\n",
       "      <td>-0.176404</td>\n",
       "      <td>-2.760384</td>\n",
       "      <td>0.780120</td>\n",
       "      <td>-1.145672</td>\n",
       "      <td>3.259061</td>\n",
       "      <td>-2.286285</td>\n",
       "      <td>...</td>\n",
       "      <td>-0.209083</td>\n",
       "      <td>-0.338872</td>\n",
       "      <td>-0.314767</td>\n",
       "      <td>-0.072111</td>\n",
       "      <td>-0.002087</td>\n",
       "      <td>0.866394</td>\n",
       "      <td>0.064408</td>\n",
       "      <td>-0.309439</td>\n",
       "      <td>0.470892</td>\n",
       "      <td>0.074492</td>\n",
       "    </tr>\n",
       "    <tr>\n",
       "      <th>2</th>\n",
       "      <td>1WugzepXsLjnsM0K4UaWYc</td>\n",
       "      <td>2.786318</td>\n",
       "      <td>0.128274</td>\n",
       "      <td>-0.785948</td>\n",
       "      <td>-2.562150</td>\n",
       "      <td>1.076181</td>\n",
       "      <td>-2.661136</td>\n",
       "      <td>2.717428</td>\n",
       "      <td>-1.517618</td>\n",
       "      <td>-2.737294</td>\n",
       "      <td>...</td>\n",
       "      <td>1.238994</td>\n",
       "      <td>-0.223503</td>\n",
       "      <td>0.853910</td>\n",
       "      <td>-0.026040</td>\n",
       "      <td>1.512267</td>\n",
       "      <td>-0.396584</td>\n",
       "      <td>1.152735</td>\n",
       "      <td>-0.357941</td>\n",
       "      <td>-0.247228</td>\n",
       "      <td>0.437625</td>\n",
       "    </tr>\n",
       "    <tr>\n",
       "      <th>3</th>\n",
       "      <td>1pSlTbCrUJ9rmwj5CNNrX4</td>\n",
       "      <td>14.035909</td>\n",
       "      <td>-8.195006</td>\n",
       "      <td>-0.928468</td>\n",
       "      <td>6.569178</td>\n",
       "      <td>3.405959</td>\n",
       "      <td>-1.103239</td>\n",
       "      <td>-0.464894</td>\n",
       "      <td>1.204150</td>\n",
       "      <td>-2.233487</td>\n",
       "      <td>...</td>\n",
       "      <td>0.797855</td>\n",
       "      <td>0.280554</td>\n",
       "      <td>-0.531856</td>\n",
       "      <td>0.285870</td>\n",
       "      <td>-0.678484</td>\n",
       "      <td>0.273835</td>\n",
       "      <td>0.957807</td>\n",
       "      <td>0.309524</td>\n",
       "      <td>0.167825</td>\n",
       "      <td>-0.223587</td>\n",
       "    </tr>\n",
       "    <tr>\n",
       "      <th>4</th>\n",
       "      <td>5yruvWJs3mL00w4slpCVzN</td>\n",
       "      <td>5.757036</td>\n",
       "      <td>-3.013227</td>\n",
       "      <td>1.666180</td>\n",
       "      <td>2.457010</td>\n",
       "      <td>-1.831961</td>\n",
       "      <td>-0.734062</td>\n",
       "      <td>-1.079056</td>\n",
       "      <td>1.493567</td>\n",
       "      <td>0.776521</td>\n",
       "      <td>...</td>\n",
       "      <td>0.227564</td>\n",
       "      <td>-1.569665</td>\n",
       "      <td>0.317801</td>\n",
       "      <td>1.491005</td>\n",
       "      <td>-0.955201</td>\n",
       "      <td>0.654530</td>\n",
       "      <td>0.257634</td>\n",
       "      <td>-0.260955</td>\n",
       "      <td>-0.490305</td>\n",
       "      <td>-0.632405</td>\n",
       "    </tr>\n",
       "  </tbody>\n",
       "</table>\n",
       "<p>5 rows × 89 columns</p>\n",
       "</div>"
      ],
      "text/plain": [
       "                 track_id        PC1       PC2       PC3       PC4       PC5  \\\n",
       "0  19YEk4OVQZn3GfoxbpNrU6  -9.373173  1.207779  2.579315  5.509278 -3.643796   \n",
       "1  6zJms3MX11Qu1IKF44LoRW  -4.340399 -4.404526  6.123797 -0.176404 -2.760384   \n",
       "2  1WugzepXsLjnsM0K4UaWYc   2.786318  0.128274 -0.785948 -2.562150  1.076181   \n",
       "3  1pSlTbCrUJ9rmwj5CNNrX4  14.035909 -8.195006 -0.928468  6.569178  3.405959   \n",
       "4  5yruvWJs3mL00w4slpCVzN   5.757036 -3.013227  1.666180  2.457010 -1.831961   \n",
       "\n",
       "        PC6       PC7       PC8       PC9  ...      PC79      PC80      PC81  \\\n",
       "0  0.024327 -0.124346  0.494057 -1.159323  ... -0.646636 -0.020364  0.317558   \n",
       "1  0.780120 -1.145672  3.259061 -2.286285  ... -0.209083 -0.338872 -0.314767   \n",
       "2 -2.661136  2.717428 -1.517618 -2.737294  ...  1.238994 -0.223503  0.853910   \n",
       "3 -1.103239 -0.464894  1.204150 -2.233487  ...  0.797855  0.280554 -0.531856   \n",
       "4 -0.734062 -1.079056  1.493567  0.776521  ...  0.227564 -1.569665  0.317801   \n",
       "\n",
       "       PC82      PC83      PC84      PC85      PC86      PC87      PC88  \n",
       "0  0.106963  0.099288  0.372109  0.253148 -0.042244  0.248974  0.116853  \n",
       "1 -0.072111 -0.002087  0.866394  0.064408 -0.309439  0.470892  0.074492  \n",
       "2 -0.026040  1.512267 -0.396584  1.152735 -0.357941 -0.247228  0.437625  \n",
       "3  0.285870 -0.678484  0.273835  0.957807  0.309524  0.167825 -0.223587  \n",
       "4  1.491005 -0.955201  0.654530  0.257634 -0.260955 -0.490305 -0.632405  \n",
       "\n",
       "[5 rows x 89 columns]"
      ]
     },
     "execution_count": 119,
     "metadata": {},
     "output_type": "execute_result"
    }
   ],
   "source": [
    "audio.head()"
   ]
  },
  {
   "cell_type": "code",
   "execution_count": 120,
   "id": "b5db8c58-1eb5-4e21-b2cb-2c5d3e5d5854",
   "metadata": {},
   "outputs": [],
   "source": [
    "albums_tracks_artistis_lyr_audio = albums_tracks_artistis_lyr.merge(audio,left_on=\"track_id_track\",right_on=\"track_id\",how=\"left\")"
   ]
  },
  {
   "cell_type": "code",
   "execution_count": 121,
   "id": "f0e5d7f8-071e-4421-b9f0-5119678086f1",
   "metadata": {},
   "outputs": [
    {
     "data": {
      "text/plain": [
       "playlist                0\n",
       "available_markets_x     0\n",
       "country                 0\n",
       "album_id                0\n",
       "artists_id_track        0\n",
       "                       ..\n",
       "PC84                   30\n",
       "PC85                   30\n",
       "PC86                   30\n",
       "PC87                   30\n",
       "PC88                   30\n",
       "Length: 126, dtype: int64"
      ]
     },
     "execution_count": 121,
     "metadata": {},
     "output_type": "execute_result"
    }
   ],
   "source": [
    "albums_tracks_artistis_lyr_audio.isna().sum()"
   ]
  },
  {
   "cell_type": "markdown",
   "id": "16057c7b-b580-4de2-8e4a-3638c39ec8f7",
   "metadata": {},
   "source": [
    "## ALL data DF"
   ]
  },
  {
   "cell_type": "code",
   "execution_count": 123,
   "id": "4ac66024-210c-4934-a28c-dbc4689fa49e",
   "metadata": {},
   "outputs": [
    {
     "data": {
      "text/plain": [
       "track_id_x             6985\n",
       "vocabulary_wealth      6985\n",
       "mean_syllables_word    6985\n",
       "mean_words_sentence    6985\n",
       "n_words                6985\n",
       "sentence_similarity    6985\n",
       "n_sentences            6985\n",
       "type_y                  795\n",
       "track_name_prev_y       795\n",
       "track_id_artists        795\n",
       "name                    795\n",
       "artist_id_artists       795\n",
       "genres                  795\n",
       "followers               795\n",
       "artist_popularity       795\n",
       "PC56                     30\n",
       "PC57                     30\n",
       "PC58                     30\n",
       "PC62                     30\n",
       "PC59                     30\n",
       "dtype: int64"
      ]
     },
     "execution_count": 123,
     "metadata": {},
     "output_type": "execute_result"
    }
   ],
   "source": [
    "albums_tracks_artistis_lyr_audio.isna().sum().sort_values(ascending=False)[:20]"
   ]
  },
  {
   "cell_type": "code",
   "execution_count": 124,
   "id": "4c73e5a8-9146-45ad-96fd-1c2e91569284",
   "metadata": {},
   "outputs": [
    {
     "data": {
      "text/plain": [
       "(101939, 126)"
      ]
     },
     "execution_count": 124,
     "metadata": {},
     "output_type": "execute_result"
    }
   ],
   "source": [
    "all_data = albums_tracks_artistis_lyr_audio\n",
    "all_data.shape"
   ]
  },
  {
   "cell_type": "code",
   "execution_count": 144,
   "id": "c59277c3-68dc-471e-9138-6b4d8fc00fe4",
   "metadata": {},
   "outputs": [],
   "source": [
    "corr_num = all_data.corrwith(all_data['popularity']).abs().sort_values(ascending=False)"
   ]
  },
  {
   "cell_type": "code",
   "execution_count": 146,
   "id": "4ab29344-4da0-49a1-9f84-1cc9146df6aa",
   "metadata": {},
   "outputs": [
    {
     "data": {
      "text/plain": [
       "popularity           1.000000\n",
       "artist_popularity    0.649121\n",
       "speechiness          0.304212\n",
       "followers            0.286363\n",
       "loudness             0.239679\n",
       "PC4                  0.209116\n",
       "PC1                  0.205940\n",
       "duration_ms          0.169125\n",
       "acousticness         0.154408\n",
       "energy               0.153979\n",
       "dtype: float64"
      ]
     },
     "execution_count": 146,
     "metadata": {},
     "output_type": "execute_result"
    }
   ],
   "source": [
    "corr_num[:10]"
   ]
  },
  {
   "cell_type": "markdown",
   "id": "7077a284-48c0-4da1-a220-93168f0680d1",
   "metadata": {},
   "source": [
    "## Analysis of popularity"
   ]
  },
  {
   "cell_type": "code",
   "execution_count": 35,
   "id": "8eadf4cd-f388-4ae0-9705-672b22746a66",
   "metadata": {},
   "outputs": [
    {
     "data": {
      "image/png": "[encoded data removed]",
      "text/plain": [
       "<Figure size 2000x1500 with 1 Axes>"
      ]
     },
     "metadata": {},
     "output_type": "display_data"
    }
   ],
   "source": [
    "import matplotlib.pyplot as plt\n",
    "\n",
    "\n",
    "tracks[\"popularity\"].hist(bins=50, figsize=(20,15))\n",
    "\n",
    "plt.show()"
   ]
  },
  {
   "cell_type": "code",
   "execution_count": 36,
   "id": "69c404fe-3207-4265-8f27-39071e59ddc1",
   "metadata": {},
   "outputs": [
    {
     "data": {
      "text/plain": [
       "90024                                       Calma - Remix\n",
       "101706                                   Sweet but Psycho\n",
       "100168                            Going Bad (feat. Drake)\n",
       "100625                                               Talk\n",
       "94579                                     i'm so tired...\n",
       "101732                                  MIA (feat. Drake)\n",
       "94452                                          High Hopes\n",
       "89186                         Giant (with Rag'n'Bone Man)\n",
       "100383                                         Adan y Eva\n",
       "89648                                   Baila Baila Baila\n",
       "86219                                   Murder On My Mind\n",
       "91256                                          SICKO MODE\n",
       "92713                                  Let Me Down Slowly\n",
       "92734                                           Please Me\n",
       "93924                  ZEZE (feat. Travis Scott & Offset)\n",
       "93012                                               a lot\n",
       "74129                                            Thotiana\n",
       "90029                                        Desconocidos\n",
       "88504                             Swervin (feat. 6ix9ine)\n",
       "100940    Nothing Breaks Like a Heart (feat. Miley Cyrus)\n",
       "Name: name, dtype: object"
      ]
     },
     "execution_count": 36,
     "metadata": {},
     "output_type": "execute_result"
    }
   ],
   "source": [
    "tracks.sort_values(by=\"popularity\",ascending=False)[\"name\"][:20]"
   ]
  },
  {
   "cell_type": "code",
   "execution_count": 34,
   "id": "173425d9-8ddd-451f-bb5e-22bc07f51d70",
   "metadata": {},
   "outputs": [
    {
     "data": {
      "text/html": [
       "<div>\n",
       "<style scoped>\n",
       "    .dataframe tbody tr th:only-of-type {\n",
       "        vertical-align: middle;\n",
       "    }\n",
       "\n",
       "    .dataframe tbody tr th {\n",
       "        vertical-align: top;\n",
       "    }\n",
       "\n",
       "    .dataframe thead th {\n",
       "        text-align: right;\n",
       "    }\n",
       "</style>\n",
       "<table border=\"1\" class=\"dataframe\">\n",
       "  <thead>\n",
       "    <tr style=\"text-align: right;\">\n",
       "      <th></th>\n",
       "      <th>name_track</th>\n",
       "      <th>popularity</th>\n",
       "    </tr>\n",
       "  </thead>\n",
       "  <tbody>\n",
       "    <tr>\n",
       "      <th>74129</th>\n",
       "      <td>Thotiana</td>\n",
       "      <td>93.0</td>\n",
       "    </tr>\n",
       "    <tr>\n",
       "      <th>86219</th>\n",
       "      <td>Murder On My Mind</td>\n",
       "      <td>94.0</td>\n",
       "    </tr>\n",
       "    <tr>\n",
       "      <th>87065</th>\n",
       "      <td>Who Do You Love (with 5 Seconds of Summer)</td>\n",
       "      <td>92.0</td>\n",
       "    </tr>\n",
       "    <tr>\n",
       "      <th>88496</th>\n",
       "      <td>Look Back At It</td>\n",
       "      <td>91.0</td>\n",
       "    </tr>\n",
       "    <tr>\n",
       "      <th>88504</th>\n",
       "      <td>Swervin (feat. 6ix9ine)</td>\n",
       "      <td>92.0</td>\n",
       "    </tr>\n",
       "    <tr>\n",
       "      <th>89186</th>\n",
       "      <td>Giant (with Rag'n'Bone Man)</td>\n",
       "      <td>95.0</td>\n",
       "    </tr>\n",
       "    <tr>\n",
       "      <th>89648</th>\n",
       "      <td>Baila Baila Baila</td>\n",
       "      <td>95.0</td>\n",
       "    </tr>\n",
       "    <tr>\n",
       "      <th>90024</th>\n",
       "      <td>Calma - Remix</td>\n",
       "      <td>97.0</td>\n",
       "    </tr>\n",
       "    <tr>\n",
       "      <th>90029</th>\n",
       "      <td>Desconocidos</td>\n",
       "      <td>93.0</td>\n",
       "    </tr>\n",
       "    <tr>\n",
       "      <th>91115</th>\n",
       "      <td>Te Vi</td>\n",
       "      <td>92.0</td>\n",
       "    </tr>\n",
       "    <tr>\n",
       "      <th>91130</th>\n",
       "      <td>Amanece</td>\n",
       "      <td>92.0</td>\n",
       "    </tr>\n",
       "    <tr>\n",
       "      <th>91256</th>\n",
       "      <td>SICKO MODE</td>\n",
       "      <td>94.0</td>\n",
       "    </tr>\n",
       "    <tr>\n",
       "      <th>92713</th>\n",
       "      <td>Let Me Down Slowly</td>\n",
       "      <td>93.0</td>\n",
       "    </tr>\n",
       "    <tr>\n",
       "      <th>92734</th>\n",
       "      <td>Please Me</td>\n",
       "      <td>93.0</td>\n",
       "    </tr>\n",
       "    <tr>\n",
       "      <th>93012</th>\n",
       "      <td>a lot</td>\n",
       "      <td>93.0</td>\n",
       "    </tr>\n",
       "    <tr>\n",
       "      <th>93924</th>\n",
       "      <td>ZEZE (feat. Travis Scott &amp; Offset)</td>\n",
       "      <td>93.0</td>\n",
       "    </tr>\n",
       "    <tr>\n",
       "      <th>94452</th>\n",
       "      <td>High Hopes</td>\n",
       "      <td>95.0</td>\n",
       "    </tr>\n",
       "    <tr>\n",
       "      <th>94579</th>\n",
       "      <td>i'm so tired...</td>\n",
       "      <td>95.0</td>\n",
       "    </tr>\n",
       "    <tr>\n",
       "      <th>100168</th>\n",
       "      <td>Going Bad (feat. Drake)</td>\n",
       "      <td>95.0</td>\n",
       "    </tr>\n",
       "    <tr>\n",
       "      <th>100383</th>\n",
       "      <td>Adan y Eva</td>\n",
       "      <td>95.0</td>\n",
       "    </tr>\n",
       "    <tr>\n",
       "      <th>100625</th>\n",
       "      <td>Talk</td>\n",
       "      <td>95.0</td>\n",
       "    </tr>\n",
       "    <tr>\n",
       "      <th>100940</th>\n",
       "      <td>Nothing Breaks Like a Heart (feat. Miley Cyrus)</td>\n",
       "      <td>92.0</td>\n",
       "    </tr>\n",
       "    <tr>\n",
       "      <th>101525</th>\n",
       "      <td>Promises (with Sam Smith)</td>\n",
       "      <td>91.0</td>\n",
       "    </tr>\n",
       "    <tr>\n",
       "      <th>101706</th>\n",
       "      <td>Sweet but Psycho</td>\n",
       "      <td>97.0</td>\n",
       "    </tr>\n",
       "    <tr>\n",
       "      <th>101732</th>\n",
       "      <td>MIA (feat. Drake)</td>\n",
       "      <td>95.0</td>\n",
       "    </tr>\n",
       "  </tbody>\n",
       "</table>\n",
       "</div>"
      ],
      "text/plain": [
       "                                             name_track  popularity\n",
       "74129                                          Thotiana        93.0\n",
       "86219                                 Murder On My Mind        94.0\n",
       "87065        Who Do You Love (with 5 Seconds of Summer)        92.0\n",
       "88496                                   Look Back At It        91.0\n",
       "88504                           Swervin (feat. 6ix9ine)        92.0\n",
       "89186                       Giant (with Rag'n'Bone Man)        95.0\n",
       "89648                                 Baila Baila Baila        95.0\n",
       "90024                                     Calma - Remix        97.0\n",
       "90029                                      Desconocidos        93.0\n",
       "91115                                             Te Vi        92.0\n",
       "91130                                           Amanece        92.0\n",
       "91256                                        SICKO MODE        94.0\n",
       "92713                                Let Me Down Slowly        93.0\n",
       "92734                                         Please Me        93.0\n",
       "93012                                             a lot        93.0\n",
       "93924                ZEZE (feat. Travis Scott & Offset)        93.0\n",
       "94452                                        High Hopes        95.0\n",
       "94579                                   i'm so tired...        95.0\n",
       "100168                          Going Bad (feat. Drake)        95.0\n",
       "100383                                       Adan y Eva        95.0\n",
       "100625                                             Talk        95.0\n",
       "100940  Nothing Breaks Like a Heart (feat. Miley Cyrus)        92.0\n",
       "101525                        Promises (with Sam Smith)        91.0\n",
       "101706                                 Sweet but Psycho        97.0\n",
       "101732                                MIA (feat. Drake)        95.0"
      ]
     },
     "execution_count": 34,
     "metadata": {},
     "output_type": "execute_result"
    }
   ],
   "source": [
    "#outliers in label\n",
    "from scipy.stats import zscore\n",
    "z_scores = zscore(all_data_sources['popularity'])\n",
    "potential_outliers = all_data_sources[(z_scores > 3) | (z_scores < -3)]\n",
    "potential_outliers[[\"name_track\",\"popularity\"]]"
   ]
  },
  {
   "cell_type": "markdown",
   "id": "9386f1f6-55e9-477f-a816-22c6bb05535b",
   "metadata": {},
   "source": [
    "## prepro pipeline"
   ]
  },
  {
   "cell_type": "markdown",
   "id": "70845917-3684-4db7-80a7-925d29a5060a",
   "metadata": {},
   "source": [
    "#notes for pipeline:\n",
    "- train model with train data \n",
    "- Include categorical columns of track df\n",
    "- Include hanna’s version of audio features df \n",
    "- Drop track id before transforming\n",
    "- After scaling correlations super low- Imputer strategy for artist_popularity \n"
   ]
  },
  {
   "cell_type": "code",
   "execution_count": 139,
   "id": "583cffed-1489-46f9-aeb0-149f6c3411c3",
   "metadata": {},
   "outputs": [
    {
     "data": {
      "text/plain": [
       "(101939, 126)"
      ]
     },
     "execution_count": 139,
     "metadata": {},
     "output_type": "execute_result"
    }
   ],
   "source": [
    "all_data.shape"
   ]
  },
  {
   "cell_type": "code",
   "execution_count": 140,
   "id": "14b62d07-382d-4181-aae2-b13d1f6d1f11",
   "metadata": {},
   "outputs": [
    {
     "data": {
      "text/plain": [
       "Index(['playlist', 'available_markets_x', 'country', 'album_id',\n",
       "       'artists_id_track', 'track_id_track', 'time_signature', 'track_number',\n",
       "       'energy', 'acousticness',\n",
       "       ...\n",
       "       'PC79', 'PC80', 'PC81', 'PC82', 'PC83', 'PC84', 'PC85', 'PC86', 'PC87',\n",
       "       'PC88'],\n",
       "      dtype='object', length=126)"
      ]
     },
     "execution_count": 140,
     "metadata": {},
     "output_type": "execute_result"
    }
   ],
   "source": [
    "all_data.columns"
   ]
  },
  {
   "cell_type": "code",
   "execution_count": 141,
   "id": "c1a682bd-9a95-46f1-975c-51a19fa58f22",
   "metadata": {},
   "outputs": [],
   "source": [
    "duplicate_columns = all_data.columns[all_data.columns.duplicated()]"
   ]
  },
  {
   "cell_type": "code",
   "execution_count": 142,
   "id": "0186abf0-c66e-447e-93b0-43fbaf16fb03",
   "metadata": {},
   "outputs": [
    {
     "data": {
      "text/plain": [
       "Index([], dtype='object')"
      ]
     },
     "execution_count": 142,
     "metadata": {},
     "output_type": "execute_result"
    }
   ],
   "source": [
    "duplicate_columns"
   ]
  },
  {
   "cell_type": "markdown",
   "id": "a3fd896a-284f-4ffb-a5a2-08b70f05de42",
   "metadata": {},
   "source": [
    "## Dropping columns"
   ]
  },
  {
   "cell_type": "code",
   "execution_count": 143,
   "id": "5d193bd4-3ab0-41bd-99d5-f59d6cacc08f",
   "metadata": {},
   "outputs": [],
   "source": [
    "drop_all = [\"name\",\"track_id_track\",\"track_id_y\",\"artist_id\", \"track_id_x\", \"release_date\", \"id\", \"album_id\", \"artists_id\",\"track_id\"]  "
   ]
  },
  {
   "cell_type": "code",
   "execution_count": 285,
   "id": "7849fcb5-bc45-4258-be02-5e707b4fec1a",
   "metadata": {},
   "outputs": [],
   "source": [
    "all_data = all_data.drop(columns=drop_all)"
   ]
  },
  {
   "cell_type": "code",
   "execution_count": 286,
   "id": "91921c7f-071c-409b-88be-129772c6af42",
   "metadata": {},
   "outputs": [
    {
     "data": {
      "text/plain": [
       "(101939, 23)"
      ]
     },
     "execution_count": 286,
     "metadata": {},
     "output_type": "execute_result"
    }
   ],
   "source": [
    "all_data.shape"
   ]
  },
  {
   "cell_type": "code",
   "execution_count": 287,
   "id": "28f8ea96-0a2c-4793-86f5-009341ec431d",
   "metadata": {},
   "outputs": [
    {
     "data": {
      "text/plain": [
       "Index(['time_signature', 'track_number', 'energy', 'acousticness',\n",
       "       'duration_ms', 'loudness', 'speechiness', 'popularity', 'album_type',\n",
       "       'available_markets', 'total_tracks', 'track_name_prev_x',\n",
       "       'artist_popularity', 'followers', 'genres', 'track_name_prev_y', 'type',\n",
       "       'mean_syllables_word', 'mean_words_sentence', 'n_sentences', 'n_words',\n",
       "       'sentence_similarity', 'vocabulary_wealth'],\n",
       "      dtype='object')"
      ]
     },
     "execution_count": 287,
     "metadata": {},
     "output_type": "execute_result"
    }
   ],
   "source": [
    "all_data.columns"
   ]
  },
  {
   "cell_type": "code",
   "execution_count": 158,
   "id": "a25b062a-f738-4133-8985-0c4c8b28af61",
   "metadata": {},
   "outputs": [],
   "source": [
    "import matplotlib.pyplot as plt\n",
    "from sklearn.pipeline import Pipeline\n",
    "from sklearn.impute import SimpleImputer\n",
    "from sklearn.preprocessing import StandardScaler\n",
    "from sklearn.preprocessing import OneHotEncoder\n",
    "from sklearn.compose import ColumnTransformer\n",
    "from sklearn.base import BaseEstimator, TransformerMixin\n",
    "from sklearn.pipeline import FeatureUnion\n",
    "from sklearn.model_selection import train_test_split, cross_val_predict, cross_val_score, KFold\n",
    "from sklearn.metrics import accuracy_score, precision_score, recall_score, confusion_matrix\n",
    "from sklearn.linear_model import LogisticRegressionCV\n",
    "from sklearn.preprocessing import LabelEncoder\n",
    "from sklearn.pipeline import Pipeline\n",
    "from sklearn.preprocessing import StandardScaler\n",
    "from sklearn.pipeline import FeatureUnion\n",
    "from sklearn.base import BaseEstimator, TransformerMixin\n",
    "from sklearn.impute import SimpleImputer"
   ]
  },
  {
   "cell_type": "code",
   "execution_count": 288,
   "id": "7fab99cb-7e08-4c9b-8792-fe67d65ccfee",
   "metadata": {},
   "outputs": [],
   "source": [
    "#define features and labels \n",
    "X = all_data.drop(columns=[\"popularity\"])\n",
    "y = all_data[\"popularity\"]"
   ]
  },
  {
   "cell_type": "code",
   "execution_count": 289,
   "id": "e5e6ae00-8fe6-4108-8fa4-d2c5df560289",
   "metadata": {},
   "outputs": [],
   "source": [
    "#train test split \n",
    "train_data, test_data = train_test_split(all_data, test_size=0.2, random_state=42)"
   ]
  },
  {
   "cell_type": "code",
   "execution_count": 290,
   "id": "ac7f4ff5-a46e-4447-9c92-9efa4f33117d",
   "metadata": {},
   "outputs": [
    {
     "data": {
      "text/plain": [
       "(81551, 23)"
      ]
     },
     "execution_count": 290,
     "metadata": {},
     "output_type": "execute_result"
    }
   ],
   "source": [
    "train_data.shape"
   ]
  },
  {
   "cell_type": "code",
   "execution_count": 291,
   "id": "8e8bf4b4-af19-4053-8a0b-a5f918b498e3",
   "metadata": {},
   "outputs": [
    {
     "data": {
      "text/plain": [
       "popularity             1.000000\n",
       "artist_popularity      0.646580\n",
       "followers              0.285169\n",
       "loudness               0.237553\n",
       "energy                 0.152519\n",
       "time_signature         0.119197\n",
       "sentence_similarity    0.052971\n",
       "mean_syllables_word    0.040428\n",
       "n_sentences            0.035517\n",
       "vocabulary_wealth      0.025098\n",
       "mean_words_sentence   -0.096957\n",
       "n_words               -0.098085\n",
       "total_tracks          -0.129421\n",
       "track_number          -0.134224\n",
       "acousticness          -0.153994\n",
       "duration_ms           -0.164460\n",
       "speechiness           -0.302021\n",
       "Name: popularity, dtype: float64"
      ]
     },
     "execution_count": 291,
     "metadata": {},
     "output_type": "execute_result"
    }
   ],
   "source": [
    "train_data.corr().sort_values(by=\"popularity\",ascending=False)[\"popularity\"]"
   ]
  },
  {
   "cell_type": "code",
   "execution_count": 292,
   "id": "971d9002-e99f-4b42-9435-f1d6fddb34ec",
   "metadata": {},
   "outputs": [
    {
     "data": {
      "text/plain": [
       "time_signature         float64\n",
       "track_number           float64\n",
       "energy                 float64\n",
       "acousticness           float64\n",
       "duration_ms            float64\n",
       "loudness               float64\n",
       "speechiness            float64\n",
       "popularity             float64\n",
       "album_type              object\n",
       "available_markets       object\n",
       "total_tracks             int64\n",
       "track_name_prev_x       object\n",
       "artist_popularity      float64\n",
       "followers              float64\n",
       "genres                  object\n",
       "track_name_prev_y       object\n",
       "type                    object\n",
       "mean_syllables_word    float64\n",
       "mean_words_sentence    float64\n",
       "n_sentences            float64\n",
       "n_words                float64\n",
       "sentence_similarity    float64\n",
       "vocabulary_wealth      float64\n",
       "dtype: object"
      ]
     },
     "execution_count": 292,
     "metadata": {},
     "output_type": "execute_result"
    }
   ],
   "source": [
    "train_data.dtypes"
   ]
  },
  {
   "cell_type": "code",
   "execution_count": 293,
   "id": "8266c096-bd46-400e-93e9-de51f3c58c74",
   "metadata": {},
   "outputs": [
    {
     "data": {
      "text/plain": [
       "Index(['time_signature', 'track_number', 'energy', 'acousticness',\n",
       "       'duration_ms', 'loudness', 'speechiness', 'popularity', 'album_type',\n",
       "       'available_markets', 'total_tracks', 'track_name_prev_x',\n",
       "       'artist_popularity', 'followers', 'genres', 'track_name_prev_y', 'type',\n",
       "       'mean_syllables_word', 'mean_words_sentence', 'n_sentences', 'n_words',\n",
       "       'sentence_similarity', 'vocabulary_wealth'],\n",
       "      dtype='object')"
      ]
     },
     "execution_count": 293,
     "metadata": {},
     "output_type": "execute_result"
    }
   ],
   "source": [
    "train_data.columns"
   ]
  },
  {
   "cell_type": "code",
   "execution_count": 295,
   "id": "9f7de779-a160-4e6d-bad6-008ec6b94601",
   "metadata": {},
   "outputs": [],
   "source": [
    "class DataFrameSelector(BaseEstimator, TransformerMixin):\n",
    "    def __init__(self, attribute_names):\n",
    "        self.attribute_names = attribute_names\n",
    "    \n",
    "    def fit(self, X, y=None):\n",
    "        return self\n",
    "    \n",
    "    def transform(self, X):\n",
    "        return X[self.attribute_names]\n",
    "\n",
    "    \n",
    "def get_preprocessor(data):\n",
    "    \n",
    "    num_attribs = data.select_dtypes(include=['float64', 'int64']).columns\n",
    "    cat_attribs = data.select_dtypes(include=['object']).columns\n",
    "    \n",
    "    num_pipeline = Pipeline([\n",
    "            ('selector', DataFrameSelector(num_attribs)),\n",
    "            ('imputer', SimpleImputer(strategy=\"median\")),\n",
    "            ('std_scaler', StandardScaler()),\n",
    "        ])\n",
    "    \n",
    "    cat_pipeline = Pipeline([\n",
    "            ('selector', DataFrameSelector(cat_attribs)),\n",
    "            ('cat_encoder', OneHotEncoder(sparse=False)),\n",
    "        ])\n",
    "    \n",
    "    full_pipeline = ColumnTransformer([\n",
    "        (\"num\", num_pipeline, num_attribs),\n",
    "        (\"cat\", cat_pipeline, cat_attribs),\n",
    "    ])\n",
    "    \n",
    "    return full_pipeline\n",
    "\n",
    "def create_prepared_dataframe(data, preprocessor):\n",
    "    # Get the transformed column names\n",
    "    transformed_num_cols = preprocessor.transformers_[0][2].tolist()\n",
    "    transformed_cat_cols = list(preprocessor.named_transformers_['cat']['cat_encoder'].get_feature_names_out(cat_attribs))\n",
    "\n",
    "    # Combine the transformed column names\n",
    "    transformed_cols = transformed_num_cols + transformed_cat_cols\n",
    "\n",
    "    # Create a DataFrame with the transformed data and column names\n",
    "    data_prepared = pd.DataFrame(data, columns=transformed_cols)\n",
    "\n",
    "    return data_prepared\n",
    "\n",
    "preprocessor = get_preprocessor(train_data)\n",
    "data_prepared_array = preprocessor.fit_transform(train_data[:500])\n",
    "\n",
    "# Create a DataFrame with original column names\n",
    "data_prepared_df = create_prepared_dataframe(data_prepared_array, preprocessor)"
   ]
  },
  {
   "cell_type": "code",
   "execution_count": 302,
   "id": "bf6bca4b-208f-4c57-b9da-321f9031fad5",
   "metadata": {},
   "outputs": [
    {
     "data": {
      "text/plain": [
       "popularity             1.000000\n",
       "artist_popularity      0.610101\n",
       "followers              0.266291\n",
       "loudness               0.232791\n",
       "energy                 0.188287\n",
       "                         ...   \n",
       "track_number          -0.168538\n",
       "genres_['guidance']   -0.179179\n",
       "total_tracks          -0.218432\n",
       "speechiness           -0.272963\n",
       "genres_[]             -0.303132\n",
       "Name: popularity, Length: 622, dtype: float64"
      ]
     },
     "execution_count": 302,
     "metadata": {},
     "output_type": "execute_result"
    }
   ],
   "source": [
    "data_prepared_df.corr()[\"popularity\"].sort_values(ascending=False)"
   ]
  },
  {
   "cell_type": "code",
   "execution_count": 269,
   "id": "e38502dd-c0a2-4d66-880a-3016e834fe9f",
   "metadata": {},
   "outputs": [],
   "source": [
    "preprocessor = get_preprocessor(train_data)"
   ]
  },
  {
   "cell_type": "code",
   "execution_count": 270,
   "id": "b84f75bf-fcf2-48fb-927d-e937ee1bab08",
   "metadata": {},
   "outputs": [
    {
     "data": {
      "text/plain": [
       "sklearn.compose._column_transformer.ColumnTransformer"
      ]
     },
     "execution_count": 270,
     "metadata": {},
     "output_type": "execute_result"
    }
   ],
   "source": [
    "type(preprocessor)"
   ]
  },
  {
   "cell_type": "code",
   "execution_count": 271,
   "id": "9e618f20-af0d-40a4-817a-25663ddabf76",
   "metadata": {},
   "outputs": [],
   "source": [
    "preprocessor = get_preprocessor(train_data)\n",
    "\n",
    "data_prepared = preprocessor.fit_transform(train_data[:500])\n",
    "#for x in data_prepared:\n",
    "#    print(len(x))\n",
    "#now 4700 columns"
   ]
  },
  {
   "cell_type": "code",
   "execution_count": 272,
   "id": "3d34dadb-5de3-412d-9f26-435f7e56ed0c",
   "metadata": {},
   "outputs": [
    {
     "data": {
      "text/plain": [
       "(500, 622)"
      ]
     },
     "execution_count": 272,
     "metadata": {},
     "output_type": "execute_result"
    }
   ],
   "source": [
    "data_prepared.shape"
   ]
  },
  {
   "cell_type": "markdown",
   "id": "87917623-87ed-4d40-9429-5e5f28d5bd9d",
   "metadata": {},
   "source": [
    "## Check for correlations with (encoded) features"
   ]
  },
  {
   "cell_type": "code",
   "execution_count": 273,
   "id": "3cb5d9ad-ae4f-47ac-a759-85126a2fdf3d",
   "metadata": {},
   "outputs": [
    {
     "name": "stdout",
     "output_type": "stream",
     "text": [
      "                     time_signature  track_number    energy  acousticness  \\\n",
      "time_signature             1.000000      0.025870  0.221201     -0.106896   \n",
      "track_number               0.025870      1.000000 -0.197510      0.164361   \n",
      "energy                     0.221201     -0.197510  1.000000     -0.684732   \n",
      "acousticness              -0.106896      0.164361 -0.684732      1.000000   \n",
      "duration_ms                0.031829     -0.062149 -0.129624      0.104290   \n",
      "...                             ...           ...       ...           ...   \n",
      "mean_words_sentence        0.009839     -0.023125 -0.011276     -0.015982   \n",
      "n_sentences                0.009839     -0.023125  0.049990     -0.046174   \n",
      "n_words                   -0.045383      0.046509 -0.029985      0.080060   \n",
      "sentence_similarity        0.045383     -0.046509  0.029985     -0.080060   \n",
      "vocabulary_wealth         -0.045383      0.046509 -0.029985      0.080060   \n",
      "\n",
      "                     duration_ms  loudness  speechiness  popularity  \\\n",
      "time_signature          0.031829  0.281506    -0.005177    0.155012   \n",
      "track_number           -0.062149 -0.289985     0.323928   -0.168538   \n",
      "energy                 -0.129624  0.783228    -0.114038    0.188287   \n",
      "acousticness            0.104290 -0.561248     0.181591   -0.165851   \n",
      "duration_ms             1.000000 -0.115595     0.169682   -0.160368   \n",
      "...                          ...       ...          ...         ...   \n",
      "mean_words_sentence    -0.020464 -0.004323    -0.013496    0.009586   \n",
      "n_sentences            -0.009026  0.032377    -0.017581    0.014969   \n",
      "n_words                 0.018286 -0.020061     0.048260   -0.130998   \n",
      "sentence_similarity    -0.018286  0.020061    -0.048260    0.130998   \n",
      "vocabulary_wealth       0.018286 -0.020061     0.048260   -0.130998   \n",
      "\n",
      "                     album_type  album_type  ...  track_name_prev_y  \\\n",
      "time_signature        -0.107974    0.194667  ...           0.009839   \n",
      "track_number           0.659047   -0.003023  ...          -0.023125   \n",
      "energy                -0.166831    0.176068  ...          -0.006724   \n",
      "acousticness           0.063804   -0.077049  ...          -0.022507   \n",
      "duration_ms           -0.083805   -0.131705  ...          -0.014530   \n",
      "...                         ...         ...  ...                ...   \n",
      "mean_words_sentence   -0.030027    0.004550  ...          -0.002004   \n",
      "n_sentences           -0.030027    0.019617  ...          -0.002004   \n",
      "n_words                0.090971    0.011202  ...          -0.004934   \n",
      "sentence_similarity   -0.090971   -0.011202  ...           0.004934   \n",
      "vocabulary_wealth      0.090971    0.011202  ...          -0.004934   \n",
      "\n",
      "                     track_name_prev_y      type      type  \\\n",
      "time_signature                0.009839  0.009839  0.032965   \n",
      "track_number                 -0.023125 -0.009498  0.015909   \n",
      "energy                       -0.073242  0.037387  0.064534   \n",
      "acousticness                  0.088680 -0.042650 -0.058831   \n",
      "duration_ms                  -0.013270 -0.006543 -0.016792   \n",
      "...                                ...       ...       ...   \n",
      "mean_words_sentence          -0.002004 -0.002004 -0.006714   \n",
      "n_sentences                  -0.002004 -0.002004 -0.006714   \n",
      "n_words                      -0.004934 -0.004934 -0.016529   \n",
      "sentence_similarity           0.004934  0.004934  0.016529   \n",
      "vocabulary_wealth            -0.004934 -0.004934 -0.016529   \n",
      "\n",
      "                     mean_syllables_word  mean_words_sentence  n_sentences  \\\n",
      "time_signature                 -0.074982             0.009839     0.009839   \n",
      "track_number                   -0.023125            -0.023125    -0.023125   \n",
      "energy                          0.068370            -0.011276     0.049990   \n",
      "acousticness                   -0.046263            -0.015982    -0.046174   \n",
      "duration_ms                    -0.006679            -0.020464    -0.009026   \n",
      "...                                  ...                  ...          ...   \n",
      "mean_words_sentence            -0.002004             1.000000    -0.002004   \n",
      "n_sentences                    -0.002004            -0.002004     1.000000   \n",
      "n_words                        -0.004934            -0.004934    -0.004934   \n",
      "sentence_similarity             0.004934             0.004934     0.004934   \n",
      "vocabulary_wealth              -0.004934            -0.004934    -0.004934   \n",
      "\n",
      "                      n_words  sentence_similarity  vocabulary_wealth  \n",
      "time_signature      -0.045383             0.045383          -0.045383  \n",
      "track_number         0.046509            -0.046509           0.046509  \n",
      "energy              -0.029985             0.029985          -0.029985  \n",
      "acousticness         0.080060            -0.080060           0.080060  \n",
      "duration_ms          0.018286            -0.018286           0.018286  \n",
      "...                       ...                  ...                ...  \n",
      "mean_words_sentence -0.004934             0.004934          -0.004934  \n",
      "n_sentences         -0.004934             0.004934          -0.004934  \n",
      "n_words              1.000000            -1.000000           1.000000  \n",
      "sentence_similarity -1.000000             1.000000          -1.000000  \n",
      "vocabulary_wealth    1.000000            -1.000000           1.000000  \n",
      "\n",
      "[622 rows x 622 columns]\n"
     ]
    }
   ],
   "source": [
    "# Get the original column names\n",
    "num_attribs = list(all_data.select_dtypes(include=['float64', 'int64']).columns)\n",
    "cat_attribs = list(all_data.select_dtypes(include=['object']).columns)\n",
    "\n",
    "# Get the transformed column names\n",
    "transformed_num_cols = preprocessor.transformers_[0][2].tolist()\n",
    "transformed_cat_cols = list(preprocessor.named_transformers_['cat']['cat_encoder'].get_feature_names_out(cat_attribs))\n",
    "\n",
    "# Create a mapping of transformed column names to original column names\n",
    "transformed_cols = transformed_num_cols + transformed_cat_cols\n",
    "orig_cols_expanded = []\n",
    "\n",
    "for col in all_data.columns:\n",
    "    if col in cat_attribs:\n",
    "        one_hot_cols = [t_col for t_col in transformed_cat_cols if t_col.startswith(col + \"_\")]\n",
    "        orig_cols_expanded.extend([col] * len(one_hot_cols))\n",
    "    else:\n",
    "        orig_cols_expanded.append(col)\n",
    "\n",
    "col_mapping = dict(zip(transformed_cols, orig_cols_expanded))\n",
    "\n",
    "# Create the correlation matrix\n",
    "corr_matrix = pd.DataFrame(data_prepared, columns=transformed_cols).corr()\n",
    "\n",
    "# Rename the columns of the correlation matrix using the original column names\n",
    "corr_matrix.rename(columns=col_mapping, index=col_mapping, inplace=True)\n",
    "\n",
    "# Print the correlation matrix\n",
    "print(corr_matrix)"
   ]
  },
  {
   "cell_type": "code",
   "execution_count": 274,
   "id": "648affcf-f426-4ece-b983-7d74038f5e56",
   "metadata": {},
   "outputs": [
    {
     "data": {
      "text/plain": [
       "popularity             1.000000\n",
       "album_type             0.610101\n",
       "track_name_prev_y      0.303132\n",
       "speechiness            0.272963\n",
       "album_type             0.266291\n",
       "loudness               0.232791\n",
       "album_type             0.218432\n",
       "energy                 0.188287\n",
       "genres                 0.179179\n",
       "track_number           0.168538\n",
       "acousticness           0.165851\n",
       "duration_ms            0.160368\n",
       "time_signature         0.155012\n",
       "available_markets      0.143343\n",
       "available_markets      0.133801\n",
       "sentence_similarity    0.130998\n",
       "track_name_prev_y      0.130998\n",
       "n_words                0.130998\n",
       "vocabulary_wealth      0.130998\n",
       "track_name_prev_x      0.128739\n",
       "Name: popularity, dtype: float64"
      ]
     },
     "execution_count": 274,
     "metadata": {},
     "output_type": "execute_result"
    }
   ],
   "source": [
    "corr_matrix[\"popularity\"].abs().sort_values(ascending=False)[:20]"
   ]
  },
  {
   "cell_type": "code",
   "execution_count": 275,
   "id": "00a48580-3d39-4fa7-bede-53d266978137",
   "metadata": {},
   "outputs": [
    {
     "data": {
      "text/plain": [
       "0.03380836896383054"
      ]
     },
     "execution_count": 275,
     "metadata": {},
     "output_type": "execute_result"
    }
   ],
   "source": [
    "# This correlation is super low?? I think the imputing fucked up the correlations, we need to check\n",
    "corr_matrix.loc['popularity', 'artist_popularity']"
   ]
  },
  {
   "cell_type": "code",
   "execution_count": null,
   "id": "1f7a70eb-0284-4898-9f75-129af2cb41e8",
   "metadata": {},
   "outputs": [],
   "source": [
    "from scipy.stats import pointbiserialr\n",
    "\n",
    "cat_data = train_data.select_dtypes(include=['object'])\n",
    "\n",
    "# Calculate point-biserial correlation coefficients for each categorical feature\n",
    "for col in cat_data.columns:\n",
    "    # One-hot encode the categorical feature\n",
    "    one_hot = pd.get_dummies(train_data[col], prefix=col)\n",
    "    \n",
    "    # Calculate the point-biserial correlation coefficient for each encoded category\n",
    "    for one_hot_col in one_hot.columns:\n",
    "        coef, p_value = pointbiserialr(train_data['popularity'], one_hot[one_hot_col])\n",
    "        print(f\"Point-biserial correlation between {one_hot_col} and popularity: {coef:.4f} (p-value: {p_value:.4f})\")"
   ]
  },
  {
   "cell_type": "code",
   "execution_count": null,
   "id": "7d3c3167-6845-4668-880f-f25b81758dda",
   "metadata": {},
   "outputs": [],
   "source": []
  }
 ],
 "metadata": {
  "kernelspec": {
   "display_name": "Python 3 (ipykernel)",
   "language": "python",
   "name": "python3"
  },
  "language_info": {
   "codemirror_mode": {
    "name": "ipython",
    "version": 3
   },
   "file_extension": ".py",
   "mimetype": "text/x-python",
   "name": "python",
   "nbconvert_exporter": "python",
   "pygments_lexer": "ipython3",
   "version": "3.9.12"
  }
 },
 "nbformat": 4,
 "nbformat_minor": 5
}
