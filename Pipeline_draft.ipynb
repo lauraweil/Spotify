{
 "cells": [
  {
   "cell_type": "code",
   "execution_count": 2,
   "id": "c8251084-ab33-4e38-ade7-9215512238a5",
   "metadata": {},
   "outputs": [],
   "source": [
    "import pandas as pd "
   ]
  },
  {
   "cell_type": "code",
   "execution_count": 5,
   "id": "04b40240-0b6f-452d-a772-5458d58aade0",
   "metadata": {},
   "outputs": [],
   "source": [
    "tracks = pd.read_csv('SpotGenTrack/Data Sources/spotify_tracks.csv', index_col = 0)\n",
    "albums = pd.read_csv('SpotGenTrack/Data Sources/spotify_albums.csv', index_col = 0)\n",
    "artists = pd.read_csv('SpotGenTrack/Data Sources/spotify_artists.csv', index_col = 0)"
   ]
  },
  {
   "cell_type": "code",
   "execution_count": 8,
   "id": "8b7c19ac-659d-4c9f-9ffa-c1cdfa8aa63b",
   "metadata": {},
   "outputs": [],
   "source": [
    "#correlation threshold?"
   ]
  },
  {
   "cell_type": "markdown",
   "id": "27f73414-4930-4fa2-9cca-a41b5f93fd7c",
   "metadata": {},
   "source": [
    "## Filter Tracks DF"
   ]
  },
  {
   "cell_type": "code",
   "execution_count": 6,
   "id": "f551135b-9354-4543-b54b-5362b711e0ad",
   "metadata": {},
   "outputs": [
    {
     "name": "stderr",
     "output_type": "stream",
     "text": [
      "/var/folders/vg/5yh2xcmn0msf83s5nl8f296r0000gn/T/ipykernel_19259/2920250553.py:1: FutureWarning: The default value of numeric_only in DataFrame.corrwith is deprecated. In a future version, it will default to False. Select only valid columns or specify the value of numeric_only to silence this warning.\n",
      "  tracks.corrwith(tracks[\"popularity\"]).abs().sort_values()\n"
     ]
    },
    {
     "data": {
      "text/plain": [
       "key                 0.000641\n",
       "mode                0.010003\n",
       "valence             0.034412\n",
       "instrumentalness    0.041537\n",
       "disc_number         0.047331\n",
       "liveness            0.059116\n",
       "tempo               0.061869\n",
       "danceability        0.092382\n",
       "time_signature      0.121505\n",
       "track_number        0.139460\n",
       "energy              0.153979\n",
       "acousticness        0.154408\n",
       "duration_ms         0.169125\n",
       "loudness            0.239679\n",
       "speechiness         0.304212\n",
       "popularity          1.000000\n",
       "dtype: float64"
      ]
     },
     "execution_count": 6,
     "metadata": {},
     "output_type": "execute_result"
    }
   ],
   "source": [
    "tracks.corrwith(tracks[\"popularity\"]).abs().sort_values()"
   ]
  },
  {
   "cell_type": "code",
   "execution_count": 7,
   "id": "3f960b00-c3e9-47b5-94ce-1c06cc425443",
   "metadata": {},
   "outputs": [
    {
     "data": {
      "text/plain": [
       "101939"
      ]
     },
     "execution_count": 7,
     "metadata": {},
     "output_type": "execute_result"
    }
   ],
   "source": [
    "len(tracks)"
   ]
  },
  {
   "cell_type": "code",
   "execution_count": 8,
   "id": "61fcc05a-70f4-493a-aed3-88d2e33b00d3",
   "metadata": {},
   "outputs": [
    {
     "data": {
      "text/plain": [
       "Index(['acousticness', 'album_id', 'analysis_url', 'artists_id',\n",
       "       'available_markets', 'country', 'danceability', 'disc_number',\n",
       "       'duration_ms', 'energy', 'href', 'id', 'instrumentalness', 'key',\n",
       "       'liveness', 'loudness', 'lyrics', 'mode', 'name', 'playlist',\n",
       "       'popularity', 'preview_url', 'speechiness', 'tempo', 'time_signature',\n",
       "       'track_href', 'track_name_prev', 'track_number', 'uri', 'valence',\n",
       "       'type'],\n",
       "      dtype='object')"
      ]
     },
     "execution_count": 8,
     "metadata": {},
     "output_type": "execute_result"
    }
   ],
   "source": [
    "tracks.columns"
   ]
  },
  {
   "cell_type": "code",
   "execution_count": 9,
   "id": "3efc9129-7351-4182-9c16-48421e543e09",
   "metadata": {},
   "outputs": [],
   "source": [
    "#rename id to track_id\n",
    "tracks.rename(columns={'id': 'track_id'},inplace=True)"
   ]
  },
  {
   "cell_type": "code",
   "execution_count": 10,
   "id": "bf3b8364-3337-4644-a3f6-1955d178fc5c",
   "metadata": {},
   "outputs": [],
   "source": [
    "include_col_tracks = [\"track_id\",\"time_signature\",\"track_number\",\"energy\",\"acousticness\",\"duration_ms\",\"loudness\",\"speechiness\",\"popularity\", \"album_id\", \"artists_id\"]      "
   ]
  },
  {
   "cell_type": "code",
   "execution_count": 11,
   "id": "f61d41d9-4bdf-4451-9e39-c82e8b0b9609",
   "metadata": {},
   "outputs": [
    {
     "data": {
      "text/plain": [
       "11"
      ]
     },
     "execution_count": 11,
     "metadata": {},
     "output_type": "execute_result"
    }
   ],
   "source": [
    "len(include_col_tracks)"
   ]
  },
  {
   "cell_type": "code",
   "execution_count": 12,
   "id": "91c9a7aa-f50c-4868-a25c-c15c9dd27fd4",
   "metadata": {},
   "outputs": [
    {
     "data": {
      "text/plain": [
       "Index(['track_id', 'time_signature', 'track_number', 'energy', 'acousticness',\n",
       "       'duration_ms', 'loudness', 'speechiness', 'popularity', 'album_id',\n",
       "       'artists_id'],\n",
       "      dtype='object')"
      ]
     },
     "execution_count": 12,
     "metadata": {},
     "output_type": "execute_result"
    }
   ],
   "source": [
    "tracks_filtered = tracks[include_col_tracks]\n",
    "tracks_filtered.columns"
   ]
  },
  {
   "cell_type": "markdown",
   "id": "1b01660f-3d18-49bb-915e-197d62ef9d19",
   "metadata": {},
   "source": [
    "## Filter albums DF"
   ]
  },
  {
   "cell_type": "code",
   "execution_count": 13,
   "id": "6c99e7ab-f872-40b2-8a9f-38903fb2fb04",
   "metadata": {},
   "outputs": [
    {
     "data": {
      "text/plain": [
       "Index(['album_type', 'artist_id', 'available_markets', 'external_urls', 'href',\n",
       "       'id', 'images', 'name', 'release_date', 'release_date_precision',\n",
       "       'total_tracks', 'track_id', 'track_name_prev', 'uri', 'type'],\n",
       "      dtype='object')"
      ]
     },
     "execution_count": 13,
     "metadata": {},
     "output_type": "execute_result"
    }
   ],
   "source": [
    "albums.columns"
   ]
  },
  {
   "cell_type": "code",
   "execution_count": 14,
   "id": "42ef3c8d-0108-4344-9768-da9fda9096d0",
   "metadata": {},
   "outputs": [],
   "source": [
    "albums.rename(columns={'id': 'album_id'},inplace=True)"
   ]
  },
  {
   "cell_type": "code",
   "execution_count": 15,
   "id": "d13580b4-67bc-4ebb-b9fc-d4d04ddbaa85",
   "metadata": {},
   "outputs": [
    {
     "name": "stderr",
     "output_type": "stream",
     "text": [
      "/var/folders/vg/5yh2xcmn0msf83s5nl8f296r0000gn/T/ipykernel_19259/2581811509.py:4: FutureWarning: The default value of numeric_only in DataFrame.corrwith is deprecated. In a future version, it will default to False. Select only valid columns or specify the value of numeric_only to silence this warning.\n",
      "  albums_tracks.corrwith(albums_tracks[\"popularity\"]).abs().sort_values()\n"
     ]
    },
    {
     "data": {
      "text/plain": [
       "key                 0.000641\n",
       "mode                0.010003\n",
       "valence             0.034412\n",
       "instrumentalness    0.041537\n",
       "disc_number         0.047331\n",
       "liveness            0.059116\n",
       "tempo               0.061869\n",
       "danceability        0.092382\n",
       "time_signature      0.121505\n",
       "total_tracks        0.132356\n",
       "track_number        0.139460\n",
       "energy              0.153979\n",
       "acousticness        0.154408\n",
       "duration_ms         0.169125\n",
       "loudness            0.239679\n",
       "speechiness         0.304212\n",
       "popularity          1.000000\n",
       "dtype: float64"
      ]
     },
     "execution_count": 15,
     "metadata": {},
     "output_type": "execute_result"
    }
   ],
   "source": [
    "#albums_tracks = tracks.merge(albums,left_on=\"track_id\",right_on=\"track_id\",how=\"left\")\n",
    "#join on album_id works better\n",
    "albums_tracks = tracks.merge(albums,left_on=\"album_id\",right_on=\"album_id\", how=\"left\")\n",
    "albums_tracks.corrwith(albums_tracks[\"popularity\"]).abs().sort_values()"
   ]
  },
  {
   "cell_type": "code",
   "execution_count": 16,
   "id": "f6acaec7-b396-4e02-8861-bae3bd170649",
   "metadata": {},
   "outputs": [
    {
     "data": {
      "text/plain": [
       "acousticness              0\n",
       "album_id                  0\n",
       "analysis_url              0\n",
       "artists_id                0\n",
       "available_markets_x       0\n",
       "country                   0\n",
       "danceability              0\n",
       "disc_number               0\n",
       "duration_ms               0\n",
       "energy                    0\n",
       "href_x                    0\n",
       "track_id_x                0\n",
       "instrumentalness          0\n",
       "key                       0\n",
       "liveness                  0\n",
       "loudness                  0\n",
       "lyrics                    0\n",
       "mode                      0\n",
       "name_x                    0\n",
       "playlist                  0\n",
       "popularity                0\n",
       "preview_url               0\n",
       "speechiness               0\n",
       "tempo                     0\n",
       "time_signature            0\n",
       "track_href                0\n",
       "track_name_prev_x         0\n",
       "track_number              0\n",
       "uri_x                     0\n",
       "valence                   0\n",
       "type_x                    0\n",
       "album_type                0\n",
       "artist_id                 0\n",
       "available_markets_y       0\n",
       "external_urls             0\n",
       "href_y                    0\n",
       "images                    0\n",
       "name_y                    0\n",
       "release_date              0\n",
       "release_date_precision    0\n",
       "total_tracks              0\n",
       "track_id_y                0\n",
       "track_name_prev_y         0\n",
       "uri_y                     0\n",
       "type_y                    0\n",
       "dtype: int64"
      ]
     },
     "execution_count": 16,
     "metadata": {},
     "output_type": "execute_result"
    }
   ],
   "source": [
    "albums_tracks.isna().sum()"
   ]
  },
  {
   "cell_type": "code",
   "execution_count": 17,
   "id": "596a7517-c132-4f0e-93dc-171614d2ac84",
   "metadata": {},
   "outputs": [],
   "source": [
    "albums_include = ['album_type', 'artist_id', 'available_markets','total_tracks', 'track_id', 'track_name_prev','release_date',\"album_id\"]"
   ]
  },
  {
   "cell_type": "code",
   "execution_count": 18,
   "id": "7da85b7f-60b4-4bca-8c7f-5b9aadd97e7f",
   "metadata": {},
   "outputs": [
    {
     "data": {
      "text/plain": [
       "8"
      ]
     },
     "execution_count": 18,
     "metadata": {},
     "output_type": "execute_result"
    }
   ],
   "source": [
    "len(albums_include)"
   ]
  },
  {
   "cell_type": "code",
   "execution_count": 19,
   "id": "a04fe079-9dea-43b0-9175-d58957a80cfb",
   "metadata": {},
   "outputs": [
    {
     "data": {
      "text/plain": [
       "Index(['album_type', 'artist_id', 'available_markets', 'total_tracks',\n",
       "       'track_id', 'track_name_prev', 'release_date', 'album_id'],\n",
       "      dtype='object')"
      ]
     },
     "execution_count": 19,
     "metadata": {},
     "output_type": "execute_result"
    }
   ],
   "source": [
    "albums_filtered = albums[albums_include]\n",
    "albums_filtered.columns"
   ]
  },
  {
   "cell_type": "code",
   "execution_count": 20,
   "id": "9cdc4037-89b5-4912-85ca-b2da9baf5efc",
   "metadata": {},
   "outputs": [
    {
     "name": "stderr",
     "output_type": "stream",
     "text": [
      "/var/folders/vg/5yh2xcmn0msf83s5nl8f296r0000gn/T/ipykernel_19259/335101616.py:3: FutureWarning: The default value of numeric_only in DataFrame.corrwith is deprecated. In a future version, it will default to False. Select only valid columns or specify the value of numeric_only to silence this warning.\n",
      "  albums_tracks.corrwith(albums_tracks[\"popularity\"]).abs().sort_values()\n"
     ]
    },
    {
     "data": {
      "text/plain": [
       "time_signature    0.121505\n",
       "total_tracks      0.132356\n",
       "track_number      0.139460\n",
       "energy            0.153979\n",
       "acousticness      0.154408\n",
       "duration_ms       0.169125\n",
       "loudness          0.239679\n",
       "speechiness       0.304212\n",
       "popularity        1.000000\n",
       "dtype: float64"
      ]
     },
     "execution_count": 20,
     "metadata": {},
     "output_type": "execute_result"
    }
   ],
   "source": [
    "#albums_tracks = tracks_filtered.merge(albums_filtered,left_on=\"track_id\",right_on=\"track_id\",how=\"left\")\n",
    "albums_tracks = tracks_filtered.merge(albums_filtered,left_on=\"album_id\",right_on=\"album_id\", how=\"left\")\n",
    "albums_tracks.corrwith(albums_tracks[\"popularity\"]).abs().sort_values()"
   ]
  },
  {
   "cell_type": "code",
   "execution_count": 21,
   "id": "de63729b-02dd-4792-8a75-b1ef924d0a60",
   "metadata": {},
   "outputs": [
    {
     "data": {
      "text/plain": [
       "track_id_x           0\n",
       "time_signature       0\n",
       "track_number         0\n",
       "energy               0\n",
       "acousticness         0\n",
       "duration_ms          0\n",
       "loudness             0\n",
       "speechiness          0\n",
       "popularity           0\n",
       "album_id             0\n",
       "artists_id           0\n",
       "album_type           0\n",
       "artist_id            0\n",
       "available_markets    0\n",
       "total_tracks         0\n",
       "track_id_y           0\n",
       "track_name_prev      0\n",
       "release_date         0\n",
       "dtype: int64"
      ]
     },
     "execution_count": 21,
     "metadata": {},
     "output_type": "execute_result"
    }
   ],
   "source": [
    "albums_tracks.isna().sum()"
   ]
  },
  {
   "cell_type": "markdown",
   "id": "0f978037-e73f-4b7c-9dbd-9dd75eba9662",
   "metadata": {},
   "source": [
    "## Artists Filter DF"
   ]
  },
  {
   "cell_type": "code",
   "execution_count": 22,
   "id": "bb52f68b-0918-4997-b8e5-1405f27bff2b",
   "metadata": {},
   "outputs": [
    {
     "data": {
      "text/plain": [
       "Index(['artist_popularity', 'followers', 'genres', 'artist_id_artists', 'name',\n",
       "       'track_id', 'track_name_prev', 'type'],\n",
       "      dtype='object')"
      ]
     },
     "execution_count": 22,
     "metadata": {},
     "output_type": "execute_result"
    }
   ],
   "source": [
    "artists.head()\n",
    "artists.rename(columns={\"id\": \"artist_id_artists\"},inplace=True)\n",
    "artists.columns"
   ]
  },
  {
   "cell_type": "markdown",
   "id": "c6965e06-180e-46ef-be7f-95b7e4ebb66c",
   "metadata": {},
   "source": [
    "## Merge albums, tracks, artists"
   ]
  },
  {
   "cell_type": "code",
   "execution_count": 23,
   "id": "3392dc4b-9cb2-4438-b199-9f6ce1f9a30e",
   "metadata": {},
   "outputs": [],
   "source": [
    "albums_tracks_artistis = albums_tracks.merge(artists, left_on=\"artist_id\",right_on=\"artist_id_artists\",how=\"left\")"
   ]
  },
  {
   "cell_type": "code",
   "execution_count": 24,
   "id": "efb4b389",
   "metadata": {},
   "outputs": [
    {
     "data": {
      "text/plain": [
       "track_id_x             0\n",
       "time_signature         0\n",
       "track_number           0\n",
       "energy                 0\n",
       "acousticness           0\n",
       "duration_ms            0\n",
       "loudness               0\n",
       "speechiness            0\n",
       "popularity             0\n",
       "album_id               0\n",
       "artists_id             0\n",
       "album_type             0\n",
       "artist_id              0\n",
       "available_markets      0\n",
       "total_tracks           0\n",
       "track_id_y             0\n",
       "track_name_prev_x      0\n",
       "release_date           0\n",
       "artist_popularity    795\n",
       "followers            795\n",
       "genres               795\n",
       "artist_id_artists    795\n",
       "name                 795\n",
       "track_id             795\n",
       "track_name_prev_y    795\n",
       "type                 795\n",
       "dtype: int64"
      ]
     },
     "execution_count": 24,
     "metadata": {},
     "output_type": "execute_result"
    }
   ],
   "source": [
    "albums_tracks_artistis.isna().sum()"
   ]
  },
  {
   "cell_type": "code",
   "execution_count": 25,
   "id": "beca6f08-328c-4442-8387-0c1d62e3ac53",
   "metadata": {},
   "outputs": [
    {
     "data": {
      "text/plain": [
       "Index(['track_id_x', 'time_signature', 'track_number', 'energy',\n",
       "       'acousticness', 'duration_ms', 'loudness', 'speechiness', 'popularity',\n",
       "       'album_id', 'artists_id', 'album_type', 'artist_id',\n",
       "       'available_markets', 'total_tracks', 'track_id_y', 'track_name_prev_x',\n",
       "       'release_date', 'artist_popularity', 'followers', 'genres',\n",
       "       'artist_id_artists', 'name', 'track_id', 'track_name_prev_y', 'type'],\n",
       "      dtype='object')"
      ]
     },
     "execution_count": 25,
     "metadata": {},
     "output_type": "execute_result"
    }
   ],
   "source": [
    "albums_tracks_artistis.columns"
   ]
  },
  {
   "cell_type": "code",
   "execution_count": 26,
   "id": "4a82f28c-c92b-499d-a108-53deba5ea063",
   "metadata": {},
   "outputs": [
    {
     "name": "stdout",
     "output_type": "stream",
     "text": [
      "number of rows in merged:  26\n"
     ]
    }
   ],
   "source": [
    "print(\"number of rows in merged: \",(len(albums_tracks_artistis.columns)))"
   ]
  },
  {
   "cell_type": "code",
   "execution_count": 27,
   "id": "1a756322-0060-4135-99d1-0a60e663e469",
   "metadata": {},
   "outputs": [
    {
     "name": "stdout",
     "output_type": "stream",
     "text": [
      "number of rows in merged:  101939\n"
     ]
    }
   ],
   "source": [
    "print(\"number of rows in merged: \",(len(albums_tracks_artistis)))"
   ]
  },
  {
   "cell_type": "markdown",
   "id": "dc721095-25f8-4e48-832d-aec8c2d1d72b",
   "metadata": {},
   "source": [
    "## Lyrics"
   ]
  },
  {
   "cell_type": "code",
   "execution_count": 30,
   "id": "827baf3c-640a-407d-961a-72afcfb0861d",
   "metadata": {},
   "outputs": [],
   "source": [
    "lyrics_features = pd.read_csv('SpotGenTrack/Features Extracted/lyrics_features.csv', index_col = 0)"
   ]
  },
  {
   "cell_type": "code",
   "execution_count": 31,
   "id": "9d9b229c-a61a-4479-afc7-c2fae8d8ff14",
   "metadata": {},
   "outputs": [
    {
     "data": {
      "text/plain": [
       "Index(['mean_syllables_word', 'mean_words_sentence', 'n_sentences', 'n_words',\n",
       "       'sentence_similarity', 'track_id', 'vocabulary_wealth'],\n",
       "      dtype='object')"
      ]
     },
     "execution_count": 31,
     "metadata": {},
     "output_type": "execute_result"
    }
   ],
   "source": [
    "lyrics_features.columns"
   ]
  },
  {
   "cell_type": "code",
   "execution_count": 32,
   "id": "892a2dec-e3ce-4fb7-b9cb-88abadb33e7a",
   "metadata": {},
   "outputs": [],
   "source": [
    "albums_tracks_artistis_lyr = albums_tracks_artistis.merge(lyrics_features,left_on=\"track_id\",right_on=\"track_id\",how=\"left\")"
   ]
  },
  {
   "cell_type": "code",
   "execution_count": 33,
   "id": "a2741e5c-3a54-4a34-b86a-466b38b3f062",
   "metadata": {},
   "outputs": [
    {
     "data": {
      "text/plain": [
       "track_id_x             0\n",
       "time_signature         0\n",
       "track_number           0\n",
       "energy                 0\n",
       "acousticness           0\n",
       "duration_ms            0\n",
       "loudness               0\n",
       "speechiness            0\n",
       "popularity             0\n",
       "album_id               0\n",
       "artists_id             0\n",
       "album_type             0\n",
       "artist_id              0\n",
       "available_markets      0\n",
       "total_tracks           0\n",
       "track_id_y             0\n",
       "track_name_prev_x      0\n",
       "release_date           0\n",
       "artist_popularity    795\n",
       "followers            795\n",
       "genres               795\n",
       "artist_id_artists    795\n",
       "name                 795\n",
       "track_id             795\n",
       "track_name_prev_y    795\n",
       "type                 795\n",
       "dtype: int64"
      ]
     },
     "execution_count": 33,
     "metadata": {},
     "output_type": "execute_result"
    }
   ],
   "source": [
    "albums_tracks_artistis.isnull().sum()"
   ]
  },
  {
   "cell_type": "code",
   "execution_count": 34,
   "id": "2fe63f65-a8a0-487f-adfd-750b42fefe4d",
   "metadata": {},
   "outputs": [
    {
     "name": "stdout",
     "output_type": "stream",
     "text": [
      "32\n"
     ]
    }
   ],
   "source": [
    "print(len(albums_tracks_artistis_lyr.columns))"
   ]
  },
  {
   "cell_type": "code",
   "execution_count": 35,
   "id": "3ed07ce3-5b24-43b7-add7-25cde33baa46",
   "metadata": {},
   "outputs": [
    {
     "name": "stdout",
     "output_type": "stream",
     "text": [
      "101939\n"
     ]
    }
   ],
   "source": [
    "print(len(albums_tracks_artistis_lyr))"
   ]
  },
  {
   "cell_type": "code",
   "execution_count": 36,
   "id": "11040eba-acb9-4bfe-893f-714a03d6a864",
   "metadata": {},
   "outputs": [
    {
     "data": {
      "text/plain": [
       "track_id_x                0\n",
       "time_signature            0\n",
       "track_number              0\n",
       "energy                    0\n",
       "acousticness              0\n",
       "duration_ms               0\n",
       "loudness                  0\n",
       "speechiness               0\n",
       "popularity                0\n",
       "album_id                  0\n",
       "artists_id                0\n",
       "album_type                0\n",
       "artist_id                 0\n",
       "available_markets         0\n",
       "total_tracks              0\n",
       "track_id_y                0\n",
       "track_name_prev_x         0\n",
       "release_date              0\n",
       "artist_popularity       795\n",
       "followers               795\n",
       "genres                  795\n",
       "artist_id_artists       795\n",
       "name                    795\n",
       "track_id                795\n",
       "track_name_prev_y       795\n",
       "type                    795\n",
       "mean_syllables_word    7234\n",
       "mean_words_sentence    7234\n",
       "n_sentences            7234\n",
       "n_words                7234\n",
       "sentence_similarity    7234\n",
       "vocabulary_wealth      7234\n",
       "dtype: int64"
      ]
     },
     "execution_count": 36,
     "metadata": {},
     "output_type": "execute_result"
    }
   ],
   "source": [
    "albums_tracks_artistis_lyr.isna().sum()"
   ]
  },
  {
   "cell_type": "markdown",
   "id": "83bcac7c-1e37-4422-8678-9e54fa55c7a6",
   "metadata": {},
   "source": [
    "## AUDIO"
   ]
  },
  {
   "cell_type": "code",
   "execution_count": 37,
   "id": "941323f8-d4da-453e-8685-9b71f6442618",
   "metadata": {},
   "outputs": [
    {
     "data": {
      "text/html": [
       "<div>\n",
       "<style scoped>\n",
       "    .dataframe tbody tr th:only-of-type {\n",
       "        vertical-align: middle;\n",
       "    }\n",
       "\n",
       "    .dataframe tbody tr th {\n",
       "        vertical-align: top;\n",
       "    }\n",
       "\n",
       "    .dataframe thead th {\n",
       "        text-align: right;\n",
       "    }\n",
       "</style>\n",
       "<table border=\"1\" class=\"dataframe\">\n",
       "  <thead>\n",
       "    <tr style=\"text-align: right;\">\n",
       "      <th></th>\n",
       "      <th>Chroma_1</th>\n",
       "      <th>Chroma_10</th>\n",
       "      <th>Chroma_11</th>\n",
       "      <th>Chroma_12</th>\n",
       "      <th>Chroma_2</th>\n",
       "      <th>Chroma_3</th>\n",
       "      <th>Chroma_4</th>\n",
       "      <th>Chroma_5</th>\n",
       "      <th>Chroma_6</th>\n",
       "      <th>Chroma_7</th>\n",
       "      <th>...</th>\n",
       "      <th>Tonnetz_4</th>\n",
       "      <th>Tonnetz_5</th>\n",
       "      <th>Tonnetz_6</th>\n",
       "      <th>ZCR</th>\n",
       "      <th>entropy_energy</th>\n",
       "      <th>spectral_bandwith</th>\n",
       "      <th>spectral_centroid</th>\n",
       "      <th>spectral_rollOff_max</th>\n",
       "      <th>spectral_rollOff_min</th>\n",
       "      <th>track_id</th>\n",
       "    </tr>\n",
       "  </thead>\n",
       "  <tbody>\n",
       "    <tr>\n",
       "      <th>0</th>\n",
       "      <td>0.438296</td>\n",
       "      <td>0.472769</td>\n",
       "      <td>0.427441</td>\n",
       "      <td>0.436688</td>\n",
       "      <td>0.467697</td>\n",
       "      <td>0.493862</td>\n",
       "      <td>0.512244</td>\n",
       "      <td>0.568658</td>\n",
       "      <td>0.560524</td>\n",
       "      <td>0.513068</td>\n",
       "      <td>...</td>\n",
       "      <td>0.018434</td>\n",
       "      <td>-0.001759</td>\n",
       "      <td>-0.006392</td>\n",
       "      <td>0.067966</td>\n",
       "      <td>-89.113389</td>\n",
       "      <td>2564.247669</td>\n",
       "      <td>3558.400706</td>\n",
       "      <td>4508.506071</td>\n",
       "      <td>367.831109</td>\n",
       "      <td>19YEk4OVQZn3GfoxbpNrU6</td>\n",
       "    </tr>\n",
       "    <tr>\n",
       "      <th>1</th>\n",
       "      <td>0.596605</td>\n",
       "      <td>0.368288</td>\n",
       "      <td>0.285263</td>\n",
       "      <td>0.302211</td>\n",
       "      <td>0.905805</td>\n",
       "      <td>0.510909</td>\n",
       "      <td>0.221708</td>\n",
       "      <td>0.311248</td>\n",
       "      <td>0.491277</td>\n",
       "      <td>0.416469</td>\n",
       "      <td>...</td>\n",
       "      <td>0.046941</td>\n",
       "      <td>0.005665</td>\n",
       "      <td>-0.026928</td>\n",
       "      <td>0.047308</td>\n",
       "      <td>-127.945239</td>\n",
       "      <td>2370.181495</td>\n",
       "      <td>1499.689590</td>\n",
       "      <td>3647.394611</td>\n",
       "      <td>230.165275</td>\n",
       "      <td>6zJms3MX11Qu1IKF44LoRW</td>\n",
       "    </tr>\n",
       "    <tr>\n",
       "      <th>2</th>\n",
       "      <td>0.505224</td>\n",
       "      <td>0.500420</td>\n",
       "      <td>0.506773</td>\n",
       "      <td>0.488258</td>\n",
       "      <td>0.498356</td>\n",
       "      <td>0.573582</td>\n",
       "      <td>0.690761</td>\n",
       "      <td>0.742858</td>\n",
       "      <td>0.686282</td>\n",
       "      <td>0.657118</td>\n",
       "      <td>...</td>\n",
       "      <td>-0.006929</td>\n",
       "      <td>0.004968</td>\n",
       "      <td>0.008947</td>\n",
       "      <td>0.058463</td>\n",
       "      <td>-238.285176</td>\n",
       "      <td>2973.294736</td>\n",
       "      <td>1543.550034</td>\n",
       "      <td>5623.349330</td>\n",
       "      <td>187.290534</td>\n",
       "      <td>1WugzepXsLjnsM0K4UaWYc</td>\n",
       "    </tr>\n",
       "    <tr>\n",
       "      <th>3</th>\n",
       "      <td>0.525690</td>\n",
       "      <td>0.666469</td>\n",
       "      <td>0.579492</td>\n",
       "      <td>0.498920</td>\n",
       "      <td>0.598528</td>\n",
       "      <td>0.631578</td>\n",
       "      <td>0.501693</td>\n",
       "      <td>0.500468</td>\n",
       "      <td>0.587101</td>\n",
       "      <td>0.546499</td>\n",
       "      <td>...</td>\n",
       "      <td>-0.027382</td>\n",
       "      <td>-0.009689</td>\n",
       "      <td>0.001402</td>\n",
       "      <td>0.080547</td>\n",
       "      <td>-148.785733</td>\n",
       "      <td>2716.749483</td>\n",
       "      <td>3017.248824</td>\n",
       "      <td>5799.931595</td>\n",
       "      <td>160.940693</td>\n",
       "      <td>1pSlTbCrUJ9rmwj5CNNrX4</td>\n",
       "    </tr>\n",
       "    <tr>\n",
       "      <th>4</th>\n",
       "      <td>0.632214</td>\n",
       "      <td>0.503698</td>\n",
       "      <td>0.496942</td>\n",
       "      <td>0.611532</td>\n",
       "      <td>0.634613</td>\n",
       "      <td>0.697265</td>\n",
       "      <td>0.557012</td>\n",
       "      <td>0.530836</td>\n",
       "      <td>0.444279</td>\n",
       "      <td>0.466659</td>\n",
       "      <td>...</td>\n",
       "      <td>0.003728</td>\n",
       "      <td>-0.002780</td>\n",
       "      <td>-0.010120</td>\n",
       "      <td>0.084945</td>\n",
       "      <td>-176.618314</td>\n",
       "      <td>3096.692876</td>\n",
       "      <td>2118.686992</td>\n",
       "      <td>6560.018666</td>\n",
       "      <td>229.131948</td>\n",
       "      <td>5yruvWJs3mL00w4slpCVzN</td>\n",
       "    </tr>\n",
       "  </tbody>\n",
       "</table>\n",
       "<p>5 rows × 208 columns</p>\n",
       "</div>"
      ],
      "text/plain": [
       "   Chroma_1  Chroma_10  Chroma_11  Chroma_12  Chroma_2  Chroma_3  Chroma_4  \\\n",
       "0  0.438296   0.472769   0.427441   0.436688  0.467697  0.493862  0.512244   \n",
       "1  0.596605   0.368288   0.285263   0.302211  0.905805  0.510909  0.221708   \n",
       "2  0.505224   0.500420   0.506773   0.488258  0.498356  0.573582  0.690761   \n",
       "3  0.525690   0.666469   0.579492   0.498920  0.598528  0.631578  0.501693   \n",
       "4  0.632214   0.503698   0.496942   0.611532  0.634613  0.697265  0.557012   \n",
       "\n",
       "   Chroma_5  Chroma_6  Chroma_7  ...  Tonnetz_4  Tonnetz_5  Tonnetz_6  \\\n",
       "0  0.568658  0.560524  0.513068  ...   0.018434  -0.001759  -0.006392   \n",
       "1  0.311248  0.491277  0.416469  ...   0.046941   0.005665  -0.026928   \n",
       "2  0.742858  0.686282  0.657118  ...  -0.006929   0.004968   0.008947   \n",
       "3  0.500468  0.587101  0.546499  ...  -0.027382  -0.009689   0.001402   \n",
       "4  0.530836  0.444279  0.466659  ...   0.003728  -0.002780  -0.010120   \n",
       "\n",
       "        ZCR  entropy_energy  spectral_bandwith  spectral_centroid  \\\n",
       "0  0.067966      -89.113389        2564.247669        3558.400706   \n",
       "1  0.047308     -127.945239        2370.181495        1499.689590   \n",
       "2  0.058463     -238.285176        2973.294736        1543.550034   \n",
       "3  0.080547     -148.785733        2716.749483        3017.248824   \n",
       "4  0.084945     -176.618314        3096.692876        2118.686992   \n",
       "\n",
       "   spectral_rollOff_max  spectral_rollOff_min                track_id  \n",
       "0           4508.506071            367.831109  19YEk4OVQZn3GfoxbpNrU6  \n",
       "1           3647.394611            230.165275  6zJms3MX11Qu1IKF44LoRW  \n",
       "2           5623.349330            187.290534  1WugzepXsLjnsM0K4UaWYc  \n",
       "3           5799.931595            160.940693  1pSlTbCrUJ9rmwj5CNNrX4  \n",
       "4           6560.018666            229.131948  5yruvWJs3mL00w4slpCVzN  \n",
       "\n",
       "[5 rows x 208 columns]"
      ]
     },
     "execution_count": 37,
     "metadata": {},
     "output_type": "execute_result"
    }
   ],
   "source": [
    "audio_features = pd.read_csv('SpotGenTrack/Features Extracted/low_level_audio_features.csv', index_col = 0)\n",
    "audio_features.head()"
   ]
  },
  {
   "cell_type": "code",
   "execution_count": 60,
   "id": "1bc7b945",
   "metadata": {},
   "outputs": [],
   "source": [
    "#Dimensionality reduction\n",
    "from sklearn.decomposition import PCA\n",
    "from sklearn.preprocessing import StandardScaler"
   ]
  },
  {
   "cell_type": "code",
   "execution_count": 61,
   "id": "b28c2029",
   "metadata": {},
   "outputs": [
    {
     "name": "stdout",
     "output_type": "stream",
     "text": [
      "                      track_id        PC1       PC2       PC3       PC4  \\\n",
      "0       19YEk4OVQZn3GfoxbpNrU6  -9.373173  1.207779  2.579315  5.509278   \n",
      "1       6zJms3MX11Qu1IKF44LoRW  -4.340399 -4.404526  6.123797 -0.176404   \n",
      "2       1WugzepXsLjnsM0K4UaWYc   2.786318  0.128274 -0.785948 -2.562150   \n",
      "3       1pSlTbCrUJ9rmwj5CNNrX4  14.035909 -8.195006 -0.928468  6.569178   \n",
      "4       5yruvWJs3mL00w4slpCVzN   5.757036 -3.013227  1.666180  2.457010   \n",
      "...                        ...        ...       ...       ...       ...   \n",
      "101904  64iZLIYuqRR8rNedN0Yvnh   7.218389  0.844754 -5.011449  1.988921   \n",
      "101905  0qo0ibv3YoVwJ3jKjpB8lQ  -3.587573  0.517763 -1.047101 -1.839291   \n",
      "101906  1B7tV3WzEnDUS7wXSKDXk3  12.685639 -2.726685 -0.759665  0.255639   \n",
      "101907  7DVr6Az7HukAZeK7v3cGZx  12.616335 -4.502690 -3.434090  6.583917   \n",
      "101908  6Tgjsd4bD8eb74HOTCr6LC  -3.007530  2.915291 -2.026890 -0.163060   \n",
      "\n",
      "             PC5       PC6       PC7       PC8       PC9  ...      PC79  \\\n",
      "0      -3.643796  0.024327 -0.124346  0.494057 -1.159323  ... -0.646636   \n",
      "1      -2.760384  0.780120 -1.145672  3.259061 -2.286285  ... -0.209083   \n",
      "2       1.076181 -2.661136  2.717428 -1.517618 -2.737294  ...  1.238994   \n",
      "3       3.405959 -1.103239 -0.464894  1.204150 -2.233487  ...  0.797855   \n",
      "4      -1.831961 -0.734062 -1.079056  1.493567  0.776521  ...  0.227564   \n",
      "...          ...       ...       ...       ...       ...  ...       ...   \n",
      "101904 -1.894269  2.742174 -1.607690 -2.980781  3.175706  ... -0.663800   \n",
      "101905  2.758876  0.123393  1.039431 -1.310304 -0.843364  ...  0.542585   \n",
      "101906 -3.737880  2.306402 -2.238862  3.688054  0.482657  ...  0.102134   \n",
      "101907  0.080543  1.332761 -3.586888  3.173122  3.188285  ...  0.934699   \n",
      "101908 -3.428598  1.248226  0.810729  0.429435 -0.334058  ... -0.702632   \n",
      "\n",
      "            PC80      PC81      PC82      PC83      PC84      PC85      PC86  \\\n",
      "0      -0.020364  0.317558  0.106963  0.099288  0.372109  0.253148 -0.042244   \n",
      "1      -0.338872 -0.314767 -0.072111 -0.002087  0.866394  0.064408 -0.309439   \n",
      "2      -0.223503  0.853910 -0.026040  1.512267 -0.396584  1.152735 -0.357941   \n",
      "3       0.280554 -0.531856  0.285870 -0.678484  0.273835  0.957807  0.309524   \n",
      "4      -1.569665  0.317801  1.491005 -0.955201  0.654530  0.257634 -0.260955   \n",
      "...          ...       ...       ...       ...       ...       ...       ...   \n",
      "101904  0.191752 -0.539345  0.945966 -0.133697 -0.759957 -0.261204 -1.170833   \n",
      "101905 -0.635972  0.465652 -0.805006 -0.297394 -0.330025 -0.229570  0.049388   \n",
      "101906  1.498023  0.951603  0.268149 -0.385250  0.472319  0.521170 -1.103396   \n",
      "101907 -1.273132 -0.891622  2.001840 -0.966519  1.712238  2.712558  0.030464   \n",
      "101908 -0.098545  0.620337  0.026756 -0.323420 -0.587839  0.099743 -0.364661   \n",
      "\n",
      "            PC87      PC88  \n",
      "0       0.248974  0.116853  \n",
      "1       0.470892  0.074492  \n",
      "2      -0.247228  0.437625  \n",
      "3       0.167825 -0.223587  \n",
      "4      -0.490305 -0.632405  \n",
      "...          ...       ...  \n",
      "101904  0.501105 -0.433215  \n",
      "101905 -0.696586  0.736603  \n",
      "101906  0.344211  0.661390  \n",
      "101907 -0.022177  1.413011  \n",
      "101908 -0.166801 -0.153772  \n",
      "\n",
      "[101909 rows x 89 columns]\n"
     ]
    }
   ],
   "source": [
    "#Separate numeric and string columns (track_id) as PCA can only be performed on numeric columns\n",
    "numeric_columns = audio_features.select_dtypes(include=['number']).columns\n",
    "non_numeric_columns = audio_features.select_dtypes(exclude=['number']).columns\n",
    "\n",
    "numeric_data = audio_features[numeric_columns]\n",
    "non_numeric_data = audio_features[non_numeric_columns]\n",
    "\n",
    "#Standardize numeric data\n",
    "scaler = StandardScaler()\n",
    "scaled_numeric_data = scaler.fit_transform(numeric_data)\n",
    "\n",
    "#Here choose number of columns to which data should be reduced and perform PCA\n",
    "n_components = 10\n",
    "pca = PCA(n_components=n_components)\n",
    "principal_components = pca.fit_transform(scaled_numeric_data)\n",
    "\n",
    "#Reduce to number of components that still explain 95% of the variance\n",
    "pca = PCA(n_components=0.95)\n",
    "\n",
    "principal_components = pca.fit_transform(scaled_numeric_data)\n",
    "n_components = principal_components.shape[1]\n",
    "principal_df = pd.DataFrame(data=principal_components, columns=[f'PC{i}' for i in range(1, n_components+1)])\n",
    "processed_data = pd.concat([non_numeric_data.reset_index(drop=True), principal_df], axis=1)\n",
    "print(processed_data)"
   ]
  },
  {
   "cell_type": "code",
   "execution_count": 62,
   "id": "974c7f9c",
   "metadata": {},
   "outputs": [
    {
     "data": {
      "image/png": "[encoded data removed]",
      "text/plain": [
       "<Figure size 1200x600 with 1 Axes>"
      ]
     },
     "metadata": {},
     "output_type": "display_data"
    }
   ],
   "source": [
    "#Visual representation of explained variance ratio and number of components\n",
    "import matplotlib.pyplot as plt\n",
    "import numpy as np\n",
    "\n",
    "pca_full = PCA()\n",
    "principal_components_full = pca_full.fit_transform(scaled_numeric_data)\n",
    "explained_variance_ratio = pca_full.explained_variance_ratio_\n",
    "cumulative_explained_variance = explained_variance_ratio.cumsum()\n",
    "\n",
    "x = np.arange(1, len(explained_variance_ratio) + 1)\n",
    "\n",
    "plt.figure(figsize=(12, 6))\n",
    "plt.bar(x, explained_variance_ratio, alpha=0.5, align='center', label='Explained variance ratio')\n",
    "plt.step(x, cumulative_explained_variance, where='mid', label='Cumulative explained variance')\n",
    "plt.ylabel('Explained variance ratio')\n",
    "plt.xlabel('Principal components (Dimensions)')\n",
    "plt.legend(loc='best')\n",
    "plt.grid()\n",
    "plt.show()"
   ]
  },
  {
   "cell_type": "code",
   "execution_count": 63,
   "id": "b5db8c58-1eb5-4e21-b2cb-2c5d3e5d5854",
   "metadata": {},
   "outputs": [],
   "source": [
    "albums_tracks_artistis_lyr_audio = albums_tracks_artistis_lyr.merge(processed_data,on=\"track_id\",how=\"left\")"
   ]
  },
  {
   "cell_type": "markdown",
   "id": "16057c7b-b580-4de2-8e4a-3638c39ec8f7",
   "metadata": {},
   "source": [
    "## ALL data DF"
   ]
  },
  {
   "cell_type": "code",
   "execution_count": 39,
   "id": "06e36950-28f1-4959-b826-f95ad09aacc3",
   "metadata": {},
   "outputs": [
    {
     "data": {
      "text/plain": [
       "101939"
      ]
     },
     "execution_count": 39,
     "metadata": {},
     "output_type": "execute_result"
    }
   ],
   "source": [
    "len(albums_tracks_artistis_lyr_audio)"
   ]
  },
  {
   "cell_type": "code",
   "execution_count": 40,
   "id": "0d62056c-c92f-4f18-82cb-230618c6670c",
   "metadata": {},
   "outputs": [
    {
     "data": {
      "text/plain": [
       "(101939, 239)"
      ]
     },
     "execution_count": 40,
     "metadata": {},
     "output_type": "execute_result"
    }
   ],
   "source": [
    "albums_tracks_artistis_lyr_audio.shape"
   ]
  },
  {
   "cell_type": "code",
   "execution_count": 41,
   "id": "4ac66024-210c-4934-a28c-dbc4689fa49e",
   "metadata": {},
   "outputs": [
    {
     "data": {
      "text/plain": [
       "mean_words_sentence    7234\n",
       "vocabulary_wealth      7234\n",
       "sentence_similarity    7234\n",
       "n_words                7234\n",
       "n_sentences            7234\n",
       "mean_syllables_word    7234\n",
       "MEL_86                  827\n",
       "MEL_9                   827\n",
       "MEL_89                  827\n",
       "MEL_88                  827\n",
       "MEL_87                  827\n",
       "MEL_51                  827\n",
       "MEL_85                  827\n",
       "MEL_91                  827\n",
       "MEL_84                  827\n",
       "MEL_83                  827\n",
       "MEL_90                  827\n",
       "MEL_92                  827\n",
       "MEL_81                  827\n",
       "MFCC_10                 827\n",
       "dtype: int64"
      ]
     },
     "execution_count": 41,
     "metadata": {},
     "output_type": "execute_result"
    }
   ],
   "source": [
    "albums_tracks_artistis_lyr_audio.isna().sum().sort_values(ascending=False)[:20]"
   ]
  },
  {
   "cell_type": "code",
   "execution_count": 42,
   "id": "4c73e5a8-9146-45ad-96fd-1c2e91569284",
   "metadata": {},
   "outputs": [
    {
     "data": {
      "text/plain": [
       "(101939, 239)"
      ]
     },
     "execution_count": 42,
     "metadata": {},
     "output_type": "execute_result"
    }
   ],
   "source": [
    "all_data = albums_tracks_artistis_lyr_audio\n",
    "all_data.shape"
   ]
  },
  {
   "cell_type": "code",
   "execution_count": 43,
   "id": "c59277c3-68dc-471e-9138-6b4d8fc00fe4",
   "metadata": {},
   "outputs": [
    {
     "name": "stderr",
     "output_type": "stream",
     "text": [
      "/var/folders/vg/5yh2xcmn0msf83s5nl8f296r0000gn/T/ipykernel_19259/2376672832.py:1: FutureWarning: The default value of numeric_only in DataFrame.corrwith is deprecated. In a future version, it will default to False. Select only valid columns or specify the value of numeric_only to silence this warning.\n",
      "  all_data.corrwith(all_data['popularity']).abs().sort_values(ascending=False)\n"
     ]
    },
    {
     "data": {
      "text/plain": [
       "popularity             1.000000\n",
       "artist_popularity      0.649121\n",
       "speechiness            0.304212\n",
       "followers              0.286363\n",
       "MFCC_1                 0.276906\n",
       "                         ...   \n",
       "MFCC_46                0.006349\n",
       "Chroma_7               0.005228\n",
       "MFCC_38                0.003591\n",
       "MFCC_40                0.003087\n",
       "Spectral_contrast_1    0.001124\n",
       "Length: 224, dtype: float64"
      ]
     },
     "execution_count": 43,
     "metadata": {},
     "output_type": "execute_result"
    }
   ],
   "source": [
    "all_data.corrwith(all_data['popularity']).abs().sort_values(ascending=False)"
   ]
  },
  {
   "cell_type": "code",
   "execution_count": 44,
   "id": "a98ce485-c799-4c4d-b613-5215ae70786f",
   "metadata": {},
   "outputs": [
    {
     "data": {
      "text/plain": [
       "795"
      ]
     },
     "execution_count": 44,
     "metadata": {},
     "output_type": "execute_result"
    }
   ],
   "source": [
    "all_data[\"artist_popularity\"].isna().sum()"
   ]
  },
  {
   "cell_type": "markdown",
   "id": "7077a284-48c0-4da1-a220-93168f0680d1",
   "metadata": {},
   "source": [
    "## Analysis of popularity"
   ]
  },
  {
   "cell_type": "code",
   "execution_count": 45,
   "id": "8eadf4cd-f388-4ae0-9705-672b22746a66",
   "metadata": {},
   "outputs": [
    {
     "data": {
      "image/png": "[encoded data removed]",
      "text/plain": [
       "<Figure size 2000x1500 with 1 Axes>"
      ]
     },
     "metadata": {},
     "output_type": "display_data"
    }
   ],
   "source": [
    "import matplotlib.pyplot as plt\n",
    "\n",
    "\n",
    "tracks[\"popularity\"].hist(bins=50, figsize=(20,15))\n",
    "\n",
    "plt.show()"
   ]
  },
  {
   "cell_type": "code",
   "execution_count": 46,
   "id": "69c404fe-3207-4265-8f27-39071e59ddc1",
   "metadata": {},
   "outputs": [
    {
     "data": {
      "text/plain": [
       "90024                                       Calma - Remix\n",
       "101706                                   Sweet but Psycho\n",
       "100168                            Going Bad (feat. Drake)\n",
       "100625                                               Talk\n",
       "94579                                     i'm so tired...\n",
       "101732                                  MIA (feat. Drake)\n",
       "94452                                          High Hopes\n",
       "89186                         Giant (with Rag'n'Bone Man)\n",
       "100383                                         Adan y Eva\n",
       "89648                                   Baila Baila Baila\n",
       "86219                                   Murder On My Mind\n",
       "91256                                          SICKO MODE\n",
       "92713                                  Let Me Down Slowly\n",
       "92734                                           Please Me\n",
       "93924                  ZEZE (feat. Travis Scott & Offset)\n",
       "93012                                               a lot\n",
       "74129                                            Thotiana\n",
       "90029                                        Desconocidos\n",
       "88504                             Swervin (feat. 6ix9ine)\n",
       "100940    Nothing Breaks Like a Heart (feat. Miley Cyrus)\n",
       "Name: name, dtype: object"
      ]
     },
     "execution_count": 46,
     "metadata": {},
     "output_type": "execute_result"
    }
   ],
   "source": [
    "tracks.sort_values(by=\"popularity\",ascending=False)[\"name\"][:20]"
   ]
  },
  {
   "cell_type": "code",
   "execution_count": 47,
   "id": "173425d9-8ddd-451f-bb5e-22bc07f51d70",
   "metadata": {},
   "outputs": [
    {
     "ename": "NameError",
     "evalue": "name 'all_data_sources' is not defined",
     "output_type": "error",
     "traceback": [
      "\u001b[0;31m---------------------------------------------------------------------------\u001b[0m",
      "\u001b[0;31mNameError\u001b[0m                                 Traceback (most recent call last)",
      "Cell \u001b[0;32mIn[47], line 3\u001b[0m\n\u001b[1;32m      1\u001b[0m \u001b[39m#outliers in label\u001b[39;00m\n\u001b[1;32m      2\u001b[0m \u001b[39mfrom\u001b[39;00m \u001b[39mscipy\u001b[39;00m\u001b[39m.\u001b[39;00m\u001b[39mstats\u001b[39;00m \u001b[39mimport\u001b[39;00m zscore\n\u001b[0;32m----> 3\u001b[0m z_scores \u001b[39m=\u001b[39m zscore(all_data_sources[\u001b[39m'\u001b[39m\u001b[39mpopularity\u001b[39m\u001b[39m'\u001b[39m])\n\u001b[1;32m      4\u001b[0m potential_outliers \u001b[39m=\u001b[39m all_data_sources[(z_scores \u001b[39m>\u001b[39m \u001b[39m3\u001b[39m) \u001b[39m|\u001b[39m (z_scores \u001b[39m<\u001b[39m \u001b[39m-\u001b[39m\u001b[39m3\u001b[39m)]\n\u001b[1;32m      5\u001b[0m potential_outliers[[\u001b[39m\"\u001b[39m\u001b[39mname_track\u001b[39m\u001b[39m\"\u001b[39m,\u001b[39m\"\u001b[39m\u001b[39mpopularity\u001b[39m\u001b[39m\"\u001b[39m]]\n",
      "\u001b[0;31mNameError\u001b[0m: name 'all_data_sources' is not defined"
     ]
    }
   ],
   "source": [
    "#outliers in label\n",
    "from scipy.stats import zscore\n",
    "z_scores = zscore(all_data_sources['popularity'])\n",
    "potential_outliers = all_data_sources[(z_scores > 3) | (z_scores < -3)]\n",
    "potential_outliers[[\"name_track\",\"popularity\"]]"
   ]
  },
  {
   "cell_type": "markdown",
   "id": "9386f1f6-55e9-477f-a816-22c6bb05535b",
   "metadata": {},
   "source": [
    "## prepro pipeline"
   ]
  },
  {
   "cell_type": "markdown",
   "id": "70845917-3684-4db7-80a7-925d29a5060a",
   "metadata": {},
   "source": [
    "#notes for pipeline:\n",
    "- train model with train data \n",
    "- Include categorical columns of track df\n",
    "- Include hanna’s version of audio features df \n",
    "- Drop track id before transforming\n",
    "- After scaling correlations super low- Imputer strategy for artist_popularity \n"
   ]
  },
  {
   "cell_type": "code",
   "execution_count": 48,
   "id": "a25b062a-f738-4133-8985-0c4c8b28af61",
   "metadata": {},
   "outputs": [],
   "source": [
    "import matplotlib.pyplot as plt\n",
    "from sklearn.pipeline import Pipeline\n",
    "from sklearn.impute import SimpleImputer\n",
    "from sklearn.preprocessing import StandardScaler\n",
    "from sklearn.preprocessing import OneHotEncoder\n",
    "from sklearn.compose import ColumnTransformer\n",
    "from sklearn.base import BaseEstimator, TransformerMixin\n",
    "from sklearn.pipeline import FeatureUnion\n",
    "from sklearn.model_selection import train_test_split, cross_val_predict, cross_val_score, KFold\n",
    "from sklearn.metrics import accuracy_score, precision_score, recall_score, confusion_matrix\n",
    "from sklearn.linear_model import LogisticRegressionCV\n",
    "from sklearn.preprocessing import LabelEncoder\n",
    "from sklearn.pipeline import Pipeline\n",
    "from sklearn.preprocessing import StandardScaler\n",
    "from sklearn.pipeline import FeatureUnion\n",
    "from sklearn.base import BaseEstimator, TransformerMixin\n",
    "from sklearn.impute import SimpleImputer"
   ]
  },
  {
   "cell_type": "code",
   "execution_count": 49,
   "id": "7fab99cb-7e08-4c9b-8792-fe67d65ccfee",
   "metadata": {},
   "outputs": [],
   "source": [
    "#define features and labels \n",
    "X = all_data.drop(columns=[\"popularity\"])\n",
    "y = all_data[\"popularity\"]"
   ]
  },
  {
   "cell_type": "code",
   "execution_count": 50,
   "id": "e5e6ae00-8fe6-4108-8fa4-d2c5df560289",
   "metadata": {},
   "outputs": [],
   "source": [
    "#train test split \n",
    "train_data, test_data = train_test_split(all_data, test_size=0.2, random_state=42)"
   ]
  },
  {
   "cell_type": "code",
   "execution_count": 51,
   "id": "ac7f4ff5-a46e-4447-9c92-9efa4f33117d",
   "metadata": {},
   "outputs": [
    {
     "data": {
      "text/plain": [
       "(81551, 239)"
      ]
     },
     "execution_count": 51,
     "metadata": {},
     "output_type": "execute_result"
    }
   ],
   "source": [
    "train_data.shape"
   ]
  },
  {
   "cell_type": "code",
   "execution_count": 52,
   "id": "9f7de779-a160-4e6d-bad6-008ec6b94601",
   "metadata": {},
   "outputs": [],
   "source": [
    "class DataFrameSelector(BaseEstimator, TransformerMixin):\n",
    "    def __init__(self, attribute_names):\n",
    "        self.attribute_names = attribute_names\n",
    "    \n",
    "    def fit(self, X, y=None):\n",
    "        return self\n",
    "    \n",
    "    def transform(self, X):\n",
    "        return X[self.attribute_names]\n",
    "\n",
    "    \n",
    "def get_preprocessor(data):\n",
    "    \n",
    "    num_attribs = data.select_dtypes(include=['float64', 'int64']).columns\n",
    "    cat_attribs = data.select_dtypes(include=['object']).columns\n",
    "    \n",
    "    num_pipeline = Pipeline([\n",
    "            ('selector', DataFrameSelector(num_attribs)),\n",
    "            ('imputer', SimpleImputer(strategy=\"median\")),\n",
    "            ('std_scaler', StandardScaler()),\n",
    "        ])\n",
    "    \n",
    "    cat_pipeline = Pipeline([\n",
    "            ('selector', DataFrameSelector(cat_attribs)),\n",
    "            ('cat_encoder', OneHotEncoder(sparse=False)),\n",
    "        ])\n",
    "    \n",
    "    full_pipeline = ColumnTransformer([\n",
    "        (\"num\", num_pipeline, num_attribs),\n",
    "        (\"cat\", cat_pipeline, cat_attribs),\n",
    "    ])\n",
    "    \n",
    "    return full_pipeline"
   ]
  },
  {
   "cell_type": "code",
   "execution_count": 53,
   "id": "e38502dd-c0a2-4d66-880a-3016e834fe9f",
   "metadata": {},
   "outputs": [],
   "source": [
    "preprocessor = get_preprocessor(train_data)"
   ]
  },
  {
   "cell_type": "code",
   "execution_count": 54,
   "id": "b84f75bf-fcf2-48fb-927d-e937ee1bab08",
   "metadata": {},
   "outputs": [
    {
     "data": {
      "text/plain": [
       "sklearn.compose._column_transformer.ColumnTransformer"
      ]
     },
     "execution_count": 54,
     "metadata": {},
     "output_type": "execute_result"
    }
   ],
   "source": [
    "type(preprocessor)"
   ]
  },
  {
   "cell_type": "code",
   "execution_count": 55,
   "id": "9e618f20-af0d-40a4-817a-25663ddabf76",
   "metadata": {},
   "outputs": [
    {
     "name": "stderr",
     "output_type": "stream",
     "text": [
      "/usr/local/lib/python3.11/site-packages/sklearn/preprocessing/_encoders.py:868: FutureWarning: `sparse` was renamed to `sparse_output` in version 1.2 and will be removed in 1.4. `sparse_output` is ignored unless you leave `sparse` to its default value.\n",
      "  warnings.warn(\n"
     ]
    }
   ],
   "source": [
    "data_prepared = preprocessor.fit_transform(train_data[:500])\n",
    "#for x in data_prepared:\n",
    "#    print(len(x))\n",
    "#now 4700 columns"
   ]
  },
  {
   "cell_type": "code",
   "execution_count": 56,
   "id": "3d34dadb-5de3-412d-9f26-435f7e56ed0c",
   "metadata": {},
   "outputs": [
    {
     "data": {
      "text/plain": [
       "(500, 5057)"
      ]
     },
     "execution_count": 56,
     "metadata": {},
     "output_type": "execute_result"
    }
   ],
   "source": [
    "data_prepared.shape"
   ]
  },
  {
   "cell_type": "markdown",
   "id": "87917623-87ed-4d40-9429-5e5f28d5bd9d",
   "metadata": {},
   "source": [
    "## Check for correlations with (encoded) features"
   ]
  },
  {
   "cell_type": "code",
   "execution_count": 57,
   "id": "3cb5d9ad-ae4f-47ac-a759-85126a2fdf3d",
   "metadata": {},
   "outputs": [
    {
     "name": "stdout",
     "output_type": "stream",
     "text": [
      "            track_id_x  track_id_x  track_id_x  track_id_x  track_id_x  \\\n",
      "track_id_x    1.000000    0.025870    0.221201   -0.106896    0.031829   \n",
      "track_id_x    0.025870    1.000000   -0.197510    0.164361   -0.062149   \n",
      "track_id_x    0.221201   -0.197510    1.000000   -0.684732   -0.129624   \n",
      "track_id_x   -0.106896    0.164361   -0.684732    1.000000    0.104290   \n",
      "track_id_x    0.031829   -0.062149   -0.129624    0.104290    1.000000   \n",
      "...                ...         ...         ...         ...         ...   \n",
      "track_id      0.009839   -0.023125   -0.011276   -0.015982   -0.020464   \n",
      "track_id      0.009839   -0.023125    0.049990   -0.046174   -0.009026   \n",
      "track_id     -0.045383    0.046509   -0.029985    0.080060    0.018286   \n",
      "track_id      0.045383   -0.046509    0.029985   -0.080060   -0.018286   \n",
      "track_id     -0.045383    0.046509   -0.029985    0.080060    0.018286   \n",
      "\n",
      "            track_id_x  track_id_x  track_id_x  track_id_x  track_id_x  ...  \\\n",
      "track_id_x    0.281506   -0.005177    0.155012   -0.107974    0.194667  ...   \n",
      "track_id_x   -0.289985    0.323928   -0.168538    0.659047   -0.003023  ...   \n",
      "track_id_x    0.783228   -0.114038    0.188287   -0.166831    0.176068  ...   \n",
      "track_id_x   -0.561248    0.181591   -0.165851    0.063804   -0.077049  ...   \n",
      "track_id_x   -0.115595    0.169682   -0.160368   -0.083805   -0.131705  ...   \n",
      "...                ...         ...         ...         ...         ...  ...   \n",
      "track_id     -0.004323   -0.013496    0.009586   -0.030027    0.004550  ...   \n",
      "track_id      0.032377   -0.017581    0.014969   -0.030027    0.019617  ...   \n",
      "track_id     -0.020061    0.048260   -0.130998    0.090971    0.011202  ...   \n",
      "track_id      0.020061   -0.048260    0.130998   -0.090971   -0.011202  ...   \n",
      "track_id     -0.020061    0.048260   -0.130998    0.090971    0.011202  ...   \n",
      "\n",
      "            track_id  track_id  track_id  track_id  track_id  track_id  \\\n",
      "track_id_x  0.009839  0.009839  0.009839  0.032965 -0.074982  0.009839   \n",
      "track_id_x -0.023125 -0.023125 -0.009498  0.015909 -0.023125 -0.023125   \n",
      "track_id_x -0.006724 -0.073242  0.037387  0.064534  0.068370 -0.011276   \n",
      "track_id_x -0.022507  0.088680 -0.042650 -0.058831 -0.046263 -0.015982   \n",
      "track_id_x -0.014530 -0.013270 -0.006543 -0.016792 -0.006679 -0.020464   \n",
      "...              ...       ...       ...       ...       ...       ...   \n",
      "track_id   -0.002004 -0.002004 -0.002004 -0.006714 -0.002004  1.000000   \n",
      "track_id   -0.002004 -0.002004 -0.002004 -0.006714 -0.002004 -0.002004   \n",
      "track_id   -0.004934 -0.004934 -0.004934 -0.016529 -0.004934 -0.004934   \n",
      "track_id    0.004934  0.004934  0.004934  0.016529  0.004934  0.004934   \n",
      "track_id   -0.004934 -0.004934 -0.004934 -0.016529 -0.004934 -0.004934   \n",
      "\n",
      "            track_id  track_id  track_id  track_id  \n",
      "track_id_x  0.009839 -0.045383  0.045383 -0.045383  \n",
      "track_id_x -0.023125  0.046509 -0.046509  0.046509  \n",
      "track_id_x  0.049990 -0.029985  0.029985 -0.029985  \n",
      "track_id_x -0.046174  0.080060 -0.080060  0.080060  \n",
      "track_id_x -0.009026  0.018286 -0.018286  0.018286  \n",
      "...              ...       ...       ...       ...  \n",
      "track_id   -0.002004 -0.004934  0.004934 -0.004934  \n",
      "track_id    1.000000 -0.004934  0.004934 -0.004934  \n",
      "track_id   -0.004934  1.000000 -1.000000  1.000000  \n",
      "track_id    0.004934 -1.000000  1.000000 -1.000000  \n",
      "track_id   -0.004934  1.000000 -1.000000  1.000000  \n",
      "\n",
      "[5057 rows x 5057 columns]\n"
     ]
    }
   ],
   "source": [
    "# Get the original column names\n",
    "num_attribs = list(all_data.select_dtypes(include=['float64', 'int64']).columns)\n",
    "cat_attribs = list(all_data.select_dtypes(include=['object']).columns)\n",
    "\n",
    "# Get the transformed column names\n",
    "transformed_num_cols = preprocessor.transformers_[0][2].tolist()\n",
    "transformed_cat_cols = list(preprocessor.named_transformers_['cat']['cat_encoder'].get_feature_names_out(cat_attribs))\n",
    "\n",
    "# Create a mapping of transformed column names to original column names\n",
    "transformed_cols = transformed_num_cols + transformed_cat_cols\n",
    "orig_cols_expanded = []\n",
    "\n",
    "for col in all_data.columns:\n",
    "    if col in cat_attribs:\n",
    "        one_hot_cols = [t_col for t_col in transformed_cat_cols if t_col.startswith(col + \"_\")]\n",
    "        orig_cols_expanded.extend([col] * len(one_hot_cols))\n",
    "    else:\n",
    "        orig_cols_expanded.append(col)\n",
    "\n",
    "col_mapping = dict(zip(transformed_cols, orig_cols_expanded))\n",
    "\n",
    "# Create the correlation matrix\n",
    "corr_matrix = pd.DataFrame(data_prepared, columns=transformed_cols).corr()\n",
    "\n",
    "# Rename the columns of the correlation matrix using the original column names\n",
    "corr_matrix.rename(columns=col_mapping, index=col_mapping, inplace=True)\n",
    "\n",
    "# Print the correlation matrix\n",
    "print(corr_matrix)"
   ]
  },
  {
   "cell_type": "code",
   "execution_count": 58,
   "id": "648affcf-f426-4ece-b983-7d74038f5e56",
   "metadata": {},
   "outputs": [
    {
     "data": {
      "text/plain": [
       "album_id             1.000000\n",
       "popularity           1.000000\n",
       "artists_id           1.000000\n",
       "track_id_y           1.000000\n",
       "track_name_prev_x    1.000000\n",
       "                       ...   \n",
       "track_id_x           0.000523\n",
       "track_id_x           0.000408\n",
       "track_id_x           0.000333\n",
       "track_id_x           0.000081\n",
       "track_id_x           0.000053\n",
       "Name: popularity, Length: 5057, dtype: float64"
      ]
     },
     "execution_count": 58,
     "metadata": {},
     "output_type": "execute_result"
    }
   ],
   "source": [
    "corr_matrix[\"popularity\"].abs().sort_values(ascending=False)"
   ]
  },
  {
   "cell_type": "code",
   "execution_count": 59,
   "id": "00a48580-3d39-4fa7-bede-53d266978137",
   "metadata": {},
   "outputs": [
    {
     "data": {
      "text/plain": [
       "-0.0020040080160320653"
      ]
     },
     "execution_count": 59,
     "metadata": {},
     "output_type": "execute_result"
    }
   ],
   "source": [
    "# This correlation is super low?? I think the imputing fucked up the correlations, we need to check\n",
    "corr_matrix.loc['popularity', 'artist_popularity']"
   ]
  },
  {
   "cell_type": "code",
   "execution_count": null,
   "id": "1f7a70eb-0284-4898-9f75-129af2cb41e8",
   "metadata": {},
   "outputs": [],
   "source": []
  }
 ],
 "metadata": {
  "kernelspec": {
   "display_name": "Python 3 (ipykernel)",
   "language": "python",
   "name": "python3"
  },
  "language_info": {
   "codemirror_mode": {
    "name": "ipython",
    "version": 3
   },
   "file_extension": ".py",
   "mimetype": "text/x-python",
   "name": "python",
   "nbconvert_exporter": "python",
   "pygments_lexer": "ipython3",
   "version": "3.11.2"
  }
 },
 "nbformat": 4,
 "nbformat_minor": 5
}
