{
 "cells": [
  {
   "cell_type": "code",
   "execution_count": 1,
   "metadata": {},
   "outputs": [],
   "source": [
    "#libraries\n",
    "import pandas as pd\n",
    "import numpy as np\n",
    "import seaborn as sns\n",
    "import matplotlib.pyplot as plt\n",
    "from sklearn.decomposition import PCA\n",
    "from sklearn.preprocessing import StandardScaler"
   ]
  },
  {
   "cell_type": "code",
   "execution_count": 58,
   "metadata": {},
   "outputs": [
    {
     "data": {
      "text/plain": [
       "'\\nall_data_sources.isnull().sum()\\n\\ntest_df = pd.DataFrame()\\ntest_df[\"audio_features_track_id\"] = lyrics_features[\"track_id\"]\\ntest_df[\"tracks_track_id\"] = tracks[\"id\"]\\n\\ntest_df[\\'Match\\'] = test_df.apply(lambda x: 1 if x[\\'audio_features_track_id\\'] in x[\\'tracks_track_id\\'] else 0, axis=1)\\n'"
      ]
     },
     "execution_count": 58,
     "metadata": {},
     "output_type": "execute_result"
    }
   ],
   "source": [
    "# Saved for later use\n",
    "'''\n",
    "all_data_sources.isnull().sum()\n",
    "\n",
    "test_df = pd.DataFrame()\n",
    "test_df[\"audio_features_track_id\"] = lyrics_features[\"track_id\"]\n",
    "test_df[\"tracks_track_id\"] = tracks[\"id\"]\n",
    "\n",
    "test_df['Match'] = test_df.apply(lambda x: 1 if x['audio_features_track_id'] in x['tracks_track_id'] else 0, axis=1)\n",
    "'''"
   ]
  },
  {
   "cell_type": "code",
   "execution_count": 2,
   "metadata": {},
   "outputs": [],
   "source": [
    "albums = pd.read_csv('SpotGenTrack/Data Sources/spotify_albums.csv', index_col = 0)\n",
    "artists = pd.read_csv('SpotGenTrack/Data Sources/spotify_artists.csv', index_col = 0)\n",
    "tracks = pd.read_csv('SpotGenTrack/Data Sources/spotify_tracks.csv', index_col = 0)\n",
    "audio_features = pd.read_csv('SpotGenTrack/Features Extracted/low_level_audio_features.csv', index_col = 0)\n",
    "lyrics_features = pd.read_csv('SpotGenTrack/Features Extracted/lyrics_features.csv', index_col = 0)"
   ]
  },
  {
   "cell_type": "markdown",
   "metadata": {},
   "source": [
    "### Dimensionality Reduction"
   ]
  },
  {
   "cell_type": "code",
   "execution_count": 3,
   "metadata": {},
   "outputs": [],
   "source": [
    "#Separate numeric and string columns (track_id) as PCA can only be performed on numeric columns\n",
    "numeric_columns = audio_features.select_dtypes(include=['number']).columns\n",
    "non_numeric_columns = audio_features.select_dtypes(exclude=['number']).columns\n",
    "\n",
    "numeric_data = audio_features[numeric_columns]\n",
    "non_numeric_data = audio_features[non_numeric_columns]\n",
    "\n",
    "#Standardize numeric data\n",
    "scaler = StandardScaler()\n",
    "scaled_numeric_data = scaler.fit_transform(numeric_data)\n",
    "\n",
    "#Redo PCA with number of components that explain 95% of the variance\n",
    "pca = PCA(n_components=0.95)\n",
    "principal_components = pca.fit_transform(scaled_numeric_data)\n",
    "n_components = principal_components.shape[1]\n",
    "principal_df = pd.DataFrame(data=principal_components, columns=[f'PC{i}' for i in range(1, n_components+1)])\n",
    "#changed the name\n",
    "processed_audio_features = pd.concat([non_numeric_data.reset_index(drop=True), principal_df], axis=1)"
   ]
  },
  {
   "cell_type": "markdown",
   "metadata": {},
   "source": [
    "### Pre Processing"
   ]
  },
  {
   "cell_type": "markdown",
   "metadata": {
    "tags": []
   },
   "source": [
    "#### Tracks"
   ]
  },
  {
   "cell_type": "code",
   "execution_count": 4,
   "metadata": {},
   "outputs": [
    {
     "name": "stdout",
     "output_type": "stream",
     "text": [
      "popularity          1.000000\n",
      "speechiness         0.304212\n",
      "loudness            0.239679\n",
      "duration_ms         0.169125\n",
      "acousticness        0.154408\n",
      "energy              0.153979\n",
      "track_number        0.139460\n",
      "time_signature      0.121505\n",
      "danceability        0.092382\n",
      "tempo               0.061869\n",
      "liveness            0.059116\n",
      "disc_number         0.047331\n",
      "instrumentalness    0.041537\n",
      "valence             0.034412\n",
      "mode                0.010003\n",
      "key                 0.000641\n",
      "Name: popularity, dtype: float64\n"
     ]
    }
   ],
   "source": [
    "#check for correlations of numerical features\n",
    "num_attribs = tracks.select_dtypes(include=['float64', 'int64']).columns\n",
    "numerical_corr_matrix = tracks[num_attribs].corr().abs()\n",
    "\n",
    "# Display the correlations between the label (e.g., 'popularity') and other numerical columns\n",
    "label_correlations = numerical_corr_matrix['popularity'].sort_values(ascending=False)\n",
    "print(label_correlations)"
   ]
  },
  {
   "cell_type": "code",
   "execution_count": 5,
   "metadata": {},
   "outputs": [],
   "source": [
    "#include numerical columns with correlation greater than 0.09\n",
    "include_col_tracks = [\"playlist\",\"available_markets\",\"country\",\"album_id\",\"artists_id\",\"id\",\"lyrics\", \"time_signature\",\"track_number\",\"energy\",\"acousticness\",\"duration_ms\",\"loudness\",\"speechiness\",\"danceability\", \"popularity\"]\n",
    "tracks_filtered = tracks[include_col_tracks]"
   ]
  },
  {
   "cell_type": "markdown",
   "metadata": {},
   "source": [
    "#### Albums"
   ]
  },
  {
   "cell_type": "code",
   "execution_count": 6,
   "metadata": {},
   "outputs": [],
   "source": [
    "albums_include = ['type','album_type', 'artist_id', 'available_markets','total_tracks', 'track_id', 'release_date',\"id\"]\n",
    "albums_filtered = albums[albums_include]"
   ]
  },
  {
   "cell_type": "markdown",
   "metadata": {},
   "source": [
    "#### Artists"
   ]
  },
  {
   "cell_type": "code",
   "execution_count": 8,
   "metadata": {},
   "outputs": [],
   "source": [
    "artists_include = ['artist_popularity', 'followers', 'genres', 'id', 'name', 'track_id']\n",
    "artists_filtered = artists[artists_include]"
   ]
  },
  {
   "cell_type": "markdown",
   "metadata": {},
   "source": [
    "### Merging"
   ]
  },
  {
   "cell_type": "code",
   "execution_count": 9,
   "metadata": {},
   "outputs": [],
   "source": [
    "#merge all dataframes\n",
    "all_data_sources = tracks_filtered.merge(albums_filtered, how='left', left_on='album_id', right_on='id', suffixes=('_track','_albums')).merge(artists_filtered, how='left', left_on='artist_id', right_on='id', suffixes=('_track','_artists'))\n",
    "all_data_sources = all_data_sources.merge(processed_audio_features, how=\"left\", left_on=\"id_track\", right_on='track_id', suffixes=('_track','_audio-features')).merge(lyrics_features, how=\"left\", left_on=\"id_track\", right_on='track_id', suffixes=('_tracks','_lyrics-features'))"
   ]
  },
  {
   "cell_type": "code",
   "execution_count": 10,
   "metadata": {},
   "outputs": [
    {
     "data": {
      "text/plain": [
       "playlist                       0\n",
       "available_markets_track        0\n",
       "country                        0\n",
       "album_id                       0\n",
       "artists_id                     0\n",
       "                            ... \n",
       "n_sentences                 6985\n",
       "n_words                     6985\n",
       "sentence_similarity         6985\n",
       "track_id_lyrics-features    6985\n",
       "vocabulary_wealth           6985\n",
       "Length: 126, dtype: int64"
      ]
     },
     "execution_count": 10,
     "metadata": {},
     "output_type": "execute_result"
    }
   ],
   "source": [
    "all_data_sources.isnull().sum()"
   ]
  },
  {
   "cell_type": "code",
   "execution_count": 11,
   "metadata": {},
   "outputs": [
    {
     "data": {
      "text/plain": [
       "popularity           1.000000\n",
       "artist_popularity    0.649121\n",
       "speechiness          0.304212\n",
       "followers            0.286363\n",
       "loudness             0.239679\n",
       "                       ...   \n",
       "PC83                 0.001801\n",
       "PC85                 0.001489\n",
       "PC59                 0.001213\n",
       "PC21                 0.001106\n",
       "PC86                 0.000936\n",
       "Length: 106, dtype: float64"
      ]
     },
     "execution_count": 11,
     "metadata": {},
     "output_type": "execute_result"
    }
   ],
   "source": [
    "all_data = all_data_sources\n",
    "corr_num = all_data.corrwith(all_data['popularity']).abs().sort_values(ascending=False)\n",
    "corr_num"
   ]
  },
  {
   "cell_type": "code",
   "execution_count": 12,
   "metadata": {},
   "outputs": [],
   "source": [
    "all_data.columns.to_list()\n",
    "drop_all = [\"id_track\",\"track_id_track\",\"id_albums\", \"track_id_artists\", \"track_id_tracks\", \"track_id_lyrics-features\", \"album_id\", \"artists_id\", \"lyrics\", \"available_markets_albums\", \"available_markets_track\"]  \n",
    "all_data = all_data.drop(columns=drop_all)"
   ]
  },
  {
   "cell_type": "code",
   "execution_count": 13,
   "metadata": {},
   "outputs": [
    {
     "data": {
      "text/plain": [
       "['playlist',\n",
       " 'country',\n",
       " 'time_signature',\n",
       " 'track_number',\n",
       " 'energy',\n",
       " 'acousticness',\n",
       " 'duration_ms',\n",
       " 'loudness',\n",
       " 'speechiness',\n",
       " 'danceability',\n",
       " 'popularity',\n",
       " 'type',\n",
       " 'album_type',\n",
       " 'artist_id',\n",
       " 'total_tracks',\n",
       " 'release_date',\n",
       " 'artist_popularity',\n",
       " 'followers',\n",
       " 'genres',\n",
       " 'id',\n",
       " 'name',\n",
       " 'PC1',\n",
       " 'PC2',\n",
       " 'PC3',\n",
       " 'PC4',\n",
       " 'PC5',\n",
       " 'PC6',\n",
       " 'PC7',\n",
       " 'PC8',\n",
       " 'PC9',\n",
       " 'PC10',\n",
       " 'PC11',\n",
       " 'PC12',\n",
       " 'PC13',\n",
       " 'PC14',\n",
       " 'PC15',\n",
       " 'PC16',\n",
       " 'PC17',\n",
       " 'PC18',\n",
       " 'PC19',\n",
       " 'PC20',\n",
       " 'PC21',\n",
       " 'PC22',\n",
       " 'PC23',\n",
       " 'PC24',\n",
       " 'PC25',\n",
       " 'PC26',\n",
       " 'PC27',\n",
       " 'PC28',\n",
       " 'PC29',\n",
       " 'PC30',\n",
       " 'PC31',\n",
       " 'PC32',\n",
       " 'PC33',\n",
       " 'PC34',\n",
       " 'PC35',\n",
       " 'PC36',\n",
       " 'PC37',\n",
       " 'PC38',\n",
       " 'PC39',\n",
       " 'PC40',\n",
       " 'PC41',\n",
       " 'PC42',\n",
       " 'PC43',\n",
       " 'PC44',\n",
       " 'PC45',\n",
       " 'PC46',\n",
       " 'PC47',\n",
       " 'PC48',\n",
       " 'PC49',\n",
       " 'PC50',\n",
       " 'PC51',\n",
       " 'PC52',\n",
       " 'PC53',\n",
       " 'PC54',\n",
       " 'PC55',\n",
       " 'PC56',\n",
       " 'PC57',\n",
       " 'PC58',\n",
       " 'PC59',\n",
       " 'PC60',\n",
       " 'PC61',\n",
       " 'PC62',\n",
       " 'PC63',\n",
       " 'PC64',\n",
       " 'PC65',\n",
       " 'PC66',\n",
       " 'PC67',\n",
       " 'PC68',\n",
       " 'PC69',\n",
       " 'PC70',\n",
       " 'PC71',\n",
       " 'PC72',\n",
       " 'PC73',\n",
       " 'PC74',\n",
       " 'PC75',\n",
       " 'PC76',\n",
       " 'PC77',\n",
       " 'PC78',\n",
       " 'PC79',\n",
       " 'PC80',\n",
       " 'PC81',\n",
       " 'PC82',\n",
       " 'PC83',\n",
       " 'PC84',\n",
       " 'PC85',\n",
       " 'PC86',\n",
       " 'PC87',\n",
       " 'PC88',\n",
       " 'mean_syllables_word',\n",
       " 'mean_words_sentence',\n",
       " 'n_sentences',\n",
       " 'n_words',\n",
       " 'sentence_similarity',\n",
       " 'vocabulary_wealth']"
      ]
     },
     "execution_count": 13,
     "metadata": {},
     "output_type": "execute_result"
    }
   ],
   "source": [
    "all_data.columns.to_list()"
   ]
  },
  {
   "cell_type": "markdown",
   "metadata": {},
   "source": [
    "### To Do\n",
    "1. get Dataset with country names and population to calculate the potential listening population then drop available_markets_track. Same for available_markets_albums\n",
    "2. Think about how the lyrics column could be used (top 3 word count? len of the lyrics?)"
   ]
  },
  {
   "cell_type": "markdown",
   "metadata": {},
   "source": [
    "### Pre Pro Pipeline"
   ]
  },
  {
   "cell_type": "code",
   "execution_count": 14,
   "metadata": {},
   "outputs": [],
   "source": [
    "import matplotlib.pyplot as plt\n",
    "from sklearn.pipeline import Pipeline\n",
    "from sklearn.impute import SimpleImputer\n",
    "from sklearn.preprocessing import StandardScaler\n",
    "from sklearn.preprocessing import OneHotEncoder\n",
    "from sklearn.compose import ColumnTransformer\n",
    "from sklearn.base import BaseEstimator, TransformerMixin\n",
    "from sklearn.pipeline import FeatureUnion\n",
    "from sklearn.model_selection import train_test_split, cross_val_predict, cross_val_score, KFold\n",
    "from sklearn.metrics import accuracy_score, precision_score, recall_score, confusion_matrix\n",
    "from sklearn.linear_model import LogisticRegressionCV\n",
    "from sklearn.preprocessing import LabelEncoder\n",
    "from sklearn.pipeline import Pipeline\n",
    "from sklearn.preprocessing import StandardScaler\n",
    "from sklearn.pipeline import FeatureUnion\n",
    "from sklearn.base import BaseEstimator, TransformerMixin\n",
    "from sklearn.impute import SimpleImputer"
   ]
  },
  {
   "cell_type": "code",
   "execution_count": 15,
   "metadata": {},
   "outputs": [],
   "source": [
    "#define features and labels \n",
    "X = all_data.drop(columns=[\"popularity\"])\n",
    "y = all_data[\"popularity\"]"
   ]
  },
  {
   "cell_type": "code",
   "execution_count": 16,
   "metadata": {},
   "outputs": [
    {
     "data": {
      "text/plain": [
       "popularity           1.000000\n",
       "artist_popularity    0.646580\n",
       "followers            0.285169\n",
       "loudness             0.237553\n",
       "PC1                  0.203467\n",
       "                       ...   \n",
       "track_number        -0.134224\n",
       "acousticness        -0.153994\n",
       "duration_ms         -0.164460\n",
       "PC4                 -0.208334\n",
       "speechiness         -0.302021\n",
       "Name: popularity, Length: 106, dtype: float64"
      ]
     },
     "execution_count": 16,
     "metadata": {},
     "output_type": "execute_result"
    }
   ],
   "source": [
    "train_data, test_data = train_test_split(all_data, test_size=0.2, random_state=42)\n",
    "train_data.corr().sort_values(by=\"popularity\",ascending=False)[\"popularity\"]"
   ]
  },
  {
   "cell_type": "code",
   "execution_count": 18,
   "metadata": {},
   "outputs": [],
   "source": [
    "class DataFrameSelector(BaseEstimator, TransformerMixin):\n",
    "    def __init__(self, attribute_names):\n",
    "        self.attribute_names = attribute_names\n",
    "    \n",
    "    def fit(self, X, y=None):\n",
    "        return self\n",
    "    \n",
    "    def transform(self, X):\n",
    "        return X[self.attribute_names]\n",
    "\n",
    "    \n",
    "def get_preprocessor(data):\n",
    "    num_attribs = data.select_dtypes(include=['float64', 'int64']).columns\n",
    "    cat_attribs = data.select_dtypes(include=['object']).columns\n",
    "    \n",
    "    num_pipeline = Pipeline([\n",
    "            ('selector', DataFrameSelector(num_attribs)),\n",
    "            ('imputer', SimpleImputer(strategy=\"median\")),\n",
    "            ('std_scaler', StandardScaler()),\n",
    "        ])\n",
    "    \n",
    "    cat_pipeline = Pipeline([\n",
    "            ('selector', DataFrameSelector(cat_attribs)),\n",
    "            ('cat_encoder', OneHotEncoder(sparse=False)),\n",
    "        ])\n",
    "    \n",
    "    full_pipeline = ColumnTransformer([\n",
    "        (\"num\", num_pipeline, num_attribs),\n",
    "        (\"cat\", cat_pipeline, cat_attribs),\n",
    "    ])\n",
    "    \n",
    "    return full_pipeline\n",
    "\n",
    "def create_prepared_dataframe(data, preprocessor, cat_attribs):\n",
    "    # Get the transformed column names\n",
    "    transformed_num_cols = preprocessor.transformers_[0][2].tolist()\n",
    "    transformed_cat_cols = list(preprocessor.named_transformers_['cat']['cat_encoder'].get_feature_names_out(cat_attribs))\n",
    "    \n",
    "    # Combine the transformed column names\n",
    "    transformed_cols = transformed_num_cols + transformed_cat_cols\n",
    "\n",
    "    # Create a DataFrame with the transformed data and column names\n",
    "    data_prepared = pd.DataFrame(data, columns=transformed_cols)\n",
    "\n",
    "    return data_prepared\n",
    "\n",
    "num_attribs = train_data.select_dtypes(include=['float64', 'int64']).columns\n",
    "cat_attribs = train_data.select_dtypes(include=['object']).columns\n",
    "\n",
    "preprocessor = get_preprocessor(train_data)\n",
    "data_prepared_array = preprocessor.fit_transform(train_data[:500])\n",
    "\n",
    "# Create a DataFrame with original column names\n",
    "data_prepared_df = create_prepared_dataframe(data_prepared_array, preprocessor, cat_attribs)"
   ]
  },
  {
   "cell_type": "code",
   "execution_count": 20,
   "metadata": {},
   "outputs": [
    {
     "data": {
      "text/plain": [
       "popularity             1.000000\n",
       "artist_popularity      0.610101\n",
       "followers              0.266291\n",
       "loudness               0.232791\n",
       "PC1                    0.223500\n",
       "                         ...   \n",
       "genres_['guidance']   -0.179179\n",
       "total_tracks          -0.218432\n",
       "speechiness           -0.272963\n",
       "genres_[]             -0.303132\n",
       "type_album                  NaN\n",
       "Name: popularity, Length: 2704, dtype: float64"
      ]
     },
     "execution_count": 20,
     "metadata": {},
     "output_type": "execute_result"
    }
   ],
   "source": [
    "data_prepared_df.corr()[\"popularity\"].sort_values(ascending=False)"
   ]
  },
  {
   "cell_type": "markdown",
   "metadata": {},
   "source": [
    "#### Model"
   ]
  },
  {
   "cell_type": "code",
   "execution_count": 21,
   "metadata": {},
   "outputs": [
    {
     "ename": "NameError",
     "evalue": "name 'df' is not defined",
     "output_type": "error",
     "traceback": [
      "\u001b[0;31m---------------------------------------------------------------------------\u001b[0m",
      "\u001b[0;31mNameError\u001b[0m                                 Traceback (most recent call last)",
      "Input \u001b[0;32mIn [21]\u001b[0m, in \u001b[0;36m<cell line: 5>\u001b[0;34m()\u001b[0m\n\u001b[1;32m      2\u001b[0m \u001b[38;5;28;01mfrom\u001b[39;00m \u001b[38;5;21;01msklearn\u001b[39;00m\u001b[38;5;21;01m.\u001b[39;00m\u001b[38;5;21;01mensemble\u001b[39;00m \u001b[38;5;28;01mimport\u001b[39;00m RandomForestRegressor\n\u001b[1;32m      3\u001b[0m \u001b[38;5;28;01mfrom\u001b[39;00m \u001b[38;5;21;01mscipy\u001b[39;00m\u001b[38;5;21;01m.\u001b[39;00m\u001b[38;5;21;01mstats\u001b[39;00m \u001b[38;5;28;01mimport\u001b[39;00m randint\n\u001b[0;32m----> 5\u001b[0m X \u001b[38;5;241m=\u001b[39m \u001b[43mdf\u001b[49m\u001b[38;5;241m.\u001b[39mdrop(columns\u001b[38;5;241m=\u001b[39m\u001b[38;5;124m\"\u001b[39m\u001b[38;5;124mpopularity\u001b[39m\u001b[38;5;124m\"\u001b[39m)\n\u001b[1;32m      6\u001b[0m y \u001b[38;5;241m=\u001b[39m df[\u001b[38;5;124m\"\u001b[39m\u001b[38;5;124mpopularity\u001b[39m\u001b[38;5;124m\"\u001b[39m]\n\u001b[1;32m      8\u001b[0m param_distribs \u001b[38;5;241m=\u001b[39m {\n\u001b[1;32m      9\u001b[0m         \u001b[38;5;124m'\u001b[39m\u001b[38;5;124mn_estimators\u001b[39m\u001b[38;5;124m'\u001b[39m: randint(low\u001b[38;5;241m=\u001b[39m\u001b[38;5;241m1\u001b[39m, high\u001b[38;5;241m=\u001b[39m\u001b[38;5;241m200\u001b[39m),\n\u001b[1;32m     10\u001b[0m         \u001b[38;5;124m'\u001b[39m\u001b[38;5;124mmax_features\u001b[39m\u001b[38;5;124m'\u001b[39m: randint(low\u001b[38;5;241m=\u001b[39m\u001b[38;5;241m1\u001b[39m, high\u001b[38;5;241m=\u001b[39m\u001b[38;5;241m8\u001b[39m),\n\u001b[1;32m     11\u001b[0m     }\n",
      "\u001b[0;31mNameError\u001b[0m: name 'df' is not defined"
     ]
    }
   ],
   "source": [
    "from sklearn.model_selection import RandomizedSearchCV\n",
    "from sklearn.ensemble import RandomForestRegressor\n",
    "from scipy.stats import randint\n",
    "\n",
    "X = df.drop(columns=\"popularity\")\n",
    "y = df[\"popularity\"]\n",
    "\n",
    "param_distribs = {\n",
    "        'n_estimators': randint(low=1, high=200),\n",
    "        'max_features': randint(low=1, high=8),\n",
    "    }\n",
    "\n",
    "forest_reg = RandomForestRegressor(random_state=42)\n",
    "rnd_search = RandomizedSearchCV(forest_reg, param_distributions=param_distribs,\n",
    "                                n_iter=10, cv=5, scoring='neg_mean_squared_error', random_state=42, error_score=\"raise\")\n",
    "rnd_search.fit(X, y)"
   ]
  },
  {
   "cell_type": "code",
   "execution_count": null,
   "metadata": {},
   "outputs": [],
   "source": []
  }
 ],
 "metadata": {
  "kernelspec": {
   "display_name": "Python 3 (ipykernel)",
   "language": "python",
   "name": "python3"
  },
  "language_info": {
   "codemirror_mode": {
    "name": "ipython",
    "version": 3
   },
   "file_extension": ".py",
   "mimetype": "text/x-python",
   "name": "python",
   "nbconvert_exporter": "python",
   "pygments_lexer": "ipython3",
   "version": "3.9.12"
  }
 },
 "nbformat": 4,
 "nbformat_minor": 4
}
